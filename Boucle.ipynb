{
  "cells": [
    {
      "cell_type": "markdown",
      "metadata": {},
      "source": [
        "<center>\n",
        "    <img src=\"https://www.simplon.ma/images/Simplon_Maghreb_Rouge.png\" width=\"300\" alt=\"cognitiveclass.ai logo\">\n",
        "</center>\n",
        "\n",
        "# Boucles en Python\n",
        "\n",
        "\n",
        "## Objectifs\n",
        "\n",
        "Après avoir terminé cet atelier, vous serez capable de :\n",
        "\n",
        "*   Travailler avec les instructions de boucles en Python, y compris la boucle for et la boucle while.\n"
      ]
    },
    {
      "cell_type": "markdown",
      "metadata": {},
      "source": [
        "<h1>Boucles en Python</h1>\n"
      ]
    },
    {
      "cell_type": "markdown",
      "metadata": {},
      "source": [
        "<p><strong>Bienvenue !</strong> Ce notebook vous enseignera les boucles dans le langage de programmation Python. À la fin de cet atelier, vous saurez comment utiliser les instructions de boucles en Python, y compris la boucle for et la boucle while.</p>\n"
      ]
    },
    {
      "cell_type": "markdown",
      "metadata": {},
      "source": [
        "<h2>Tableau des matières</h2>\n",
        "<div class=\"alert alert-block alert-info\" style=\"margin-top: 20px\">\n",
        "    <ul>\n",
        "        <li>\n",
        "            <a href=\"#Boucles\">Boucles</a>\n",
        "            <ul>\n",
        "                <li><a href=\"#Plage\">Plage</a></li>\n",
        "                <li><a href=\"#Qu-est-ce-qu-une-boucle-for\">Qu'est-ce qu'une boucle <code>for</code> ?</a></li>\n",
        "                <li><a href=\"#Qu-est-ce-qu-une-boucle-while\">Qu'est-ce qu'une boucle <code>while</code> ?</a></li>\n",
        "            </ul>\n",
        "        </li>\n",
        "        <li>\n",
        "            <a href=\"#Quiz-sur-les-boucles\">Quiz sur les boucles</a>\n",
        "        </li>\n",
        "    </ul>\n",
        "\n",
        "</div>\n",
        "\n",
        "<hr>\n"
      ]
    },
    {
      "cell_type": "markdown",
      "metadata": {},
      "source": [
        "## Boucles\n"
      ]
    },
    {
      "cell_type": "markdown",
      "metadata": {},
      "source": [
        "### Plage\n"
      ]
    },
    {
      "cell_type": "markdown",
      "metadata": {},
      "source": [
        "Parfois, vous pourriez vouloir répéter une opération donnée plusieurs fois. Les exécutions répétées de ce type sont effectuées par des <b>boucles</b>. Nous examinerons deux types de boucles, les boucles <code>for</code> et les boucles <code>while</code>.\n",
        "\n",
        "Avant de discuter des boucles, parlons de l'objet <code>range</code>. Il est utile de considérer l'objet range comme une liste ordonnée. Pour l'instant, regardons le cas le plus simple. Si nous voulons générer un objet contenant des éléments ordonnés de 0 à 2, nous utilisons simplement la commande suivante :\n"
      ]
    },
    {
      "cell_type": "code",
      "execution_count": null,
      "metadata": {},
      "outputs": [],
      "source": [
        "# Utiliser la plage\n",
        "\n",
        "range(3)"
      ]
    },
    {
      "cell_type": "markdown",
      "metadata": {},
      "source": [
        "<img src=\"https://cf-courses-data.s3.us.cloud-object-storage.appdomain.cloud/IBMDeveloperSkillsNetwork-PY0101EN-SkillsNetwork/labs/Module%203/images/range.PNG\" width=\"300\">\n"
      ]
    },
    {
      "cell_type": "markdown",
      "metadata": {},
      "source": [
        "### Qu'est-ce qu'une boucle <code>for</code> ?\n"
      ]
    },
    {
      "cell_type": "markdown",
      "metadata": {},
      "source": [
        "La boucle <code>for</code> vous permet d'exécuter un bloc de code plusieurs fois. Par exemple, vous l'utiliseriez si vous voulez afficher chaque élément d'une liste.\\\n",
        "Essayons d'utiliser une boucle <code>for</code> pour afficher toutes les années présentes dans la liste <code>dates</code> :\n"
      ]
    },
    {
      "cell_type": "markdown",
      "metadata": {},
      "source": [
        "Cela peut être fait comme suit :\n"
      ]
    },
    {
      "cell_type": "code",
      "execution_count": null,
      "metadata": {},
      "outputs": [],
      "source": [
        "# Exemple de boucle for\n",
        "\n",
        "dates = [1982,1980,1973]\n",
        "N = len(dates)\n",
        "\n",
        "for i in range(N):\n",
        "    print(dates[i])     "
      ]
    },
    {
      "cell_type": "markdown",
      "metadata": {},
      "source": [
        "Le code dans l'indentation est exécuté <code>N</code> fois, à chaque fois la valeur de <code>i</code> est augmentée de 1 pour chaque exécution. L'instruction exécutée est d'afficher la valeur dans la liste à l'index <code>i</code> comme montré ici :\n"
      ]
    },
    {
      "cell_type": "markdown",
      "metadata": {},
      "source": [
        "<img src=\"https://cf-courses-data.s3.us.cloud-object-storage.appdomain.cloud/f3bJb12CNd053xJfk1wU2g/LoopsForRangee.gif\" width=\"800\">\n"
      ]
    },
    {
      "cell_type": "markdown",
      "metadata": {},
      "source": [
        "Dans cet exemple, nous pouvons afficher une séquence de nombres de 0 à 7 :\n"
      ]
    },
    {
      "cell_type": "code",
      "execution_count": null,
      "metadata": {},
      "outputs": [],
      "source": [
        "# Exemple de boucle for\n",
        "\n",
        "for i in range(0, 8):\n",
        "    print(i)"
      ]
    },
    {
      "cell_type": "markdown",
      "metadata": {},
      "source": [
        "En Python, nous pouvons directement accéder aux éléments de la liste comme suit :\n"
      ]
    },
    {
      "cell_type": "code",
      "execution_count": null,
      "metadata": {},
      "outputs": [],
      "source": [
        "# Exemple de boucle for, parcourir une liste\n",
        "\n",
        "for year in dates:  \n",
        "    print(year)   "
      ]
    },
    {
      "cell_type": "markdown",
      "metadata": {},
      "source": [
        "À chaque itération, la valeur de la variable <code>year</code> se comporte comme la valeur de <code>dates[i]</code> dans le premier exemple :\n"
      ]
    },
    {
      "cell_type": "markdown",
      "metadata": {},
      "source": [
        "<img src=\"https://cf-courses-data.s3.us.cloud-object-storage.appdomain.cloud/IBMDeveloperSkillsNetwork-PY0101EN-SkillsNetwork/labs/Module%203/images/LoopsForList.gif\" width=\"800\">\n"
      ]
    },
    {
      "cell_type": "markdown",
      "metadata": {},
      "source": [
        "Nous pouvons modifier les éléments d'une liste :\n"
      ]
    },
    {
      "cell_type": "code",
      "execution_count": null,
      "metadata": {},
      "outputs": [],
      "source": [
        "# Utiliser une boucle for pour modifier les éléments d'une liste\n",
        "\n",
        "squares = ['red', 'yellow', 'green', 'purple', 'blue']\n",
        "\n",
        "for i in range(0, 5):\n",
        "    print(\"Avant le carré \", i, 'est',  squares[i])\n",
        "    squares[i] = 'white'\n",
        "    print(\"Après le carré \", i, 'est',  squares[i])"
      ]
    },
    {
      "cell_type": "markdown",
      "metadata": {},
      "source": [
        "Nous pouvons accéder à l'index et aux éléments d'une liste comme suit :\n"
      ]
    },
    {
      "cell_type": "code",
      "execution_count": null,
      "metadata": {},
      "outputs": [],
      "source": [
        "# Parcourir la liste et itérer sur l'index et la valeur de l'élément\n",
        "\n",
        "squares=['red', 'yellow', 'green', 'purple', 'blue']\n",
        "\n",
        "for i, square in enumerate(squares):\n",
        "    print(i, square)"
      ]
    },
    {
      "cell_type": "markdown",
      "metadata": {},
      "source": [
        "### Qu'est-ce qu'une boucle <code>while</code> ?\n"
      ]
    },
    {
      "cell_type": "markdown",
      "metadata": {},
      "source": [
        "Comme vous pouvez le voir, la boucle <code>for</code> est utilisée pour un flux de répétition contrôlé. Cependant, que faire si nous ne savons pas quand arrêter la boucle ? Que faire si nous voulons continuer à exécuter un bloc de code jusqu'à ce qu'une certaine condition soit remplie ? La boucle <code>while</code> existe comme un outil pour une exécution répétée basée sur une condition. Le bloc de code continuera à être exécuté jusqu'à ce que la condition logique donnée retourne une valeur booléenne **False**.\n"
      ]
    },
    {
      "cell_type": "markdown",
      "metadata": {},
      "source": [
        "Disons que nous voulons parcourir la liste <code>dates</code> et nous arrêter à l'année 1973, puis afficher le nombre d'itérations. Cela peut être fait avec le bloc de code suivant :\n"
      ]
    },
    {
      "cell_type": "code",
      "execution_count": null,
      "metadata": {},
      "outputs": [],
      "source": [
        "# Exemple de boucle while\n",
        "\n",
        "dates = [1982, 1980, 1973, 2000]\n",
        "\n",
        "i = 0\n",
        "year = dates[0]\n",
        "\n",
        "while(year != 1973):    \n",
        "    print(year)\n",
        "    i = i + 1\n",
        "    year = dates[i]\n",
        "    \n",
        "\n",
        "print(\"Il a fallu \", i ,\"répétitions pour sortir de la boucle.\")"
      ]
    },
    {
      "cell_type": "markdown",
      "metadata": {},
      "source": [
        "Une boucle while itère jusqu'à ce que la condition dans l'argument ne soit plus remplie, comme montré dans la figure suivante :\n"
      ]
    },
    {
      "cell_type": "markdown",
      "metadata": {},
      "source": [
        "<img src=\"https://cf-courses-data.s3.us.cloud-object-storage.appdomain.cloud/IBMDeveloperSkillsNetwork-PY0101EN-SkillsNetwork/labs/Module%203/images/LoopsWhile.gif\" width=\"650\">\n"
      ]
    },
    {
      "cell_type": "markdown",
      "metadata": {},
      "source": [
        "<hr>\n"
      ]
    },
    {
      "cell_type": "markdown",
      "metadata": {},
      "source": [
        "## Quiz sur les boucles\n"
      ]
    },
    {
      "cell_type": "markdown",
      "metadata": {},
      "source": [
        "Écrivez une boucle <code>for</code> qui affiche tous les éléments entre <b>-5</b> et <b>5</b> en utilisant la fonction range.\n"
      ]
    },
    {
      "cell_type": "code",
      "execution_count": null,
      "metadata": {},
      "outputs": [],
      "source": [
        "# Écrivez votre code ci-dessous et appuyez sur Shift+Enter pour exécuter\n"
      ]
    },
    {
      "cell_type": "markdown",
      "metadata": {},
      "source": [
        "Affichez les éléments de la liste suivante : <code>Genres=['rock', 'R&B', 'Soundtrack', 'R&B', 'soul', 'pop']</code>.\n",
        "Assurez-vous de respecter les conventions Python.\n"
      ]
    },
    {
      "cell_type": "code",
      "execution_count": null,
      "metadata": {},
      "outputs": [],
      "source": [
        "# Écrivez votre code ci-dessous et appuyez sur Shift+Enter pour exécuter\n"
      ]
    },
    {
      "cell_type": "markdown",
      "metadata": {},
      "source": [
        "<hr>\n"
      ]
    },
    {
      "cell_type": "markdown",
      "metadata": {},
      "source": [
        "Écrivez une boucle for qui affiche la liste suivante : <code>squares=['red', 'yellow', 'green', 'purple', 'blue']</code>\n"
      ]
    },
    {
      "cell_type": "code",
      "execution_count": null,
      "metadata": {},
      "outputs": [],
      "source": [
        "# Écrivez votre code ci-dessous et appuyez sur Shift+Enter pour exécuter\n"
      ]
    },
    {
      "cell_type": "markdown",
      "metadata": {},
      "source": [
        "<hr>\n"
      ]
    },
    {
      "cell_type": "markdown",
      "metadata": {},
      "source": [
        "Écrivez une boucle while pour afficher les valeurs de la note d'une liste de lecture d'albums stockée dans la liste <code>PlayListRatings</code>. Si la note est inférieure à 6, sortez de la boucle. La liste <code>PlayListRatings</code> est donnée par : <code>PlayListRatings = [10, 9.5, 10, 8, 7.5, 5, 10, 10]</code>\n"
      ]
    },
    {
      "cell_type": "code",
      "execution_count": null,
      "metadata": {},
      "outputs": [],
      "source": [
        "# Écrivez votre code ci-dessous et appuyez sur Shift+Enter pour exécuter\n"
      ]
    },
    {
      "cell_type": "markdown",
      "metadata": {},
      "source": [
        "Écrivez une boucle while pour copier les chaînes <code>'orange'</code> de la liste <code>squares</code> dans la liste <code>new_squares</code>. Arrêtez et sortez de la boucle si la valeur dans la liste n'est pas <code>'orange'</code> :\n"
      ]
    },
    {
      "cell_type": "code",
      "execution_count": null,
      "metadata": {},
      "outputs": [],
      "source": [
        "# Écrivez votre code ci-dessous et appuyez sur Shift+Enter pour exécuter\n",
        "\n",
        "squares = ['orange', 'orange', 'purple', 'blue ', 'orange']\n",
        "new_squares = []\n"
      ]
    },
    {
      "cell_type": "markdown",
      "metadata": {},
      "source": [
        "<hr>\n",
        "<p>Félicitations ! Vous avez terminé la leçon ainsi que l’atelier pratique sur les boucles\n",
        "<hr>\n"
      ]
    },
    {
      "cell_type": "markdown",
      "metadata": {},
      "source": []
    }
  ],
  "metadata": {
    "kernelspec": {
      "display_name": "Python (Pyodide)",
      "language": "python",
      "name": "python"
    },
    "language_info": {
      "codemirror_mode": {
        "name": "python",
        "version": 3
      },
      "file_extension": ".py",
      "mimetype": "text/x-python",
      "name": "python",
      "nbconvert_exporter": "python",
      "pygments_lexer": "ipython3",
      "version": "3.8"
    },
    "prev_pub_hash": "a1060db62126de0fce31f92b2e5c441a70c9ee63a0be525d6c499113d899b6e3"
  },
  "nbformat": 4,
  "nbformat_minor": 4
}
