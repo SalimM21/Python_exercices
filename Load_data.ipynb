{
  "cells": [
    {
      "cell_type": "markdown",
      "metadata": {},
      "source": [
        "<center>\n",
        "    <img src=\"https://www.simplon.ma/images/Simplon_Maghreb_Rouge.png\" width=\"300\" alt=\"cognitiveclass.ai logo\">\n",
        "</center>\n",
        "\n",
        "# Atelier pratique : Charger des données avec Pandas\n",
        "\n",
        "\n",
        "## Objectifs\n",
        "\n",
        "Après avoir terminé cet atelier, vous serez capable de :\n",
        "\n",
        "*   Utiliser Pandas pour accéder et visualiser des données\n"
      ]
    },
    {
      "cell_type": "markdown",
      "metadata": {},
      "source": [
        "<h2>Tableau des matières</h2>\n",
        "<div class=\"alert alert-block alert-info\" style=\"margin-top: 20px\">\n",
        "    <ul>\n",
        "        <li><a href=\"#About-the-Dataset\">À propos du jeu de données</a></li>\n",
        "        <li><a href=\"#Introduction-of-Pandas\">Introduction à <code>Pandas</code></a></li>\n",
        "        <li><a href=\"#Viewing-Data-and-Accessing-Data\">Visualisation et accès aux données</a></li>\n",
        "        <li><a href=\"#Quiz-on-DataFrame\">Quiz sur les DataFrames</a></li>\n",
        "    </ul>\n",
        "\n",
        "</div>\n",
        "\n",
        "<hr>\n"
      ]
    },
    {
      "cell_type": "markdown",
      "metadata": {},
      "source": [
        "## À propos du jeu de données\n"
      ]
    },
    {
      "cell_type": "markdown",
      "metadata": {},
      "source": [
        "Le tableau comporte une ligne pour chaque produit et plusieurs colonnes.\n",
        "\n",
        "<ul>\n",
        "    <li><b>OrderID</b> : Un identifiant unique pour chaque commande</li>\n",
        "    <li><b>Product</b> : Le nom du produit acheté</li>\n",
        "    <li><b>Category</b> : La catégorie à laquelle appartient le produit (par exemple, Électronique, Mobilier, Papeterie)</li>\n",
        "    <li><b>Quantity</b> : Le nombre d'unités achetées pour ce produit</li>\n",
        "    <li><b>Price</b> : Le prix unitaire du produit</li>\n",
        "    <li><b>Total</b> : Le coût total pour le produit (calculé comme Quantité × Prix)</li>\n",
        "    <li><b>OrderDate</b> : La date à laquelle la commande a été passée</li>\n",
        "    <li><b>CustomerCity</b> : La ville où réside le client</li>\n",
        "    \n",
        "</ul>\n",
        "\n",
        "Vous pouvez voir le jeu de données ici :\n",
        "\n",
        "<font size=\"1\">\n",
        "<table style=\"font-size:medium; border:1px solid black; border-collapse:collapse;\">\n",
        "  <tr>\n",
        "    <th>OrderID</th>\n",
        "    <th>Produit</th>\n",
        "    <th>Catégorie</th>\n",
        "    <th>Quantité</th>\n",
        "    <th>Prix</th>\n",
        "    <th>Total</th>\n",
        "    <th>DateCommande</th>\n",
        "    <th>VilleClient</th>\n",
        "  </tr>\n",
        "  <tr>\n",
        "    <td>1</td>\n",
        "    <td>Ordinateur portable</td>\n",
        "    <td>Électronique</td>\n",
        "    <td>2</td>\n",
        "    <td>800</td>\n",
        "    <td>1600</td>\n",
        "    <td>2022-01-10</td>\n",
        "    <td>New York</td>\n",
        "  </tr>\n",
        "  <tr>\n",
        "    <td>2</td>\n",
        "    <td>Smartphone</td>\n",
        "    <td>Électronique</td>\n",
        "    <td>3</td>\n",
        "    <td>600</td>\n",
        "    <td>1800</td>\n",
        "    <td>2022-02-15</td>\n",
        "    <td>Los Angeles</td>\n",
        "  </tr>\n",
        "  <tr>\n",
        "    <td>3</td>\n",
        "    <td>Chaise de bureau</td>\n",
        "    <td>Mobilier</td>\n",
        "    <td>5</td>\n",
        "    <td>150</td>\n",
        "    <td>750</td>\n",
        "    <td>2022-03-12</td>\n",
        "    <td>Chicago</td>\n",
        "  </tr>\n",
        "  <tr>\n",
        "    <td>4</td>\n",
        "    <td>Cahier</td>\n",
        "    <td>Papeterie</td>\n",
        "    <td>10</td>\n",
        "    <td>2</td>\n",
        "    <td>20</td>\n",
        "    <td>2022-04-05</td>\n",
        "    <td>Houston</td>\n",
        "  </tr>\n",
        "  <tr>\n",
        "    <td>5</td>\n",
        "    <td>Écran</td>\n",
        "    <td>Électronique</td>\n",
        "    <td>1</td>\n",
        "    <td>300</td>\n",
        "    <td>300</td>\n",
        "    <td>2022-05-21</td>\n",
        "    <td>Miami</td>\n",
        "  </tr>\n",
        "</table>\n",
        "</font>\n"
      ]
    },
    {
      "cell_type": "markdown",
      "metadata": {},
      "source": [
        "<hr>\n"
      ]
    },
    {
      "cell_type": "markdown",
      "metadata": {},
      "source": [
        "## Introduction à <code>Pandas</code>\n"
      ]
    },
    {
      "cell_type": "code",
      "execution_count": null,
      "metadata": {},
      "outputs": [],
      "source": [
        "# Dépendance nécessaire pour installer le fichier \n",
        "\n",
        "%pip install xlrd openpyxl"
      ]
    },
    {
      "cell_type": "code",
      "execution_count": null,
      "metadata": {},
      "outputs": [],
      "source": [
        "# Importer la bibliothèque requise\n",
        "\n",
        "import pandas as pd"
      ]
    },
    {
      "cell_type": "markdown",
      "metadata": {},
      "source": [
        "Après la commande d'importation, nous avons maintenant accès à un grand nombre de classes et de fonctions prédéfinies. Cela suppose que la bibliothèque est installée ; dans notre environnement d'atelier, toutes les bibliothèques nécessaires sont installées. Une des façons dont Pandas permet de travailler avec les données est le DataFrame. Passons en revue le processus pour passer d'un fichier de valeurs séparées par des virgules (<b>.csv</b>) à un DataFrame. La variable <code>csv_path</code> stocke le chemin du fichier <b>.csv</b>, qui est utilisé comme argument pour la fonction <code>read_csv</code>. Le résultat est stocké dans l'objet <code>df</code>, qui est une abréviation courante utilisée pour une variable faisant référence à un DataFrame Pandas.\n"
      ]
    },
    {
      "cell_type": "code",
      "execution_count": null,
      "metadata": {},
      "outputs": [],
      "source": [
        "# Lire les données à partir d'un fichier CSV\n",
        "\n",
        "csv_path = 'https://cf-courses-data.s3.us.cloud-object-storage.appdomain.cloud/LXjSAttmoxJfEG6il1Bqfw/Product-sales.csv'\n",
        "df = pd.read_csv(csv_path)"
      ]
    },
    {
      "cell_type": "markdown",
      "metadata": {},
      "source": [
        "Nous pouvons utiliser la méthode <code>head()</code> pour examiner les cinq premières lignes d'un DataFrame :\n"
      ]
    },
    {
      "cell_type": "code",
      "execution_count": null,
      "metadata": {},
      "outputs": [],
      "source": [
        "# Afficher les cinq premières lignes du DataFrame\n",
        "\n",
        "df.head()"
      ]
    },
    {
      "cell_type": "markdown",
      "metadata": {},
      "source": [
        "Nous utilisons le chemin du fichier Excel et la fonction <code>read_excel</code>. Le résultat est un DataFrame comme précédemment :\n"
      ]
    },
    {
      "cell_type": "code",
      "execution_count": null,
      "metadata": {},
      "outputs": [],
      "source": [
        "xlsx_path = 'https://cf-courses-data.s3.us.cloud-object-storage.appdomain.cloud/n9LOuKI9SlUa1b5zkaCMeg/Product-sales.xlsx'\n",
        "df = pd.read_excel(xlsx_path)\n",
        "df.head()"
      ]
    },
    {
      "cell_type": "markdown",
      "metadata": {},
      "source": [
        "Nous pouvons accéder à la colonne <b>Quantité</b> et l'assigner à un nouveau DataFrame <b>x</b> :\n"
      ]
    },
    {
      "cell_type": "code",
      "execution_count": null,
      "metadata": {},
      "outputs": [],
      "source": [
        "# Accéder à la colonne Quantité\n",
        "\n",
        "x = df[['Quantity']]\n",
        "x"
      ]
    },
    {
      "cell_type": "markdown",
      "metadata": {},
      "source": [
        "Le processus est illustré dans la figure :\n"
      ]
    },
    {
      "cell_type": "markdown",
      "metadata": {},
      "source": [
        "<img src=\"https://cf-courses-data.s3.us.cloud-object-storage.appdomain.cloud/CHIJ1eh6tYUzFsmgQIuCSA/1.PNG\" width=\"1150\">\n"
      ]
    },
    {
      "cell_type": "markdown",
      "metadata": {},
      "source": [
        "<hr>\n"
      ]
    },
    {
      "cell_type": "markdown",
      "metadata": {},
      "source": [
        "## Visualisation et accès aux données\n"
      ]
    },
    {
      "cell_type": "markdown",
      "metadata": {},
      "source": [
        "Vous pouvez également obtenir une colonne sous forme de série. Vous pouvez considérer une série Pandas comme un DataFrame à une dimension. Utilisez simplement un seul crochet :\n"
      ]
    },
    {
      "cell_type": "code",
      "execution_count": null,
      "metadata": {},
      "outputs": [],
      "source": [
        "# Obtenir la colonne sous forme de série\n",
        "\n",
        "x = df['Product']\n",
        "x"
      ]
    },
    {
      "cell_type": "markdown",
      "metadata": {},
      "source": [
        "Vous pouvez également obtenir une colonne sous forme de DataFrame. Par exemple, nous pouvons assigner la colonne <b>Quantité</b> :\n"
      ]
    },
    {
      "cell_type": "code",
      "execution_count": null,
      "metadata": {},
      "outputs": [],
      "source": [
        "# Obtenir la colonne sous forme de DataFrame\n",
        "\n",
        "x = df[['Quantity']]\n",
        "type(x)"
      ]
    },
    {
      "cell_type": "markdown",
      "metadata": {},
      "source": [
        "Vous pouvez faire la même chose pour plusieurs colonnes ; il suffit de mettre le nom du DataFrame, dans ce cas, <code>df</code>, et les noms des en-têtes de plusieurs colonnes entre doubles crochets. Le résultat est un nouveau DataFrame constitué des colonnes spécifiées :\n"
      ]
    },
    {
      "cell_type": "code",
      "execution_count": null,
      "metadata": {},
      "outputs": [],
      "source": [
        "# Accéder à plusieurs colonnes\n",
        "\n",
        "y = df[['Product','Category', 'Quantity']]\n",
        "y"
      ]
    },
    {
      "cell_type": "markdown",
      "metadata": {},
      "source": [
        "Le processus est illustré dans la figure :\n"
      ]
    },
    {
      "cell_type": "markdown",
      "metadata": {},
      "source": [
        "<img src=\"https://cf-courses-data.s3.us.cloud-object-storage.appdomain.cloud/BiDzVOrMQbianIz9DMum7A/2.PNG\" width=\"1100\">\n"
      ]
    },
    {
      "cell_type": "markdown",
      "metadata": {},
      "source": [
        "Une façon d'accéder à des éléments uniques est la méthode <code>iloc</code>, où vous pouvez accéder à la première ligne et à la première colonne comme suit :\n"
      ]
    },
    {
      "cell_type": "code",
      "execution_count": null,
      "metadata": {},
      "outputs": [],
      "source": [
        "# Accéder à la valeur de la première ligne et de la première colonne\n",
        "\n",
        "df.iloc[0, 0]"
      ]
    },
    {
      "cell_type": "markdown",
      "metadata": {},
      "source": [
        "Vous pouvez accéder à la deuxième ligne et à la première colonne comme suit :\n"
      ]
    },
    {
      "cell_type": "code",
      "execution_count": null,
      "metadata": {},
      "outputs": [],
      "source": [
        "# Accéder à la valeur de la deuxième ligne et de la première colonne\n",
        "\n",
        "df.iloc[1,0]"
      ]
    },
    {
      "cell_type": "markdown",
      "metadata": {},
      "source": [
        "Vous pouvez accéder à la première ligne et à la troisième colonne comme suit :\n"
      ]
    },
    {
      "cell_type": "code",
      "execution_count": null,
      "metadata": {},
      "outputs": [],
      "source": [
        "# Accéder à la valeur de la première ligne et de la troisième colonne\n",
        "\n",
        "df.iloc[0,2]"
      ]
    },
    {
      "cell_type": "code",
      "execution_count": null,
      "metadata": {},
      "outputs": [],
      "source": [
        "# Accéder à la valeur de la deuxième ligne et de la troisième colonne\n",
        "df.iloc[1,2]"
      ]
    },
    {
      "cell_type": "code",
      "execution_count": null,
      "metadata": {},
      "outputs": [],
      "source": []
    },
    {
      "cell_type": "markdown",
      "metadata": {},
      "source": [
        "Ceci est illustré dans l'image suivante\n"
      ]
    },
    {
      "cell_type": "markdown",
      "metadata": {},
      "source": [
        "<img src=\"https://cf-courses-data.s3.us.cloud-object-storage.appdomain.cloud/npw0rMu2hutg8MdOz4t_Kw/3.PNG\" width=\"750\">\n"
      ]
    },
    {
      "cell_type": "markdown",
      "metadata": {},
      "source": [
        "Vous pouvez également accéder à la colonne en utilisant son nom, les opérations suivantes sont équivalentes à celles ci-dessus :\n"
      ]
    },
    {
      "cell_type": "code",
      "execution_count": null,
      "metadata": {},
      "outputs": [],
      "source": [
        "# Accéder à la colonne en utilisant le nom\n",
        "\n",
        "df.loc[0, 'Product']"
      ]
    },
    {
      "cell_type": "code",
      "execution_count": null,
      "metadata": {},
      "outputs": [],
      "source": [
        "# Accéder à la colonne en utilisant le nom\n",
        "\n",
        "df.loc[1, 'Product']"
      ]
    },
    {
      "cell_type": "code",
      "execution_count": null,
      "metadata": {},
      "outputs": [],
      "source": [
        "# Accéder à la colonne en utilisant le nom\n",
        "\n",
        "df.loc[1, 'CustomerCity']"
      ]
    },
    {
      "cell_type": "code",
      "execution_count": null,
      "metadata": {},
      "outputs": [],
      "source": [
        "# Accéder à la colonne en utilisant le nom\n",
        "\n",
        "df.loc[1, 'Total']"
      ]
    },
    {
      "cell_type": "markdown",
      "metadata": {},
      "source": [
        "<img src=\"https://cf-courses-data.s3.us.cloud-object-storage.appdomain.cloud/TR4-yEJdBj9NyQa5rlL6mg/4.PNG\" width=\"750\">\n"
      ]
    },
    {
      "cell_type": "markdown",
      "metadata": {},
      "source": [
        "Vous pouvez effectuer un découpage (slicing) en utilisant à la fois l'index et le nom de la colonne :\n"
      ]
    },
    {
      "cell_type": "code",
      "execution_count": null,
      "metadata": {},
      "outputs": [],
      "source": [
        "# Découper le DataFrame\n",
        "\n",
        "df.iloc[0:2, 0:3]"
      ]
    },
    {
      "cell_type": "markdown",
      "metadata": {},
      "source": [
        "<img src=\"https://cf-courses-data.s3.us.cloud-object-storage.appdomain.cloud/iyo_KV6ejpqgDxCcd3M1wg/5.PNG\" width=\"950\">\n"
      ]
    },
    {
      "cell_type": "code",
      "execution_count": null,
      "metadata": {},
      "outputs": [],
      "source": [
        "# Découper le DataFrame en utilisant le nom\n",
        "\n",
        "df.loc[0:2, 'OrderID':'Category']"
      ]
    },
    {
      "cell_type": "markdown",
      "metadata": {},
      "source": [
        "<img src=\"https://cf-courses-data.s3.us.cloud-object-storage.appdomain.cloud/88vCcZQ8N4W_R7WyKoqoAA/6.PNG\" width=\"750\">\n"
      ]
    },
    {
      "cell_type": "markdown",
      "metadata": {},
      "source": [
        "<hr>\n"
      ]
    },
    {
      "cell_type": "markdown",
      "metadata": {},
      "source": [
        "## Quiz sur les DataFrames\n"
      ]
    },
    {
      "cell_type": "markdown",
      "metadata": {},
      "source": [
        "Utilisez une variable <code>q</code> pour stocker la colonne <b>Prix</b> sous forme de DataFrame\n"
      ]
    },
    {
      "cell_type": "code",
      "execution_count": null,
      "metadata": {},
      "outputs": [],
      "source": [
        "# Écrivez votre code ci-dessous et appuyez sur Shift+Enter pour exécuter\n"
      ]
    },
    {
      "cell_type": "markdown",
      "metadata": {},
      "source": [
        "Assignez la variable <code>q</code> au DataFrame constitué des colonnes <b>Produit</b> et <b>Catégorie</b> :\n"
      ]
    },
    {
      "cell_type": "code",
      "execution_count": null,
      "metadata": {},
      "outputs": [],
      "source": [
        "# Écrivez votre code ci-dessous et appuyez sur Shift+Enter pour exécuter\n",
        "\n",
        " "
      ]
    },
    {
      "cell_type": "markdown",
      "metadata": {},
      "source": [
        "Accédez à la deuxième ligne et à la troisième colonne de <code>df</code> :\n"
      ]
    },
    {
      "cell_type": "code",
      "execution_count": null,
      "metadata": {},
      "outputs": [],
      "source": [
        "# Écrivez votre code ci-dessous et appuyez sur Shift+Enter pour exécuter\n"
      ]
    },
    {
      "cell_type": "markdown",
      "metadata": {},
      "source": [
        "Utilisez la liste suivante pour convertir l'index du DataFrame <code>df</code> en caractères et assignez-le à <code>df_new</code> ; trouvez l'élément correspondant à l'index de ligne <code>a</code> et à la colonne <code>VilleClient</code>. Ensuite, sélectionnez les lignes de <code>a</code> à <code>d</code> pour la colonne <code>VilleClient</code>\n"
      ]
    },
    {
      "cell_type": "code",
      "execution_count": null,
      "metadata": {},
      "outputs": [],
      "source": [
        "new_index=['a','b','c','d','e']\n",
        "\n"
      ]
    },
    {
      "cell_type": "markdown",
      "metadata": {},
      "source": [
        "<hr>\n",
        "<p>Félicitations ! Vous avez terminé la leçon ainsi que l’atelier pratique sur la manipulation de données avec Pandas.\n",
        "<hr>\n"
      ]
    },
    {
      "cell_type": "code",
      "execution_count": null,
      "metadata": {},
      "outputs": [],
      "source": []
    }
  ],
  "metadata": {
    "kernelspec": {
      "display_name": "Python (Pyodide)",
      "language": "python",
      "name": "python"
    },
    "language_info": {
      "codemirror_mode": {
        "name": "python",
        "version": 3
      },
      "file_extension": ".py",
      "mimetype": "text/x-python",
      "name": "python",
      "nbconvert_exporter": "python",
      "pygments_lexer": "ipython3",
      "version": "3.8"
    },
    "prev_pub_hash": "5297968995c02bb4cb6ee20e4aaed9ec08a6a69074102aa441f27b39cbc20a3b"
  },
  "nbformat": 4,
  "nbformat_minor": 4
}
