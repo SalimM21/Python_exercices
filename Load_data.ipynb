{
  "cells": [
    {
      "cell_type": "markdown",
      "metadata": {},
      "source": [
        "<center>\n",
        "    <img src=\"https://www.simplon.ma/images/Simplon_Maghreb_Rouge.png\" width=\"300\" alt=\"cognitiveclass.ai logo\">\n",
        "</center>\n",
        "\n",
        "# Atelier pratique : Charger des données avec Pandas\n",
        "\n",
        "\n",
        "## Objectifs\n",
        "\n",
        "Après avoir terminé cet atelier, vous serez capable de :\n",
        "\n",
        "*   Utiliser Pandas pour accéder et visualiser des données\n"
      ]
    },
    {
      "cell_type": "markdown",
      "metadata": {},
      "source": [
        "<h2>Tableau des matières</h2>\n",
        "<div class=\"alert alert-block alert-info\" style=\"margin-top: 20px\">\n",
        "    <ul>\n",
        "        <li><a href=\"#About-the-Dataset\">À propos du jeu de données</a></li>\n",
        "        <li><a href=\"#Introduction-of-Pandas\">Introduction à <code>Pandas</code></a></li>\n",
        "        <li><a href=\"#Viewing-Data-and-Accessing-Data\">Visualisation et accès aux données</a></li>\n",
        "        <li><a href=\"#Quiz-on-DataFrame\">Quiz sur les DataFrames</a></li>\n",
        "    </ul>\n",
        "\n",
        "</div>\n",
        "\n",
        "<hr>\n"
      ]
    },
    {
      "cell_type": "markdown",
      "metadata": {},
      "source": [
        "## À propos du jeu de données\n"
      ]
    },
    {
      "cell_type": "markdown",
      "metadata": {},
      "source": [
        "Le tableau comporte une ligne pour chaque produit et plusieurs colonnes.\n",
        "\n",
        "<ul>\n",
        "    <li><b>OrderID</b> : Un identifiant unique pour chaque commande</li>\n",
        "    <li><b>Product</b> : Le nom du produit acheté</li>\n",
        "    <li><b>Category</b> : La catégorie à laquelle appartient le produit (par exemple, Électronique, Mobilier, Papeterie)</li>\n",
        "    <li><b>Quantity</b> : Le nombre d'unités achetées pour ce produit</li>\n",
        "    <li><b>Price</b> : Le prix unitaire du produit</li>\n",
        "    <li><b>Total</b> : Le coût total pour le produit (calculé comme Quantité × Prix)</li>\n",
        "    <li><b>OrderDate</b> : La date à laquelle la commande a été passée</li>\n",
        "    <li><b>CustomerCity</b> : La ville où réside le client</li>\n",
        "    \n",
        "</ul>\n",
        "\n",
        "Vous pouvez voir le jeu de données ici :\n",
        "\n",
        "<font size=\"1\">\n",
        "<table style=\"font-size:medium; border:1px solid black; border-collapse:collapse;\">\n",
        "  <tr>\n",
        "    <th>OrderID</th>\n",
        "    <th>Produit</th>\n",
        "    <th>Catégorie</th>\n",
        "    <th>Quantité</th>\n",
        "    <th>Prix</th>\n",
        "    <th>Total</th>\n",
        "    <th>DateCommande</th>\n",
        "    <th>VilleClient</th>\n",
        "  </tr>\n",
        "  <tr>\n",
        "    <td>1</td>\n",
        "    <td>Ordinateur portable</td>\n",
        "    <td>Électronique</td>\n",
        "    <td>2</td>\n",
        "    <td>800</td>\n",
        "    <td>1600</td>\n",
        "    <td>2022-01-10</td>\n",
        "    <td>New York</td>\n",
        "  </tr>\n",
        "  <tr>\n",
        "    <td>2</td>\n",
        "    <td>Smartphone</td>\n",
        "    <td>Électronique</td>\n",
        "    <td>3</td>\n",
        "    <td>600</td>\n",
        "    <td>1800</td>\n",
        "    <td>2022-02-15</td>\n",
        "    <td>Los Angeles</td>\n",
        "  </tr>\n",
        "  <tr>\n",
        "    <td>3</td>\n",
        "    <td>Chaise de bureau</td>\n",
        "    <td>Mobilier</td>\n",
        "    <td>5</td>\n",
        "    <td>150</td>\n",
        "    <td>750</td>\n",
        "    <td>2022-03-12</td>\n",
        "    <td>Chicago</td>\n",
        "  </tr>\n",
        "  <tr>\n",
        "    <td>4</td>\n",
        "    <td>Cahier</td>\n",
        "    <td>Papeterie</td>\n",
        "    <td>10</td>\n",
        "    <td>2</td>\n",
        "    <td>20</td>\n",
        "    <td>2022-04-05</td>\n",
        "    <td>Houston</td>\n",
        "  </tr>\n",
        "  <tr>\n",
        "    <td>5</td>\n",
        "    <td>Écran</td>\n",
        "    <td>Électronique</td>\n",
        "    <td>1</td>\n",
        "    <td>300</td>\n",
        "    <td>300</td>\n",
        "    <td>2022-05-21</td>\n",
        "    <td>Miami</td>\n",
        "  </tr>\n",
        "</table>\n",
        "</font>\n"
      ]
    },
    {
      "cell_type": "markdown",
      "metadata": {},
      "source": [
        "<hr>\n"
      ]
    },
    {
      "cell_type": "markdown",
      "metadata": {},
      "source": [
        "## Introduction à <code>Pandas</code>\n"
      ]
    },
    {
      "cell_type": "code",
      "execution_count": 1,
      "metadata": {},
      "outputs": [
        {
          "name": "stdout",
          "output_type": "stream",
          "text": [
            "Collecting xlrd\n",
            "  Downloading xlrd-2.0.2-py2.py3-none-any.whl.metadata (3.5 kB)\n",
            "Collecting openpyxl\n",
            "  Downloading openpyxl-3.1.5-py2.py3-none-any.whl.metadata (2.5 kB)\n",
            "Collecting et-xmlfile (from openpyxl)\n",
            "  Downloading et_xmlfile-2.0.0-py3-none-any.whl.metadata (2.7 kB)\n",
            "Downloading xlrd-2.0.2-py2.py3-none-any.whl (96 kB)\n",
            "Downloading openpyxl-3.1.5-py2.py3-none-any.whl (250 kB)\n",
            "Downloading et_xmlfile-2.0.0-py3-none-any.whl (18 kB)\n",
            "Installing collected packages: xlrd, et-xmlfile, openpyxl\n",
            "\n",
            "   ---------------------------------------- 0/3 [xlrd]\n",
            "   ---------------------------------------- 0/3 [xlrd]\n",
            "   ------------- -------------------------- 1/3 [et-xmlfile]\n",
            "   -------------------------- ------------- 2/3 [openpyxl]\n",
            "   -------------------------- ------------- 2/3 [openpyxl]\n",
            "   -------------------------- ------------- 2/3 [openpyxl]\n",
            "   -------------------------- ------------- 2/3 [openpyxl]\n",
            "   -------------------------- ------------- 2/3 [openpyxl]\n",
            "   -------------------------- ------------- 2/3 [openpyxl]\n",
            "   -------------------------- ------------- 2/3 [openpyxl]\n",
            "   -------------------------- ------------- 2/3 [openpyxl]\n",
            "   -------------------------- ------------- 2/3 [openpyxl]\n",
            "   -------------------------- ------------- 2/3 [openpyxl]\n",
            "   -------------------------- ------------- 2/3 [openpyxl]\n",
            "   -------------------------- ------------- 2/3 [openpyxl]\n",
            "   -------------------------- ------------- 2/3 [openpyxl]\n",
            "   -------------------------- ------------- 2/3 [openpyxl]\n",
            "   -------------------------- ------------- 2/3 [openpyxl]\n",
            "   -------------------------- ------------- 2/3 [openpyxl]\n",
            "   -------------------------- ------------- 2/3 [openpyxl]\n",
            "   -------------------------- ------------- 2/3 [openpyxl]\n",
            "   -------------------------- ------------- 2/3 [openpyxl]\n",
            "   -------------------------- ------------- 2/3 [openpyxl]\n",
            "   ---------------------------------------- 3/3 [openpyxl]\n",
            "\n",
            "Successfully installed et-xmlfile-2.0.0 openpyxl-3.1.5 xlrd-2.0.2\n",
            "Note: you may need to restart the kernel to use updated packages.\n"
          ]
        }
      ],
      "source": [
        "# Dépendance nécessaire pour installer le fichier \n",
        "\n",
        "%pip install xlrd openpyxl"
      ]
    },
    {
      "cell_type": "code",
      "execution_count": 2,
      "metadata": {},
      "outputs": [],
      "source": [
        "# Importer la bibliothèque requise\n",
        "\n",
        "import pandas as pd"
      ]
    },
    {
      "cell_type": "markdown",
      "metadata": {},
      "source": [
        "Après la commande d'importation, nous avons maintenant accès à un grand nombre de classes et de fonctions prédéfinies. Cela suppose que la bibliothèque est installée ; dans notre environnement d'atelier, toutes les bibliothèques nécessaires sont installées. Une des façons dont Pandas permet de travailler avec les données est le DataFrame. Passons en revue le processus pour passer d'un fichier de valeurs séparées par des virgules (<b>.csv</b>) à un DataFrame. La variable <code>csv_path</code> stocke le chemin du fichier <b>.csv</b>, qui est utilisé comme argument pour la fonction <code>read_csv</code>. Le résultat est stocké dans l'objet <code>df</code>, qui est une abréviation courante utilisée pour une variable faisant référence à un DataFrame Pandas.\n"
      ]
    },
    {
      "cell_type": "code",
      "execution_count": 3,
      "metadata": {},
      "outputs": [],
      "source": [
        "# Lire les données à partir d'un fichier CSV\n",
        "\n",
        "csv_path = 'https://cf-courses-data.s3.us.cloud-object-storage.appdomain.cloud/LXjSAttmoxJfEG6il1Bqfw/Product-sales.csv'\n",
        "df = pd.read_csv(csv_path)"
      ]
    },
    {
      "cell_type": "markdown",
      "metadata": {},
      "source": [
        "Nous pouvons utiliser la méthode <code>head()</code> pour examiner les cinq premières lignes d'un DataFrame :\n"
      ]
    },
    {
      "cell_type": "code",
      "execution_count": 4,
      "metadata": {},
      "outputs": [
        {
          "data": {
            "text/html": [
              "<div>\n",
              "<style scoped>\n",
              "    .dataframe tbody tr th:only-of-type {\n",
              "        vertical-align: middle;\n",
              "    }\n",
              "\n",
              "    .dataframe tbody tr th {\n",
              "        vertical-align: top;\n",
              "    }\n",
              "\n",
              "    .dataframe thead th {\n",
              "        text-align: right;\n",
              "    }\n",
              "</style>\n",
              "<table border=\"1\" class=\"dataframe\">\n",
              "  <thead>\n",
              "    <tr style=\"text-align: right;\">\n",
              "      <th></th>\n",
              "      <th>OrderID</th>\n",
              "      <th>Product</th>\n",
              "      <th>Category</th>\n",
              "      <th>Quantity</th>\n",
              "      <th>Price</th>\n",
              "      <th>Total</th>\n",
              "      <th>OrderDate</th>\n",
              "      <th>CustomerCity</th>\n",
              "    </tr>\n",
              "  </thead>\n",
              "  <tbody>\n",
              "    <tr>\n",
              "      <th>0</th>\n",
              "      <td>1</td>\n",
              "      <td>Laptop</td>\n",
              "      <td>Electronics</td>\n",
              "      <td>2</td>\n",
              "      <td>800</td>\n",
              "      <td>1600</td>\n",
              "      <td>2022-01-10</td>\n",
              "      <td>New York</td>\n",
              "    </tr>\n",
              "    <tr>\n",
              "      <th>1</th>\n",
              "      <td>2</td>\n",
              "      <td>Smartphone</td>\n",
              "      <td>Electronics</td>\n",
              "      <td>3</td>\n",
              "      <td>600</td>\n",
              "      <td>1800</td>\n",
              "      <td>2022-02-15</td>\n",
              "      <td>Los Angeles</td>\n",
              "    </tr>\n",
              "    <tr>\n",
              "      <th>2</th>\n",
              "      <td>3</td>\n",
              "      <td>Desk Chair</td>\n",
              "      <td>Furniture</td>\n",
              "      <td>5</td>\n",
              "      <td>150</td>\n",
              "      <td>750</td>\n",
              "      <td>2022-03-12</td>\n",
              "      <td>Chicago</td>\n",
              "    </tr>\n",
              "    <tr>\n",
              "      <th>3</th>\n",
              "      <td>4</td>\n",
              "      <td>Notebook</td>\n",
              "      <td>Stationery</td>\n",
              "      <td>10</td>\n",
              "      <td>2</td>\n",
              "      <td>20</td>\n",
              "      <td>2022-04-05</td>\n",
              "      <td>Houston</td>\n",
              "    </tr>\n",
              "    <tr>\n",
              "      <th>4</th>\n",
              "      <td>5</td>\n",
              "      <td>Monitor</td>\n",
              "      <td>Electronics</td>\n",
              "      <td>1</td>\n",
              "      <td>300</td>\n",
              "      <td>300</td>\n",
              "      <td>2022-05-21</td>\n",
              "      <td>Miami</td>\n",
              "    </tr>\n",
              "  </tbody>\n",
              "</table>\n",
              "</div>"
            ],
            "text/plain": [
              "   OrderID     Product     Category  Quantity  Price  Total   OrderDate  \\\n",
              "0        1      Laptop  Electronics         2    800   1600  2022-01-10   \n",
              "1        2  Smartphone  Electronics         3    600   1800  2022-02-15   \n",
              "2        3  Desk Chair    Furniture         5    150    750  2022-03-12   \n",
              "3        4    Notebook   Stationery        10      2     20  2022-04-05   \n",
              "4        5     Monitor  Electronics         1    300    300  2022-05-21   \n",
              "\n",
              "  CustomerCity  \n",
              "0     New York  \n",
              "1  Los Angeles  \n",
              "2      Chicago  \n",
              "3      Houston  \n",
              "4        Miami  "
            ]
          },
          "execution_count": 4,
          "metadata": {},
          "output_type": "execute_result"
        }
      ],
      "source": [
        "# Afficher les cinq premières lignes du DataFrame\n",
        "\n",
        "df.head()"
      ]
    },
    {
      "cell_type": "markdown",
      "metadata": {},
      "source": [
        "Nous utilisons le chemin du fichier Excel et la fonction <code>read_excel</code>. Le résultat est un DataFrame comme précédemment :\n"
      ]
    },
    {
      "cell_type": "code",
      "execution_count": 5,
      "metadata": {},
      "outputs": [
        {
          "data": {
            "text/html": [
              "<div>\n",
              "<style scoped>\n",
              "    .dataframe tbody tr th:only-of-type {\n",
              "        vertical-align: middle;\n",
              "    }\n",
              "\n",
              "    .dataframe tbody tr th {\n",
              "        vertical-align: top;\n",
              "    }\n",
              "\n",
              "    .dataframe thead th {\n",
              "        text-align: right;\n",
              "    }\n",
              "</style>\n",
              "<table border=\"1\" class=\"dataframe\">\n",
              "  <thead>\n",
              "    <tr style=\"text-align: right;\">\n",
              "      <th></th>\n",
              "      <th>OrderID</th>\n",
              "      <th>Product</th>\n",
              "      <th>Category</th>\n",
              "      <th>Quantity</th>\n",
              "      <th>Price</th>\n",
              "      <th>Total</th>\n",
              "      <th>OrderDate</th>\n",
              "      <th>CustomerCity</th>\n",
              "    </tr>\n",
              "  </thead>\n",
              "  <tbody>\n",
              "    <tr>\n",
              "      <th>0</th>\n",
              "      <td>1</td>\n",
              "      <td>Laptop</td>\n",
              "      <td>Electronics</td>\n",
              "      <td>2</td>\n",
              "      <td>800</td>\n",
              "      <td>1600</td>\n",
              "      <td>2022-01-10</td>\n",
              "      <td>New York</td>\n",
              "    </tr>\n",
              "    <tr>\n",
              "      <th>1</th>\n",
              "      <td>2</td>\n",
              "      <td>Smartphone</td>\n",
              "      <td>Electronics</td>\n",
              "      <td>3</td>\n",
              "      <td>600</td>\n",
              "      <td>1800</td>\n",
              "      <td>2022-02-15</td>\n",
              "      <td>Los Angeles</td>\n",
              "    </tr>\n",
              "    <tr>\n",
              "      <th>2</th>\n",
              "      <td>3</td>\n",
              "      <td>Desk Chair</td>\n",
              "      <td>Furniture</td>\n",
              "      <td>5</td>\n",
              "      <td>150</td>\n",
              "      <td>750</td>\n",
              "      <td>2022-03-12</td>\n",
              "      <td>Chicago</td>\n",
              "    </tr>\n",
              "    <tr>\n",
              "      <th>3</th>\n",
              "      <td>4</td>\n",
              "      <td>Notebook</td>\n",
              "      <td>Stationery</td>\n",
              "      <td>10</td>\n",
              "      <td>2</td>\n",
              "      <td>20</td>\n",
              "      <td>2022-04-05</td>\n",
              "      <td>Houston</td>\n",
              "    </tr>\n",
              "    <tr>\n",
              "      <th>4</th>\n",
              "      <td>5</td>\n",
              "      <td>Monitor</td>\n",
              "      <td>Electronics</td>\n",
              "      <td>1</td>\n",
              "      <td>300</td>\n",
              "      <td>300</td>\n",
              "      <td>2022-05-21</td>\n",
              "      <td>Miami</td>\n",
              "    </tr>\n",
              "  </tbody>\n",
              "</table>\n",
              "</div>"
            ],
            "text/plain": [
              "   OrderID     Product     Category  Quantity  Price  Total  OrderDate  \\\n",
              "0        1      Laptop  Electronics         2    800   1600 2022-01-10   \n",
              "1        2  Smartphone  Electronics         3    600   1800 2022-02-15   \n",
              "2        3  Desk Chair    Furniture         5    150    750 2022-03-12   \n",
              "3        4    Notebook   Stationery        10      2     20 2022-04-05   \n",
              "4        5     Monitor  Electronics         1    300    300 2022-05-21   \n",
              "\n",
              "  CustomerCity  \n",
              "0     New York  \n",
              "1  Los Angeles  \n",
              "2      Chicago  \n",
              "3      Houston  \n",
              "4        Miami  "
            ]
          },
          "execution_count": 5,
          "metadata": {},
          "output_type": "execute_result"
        }
      ],
      "source": [
        "xlsx_path = 'https://cf-courses-data.s3.us.cloud-object-storage.appdomain.cloud/n9LOuKI9SlUa1b5zkaCMeg/Product-sales.xlsx'\n",
        "df = pd.read_excel(xlsx_path)\n",
        "df.head()"
      ]
    },
    {
      "cell_type": "markdown",
      "metadata": {},
      "source": [
        "Nous pouvons accéder à la colonne <b>Quantité</b> et l'assigner à un nouveau DataFrame <b>x</b> :\n"
      ]
    },
    {
      "cell_type": "code",
      "execution_count": 6,
      "metadata": {},
      "outputs": [
        {
          "data": {
            "text/html": [
              "<div>\n",
              "<style scoped>\n",
              "    .dataframe tbody tr th:only-of-type {\n",
              "        vertical-align: middle;\n",
              "    }\n",
              "\n",
              "    .dataframe tbody tr th {\n",
              "        vertical-align: top;\n",
              "    }\n",
              "\n",
              "    .dataframe thead th {\n",
              "        text-align: right;\n",
              "    }\n",
              "</style>\n",
              "<table border=\"1\" class=\"dataframe\">\n",
              "  <thead>\n",
              "    <tr style=\"text-align: right;\">\n",
              "      <th></th>\n",
              "      <th>Quantity</th>\n",
              "    </tr>\n",
              "  </thead>\n",
              "  <tbody>\n",
              "    <tr>\n",
              "      <th>0</th>\n",
              "      <td>2</td>\n",
              "    </tr>\n",
              "    <tr>\n",
              "      <th>1</th>\n",
              "      <td>3</td>\n",
              "    </tr>\n",
              "    <tr>\n",
              "      <th>2</th>\n",
              "      <td>5</td>\n",
              "    </tr>\n",
              "    <tr>\n",
              "      <th>3</th>\n",
              "      <td>10</td>\n",
              "    </tr>\n",
              "    <tr>\n",
              "      <th>4</th>\n",
              "      <td>1</td>\n",
              "    </tr>\n",
              "  </tbody>\n",
              "</table>\n",
              "</div>"
            ],
            "text/plain": [
              "   Quantity\n",
              "0         2\n",
              "1         3\n",
              "2         5\n",
              "3        10\n",
              "4         1"
            ]
          },
          "execution_count": 6,
          "metadata": {},
          "output_type": "execute_result"
        }
      ],
      "source": [
        "# Accéder à la colonne Quantité\n",
        "\n",
        "x = df[['Quantity']]\n",
        "x"
      ]
    },
    {
      "cell_type": "markdown",
      "metadata": {},
      "source": [
        "Le processus est illustré dans la figure :\n"
      ]
    },
    {
      "cell_type": "markdown",
      "metadata": {},
      "source": [
        "<img src=\"https://cf-courses-data.s3.us.cloud-object-storage.appdomain.cloud/CHIJ1eh6tYUzFsmgQIuCSA/1.PNG\" width=\"1150\">\n"
      ]
    },
    {
      "cell_type": "markdown",
      "metadata": {},
      "source": [
        "<hr>\n"
      ]
    },
    {
      "cell_type": "markdown",
      "metadata": {},
      "source": [
        "## Visualisation et accès aux données\n"
      ]
    },
    {
      "cell_type": "markdown",
      "metadata": {},
      "source": [
        "Vous pouvez également obtenir une colonne sous forme de série. Vous pouvez considérer une série Pandas comme un DataFrame à une dimension. Utilisez simplement un seul crochet :\n"
      ]
    },
    {
      "cell_type": "code",
      "execution_count": 7,
      "metadata": {},
      "outputs": [
        {
          "data": {
            "text/plain": [
              "0        Laptop\n",
              "1    Smartphone\n",
              "2    Desk Chair\n",
              "3      Notebook\n",
              "4       Monitor\n",
              "Name: Product, dtype: object"
            ]
          },
          "execution_count": 7,
          "metadata": {},
          "output_type": "execute_result"
        }
      ],
      "source": [
        "# Obtenir la colonne sous forme de série\n",
        "\n",
        "x = df['Product']\n",
        "x"
      ]
    },
    {
      "cell_type": "markdown",
      "metadata": {},
      "source": [
        "Vous pouvez également obtenir une colonne sous forme de DataFrame. Par exemple, nous pouvons assigner la colonne <b>Quantité</b> :\n"
      ]
    },
    {
      "cell_type": "code",
      "execution_count": 8,
      "metadata": {},
      "outputs": [
        {
          "data": {
            "text/plain": [
              "pandas.core.frame.DataFrame"
            ]
          },
          "execution_count": 8,
          "metadata": {},
          "output_type": "execute_result"
        }
      ],
      "source": [
        "# Obtenir la colonne sous forme de DataFrame\n",
        "\n",
        "x = df[['Quantity']]\n",
        "type(x)"
      ]
    },
    {
      "cell_type": "markdown",
      "metadata": {},
      "source": [
        "Vous pouvez faire la même chose pour plusieurs colonnes ; il suffit de mettre le nom du DataFrame, dans ce cas, <code>df</code>, et les noms des en-têtes de plusieurs colonnes entre doubles crochets. Le résultat est un nouveau DataFrame constitué des colonnes spécifiées :\n"
      ]
    },
    {
      "cell_type": "code",
      "execution_count": 9,
      "metadata": {},
      "outputs": [
        {
          "data": {
            "text/html": [
              "<div>\n",
              "<style scoped>\n",
              "    .dataframe tbody tr th:only-of-type {\n",
              "        vertical-align: middle;\n",
              "    }\n",
              "\n",
              "    .dataframe tbody tr th {\n",
              "        vertical-align: top;\n",
              "    }\n",
              "\n",
              "    .dataframe thead th {\n",
              "        text-align: right;\n",
              "    }\n",
              "</style>\n",
              "<table border=\"1\" class=\"dataframe\">\n",
              "  <thead>\n",
              "    <tr style=\"text-align: right;\">\n",
              "      <th></th>\n",
              "      <th>Product</th>\n",
              "      <th>Category</th>\n",
              "      <th>Quantity</th>\n",
              "    </tr>\n",
              "  </thead>\n",
              "  <tbody>\n",
              "    <tr>\n",
              "      <th>0</th>\n",
              "      <td>Laptop</td>\n",
              "      <td>Electronics</td>\n",
              "      <td>2</td>\n",
              "    </tr>\n",
              "    <tr>\n",
              "      <th>1</th>\n",
              "      <td>Smartphone</td>\n",
              "      <td>Electronics</td>\n",
              "      <td>3</td>\n",
              "    </tr>\n",
              "    <tr>\n",
              "      <th>2</th>\n",
              "      <td>Desk Chair</td>\n",
              "      <td>Furniture</td>\n",
              "      <td>5</td>\n",
              "    </tr>\n",
              "    <tr>\n",
              "      <th>3</th>\n",
              "      <td>Notebook</td>\n",
              "      <td>Stationery</td>\n",
              "      <td>10</td>\n",
              "    </tr>\n",
              "    <tr>\n",
              "      <th>4</th>\n",
              "      <td>Monitor</td>\n",
              "      <td>Electronics</td>\n",
              "      <td>1</td>\n",
              "    </tr>\n",
              "  </tbody>\n",
              "</table>\n",
              "</div>"
            ],
            "text/plain": [
              "      Product     Category  Quantity\n",
              "0      Laptop  Electronics         2\n",
              "1  Smartphone  Electronics         3\n",
              "2  Desk Chair    Furniture         5\n",
              "3    Notebook   Stationery        10\n",
              "4     Monitor  Electronics         1"
            ]
          },
          "execution_count": 9,
          "metadata": {},
          "output_type": "execute_result"
        }
      ],
      "source": [
        "# Accéder à plusieurs colonnes\n",
        "\n",
        "y = df[['Product','Category', 'Quantity']]\n",
        "y"
      ]
    },
    {
      "cell_type": "markdown",
      "metadata": {},
      "source": [
        "Le processus est illustré dans la figure :\n"
      ]
    },
    {
      "cell_type": "markdown",
      "metadata": {},
      "source": [
        "<img src=\"https://cf-courses-data.s3.us.cloud-object-storage.appdomain.cloud/BiDzVOrMQbianIz9DMum7A/2.PNG\" width=\"1100\">\n"
      ]
    },
    {
      "cell_type": "markdown",
      "metadata": {},
      "source": [
        "Une façon d'accéder à des éléments uniques est la méthode <code>iloc</code>, où vous pouvez accéder à la première ligne et à la première colonne comme suit :\n"
      ]
    },
    {
      "cell_type": "code",
      "execution_count": 10,
      "metadata": {},
      "outputs": [
        {
          "data": {
            "text/plain": [
              "np.int64(1)"
            ]
          },
          "execution_count": 10,
          "metadata": {},
          "output_type": "execute_result"
        }
      ],
      "source": [
        "# Accéder à la valeur de la première ligne et de la première colonne\n",
        "\n",
        "df.iloc[0, 0]"
      ]
    },
    {
      "cell_type": "markdown",
      "metadata": {},
      "source": [
        "Vous pouvez accéder à la deuxième ligne et à la première colonne comme suit :\n"
      ]
    },
    {
      "cell_type": "code",
      "execution_count": 11,
      "metadata": {},
      "outputs": [
        {
          "data": {
            "text/plain": [
              "np.int64(2)"
            ]
          },
          "execution_count": 11,
          "metadata": {},
          "output_type": "execute_result"
        }
      ],
      "source": [
        "# Accéder à la valeur de la deuxième ligne et de la première colonne\n",
        "\n",
        "df.iloc[1,0]"
      ]
    },
    {
      "cell_type": "markdown",
      "metadata": {},
      "source": [
        "Vous pouvez accéder à la première ligne et à la troisième colonne comme suit :\n"
      ]
    },
    {
      "cell_type": "code",
      "execution_count": 12,
      "metadata": {},
      "outputs": [
        {
          "data": {
            "text/plain": [
              "'Electronics'"
            ]
          },
          "execution_count": 12,
          "metadata": {},
          "output_type": "execute_result"
        }
      ],
      "source": [
        "# Accéder à la valeur de la première ligne et de la troisième colonne\n",
        "\n",
        "df.iloc[0,2]"
      ]
    },
    {
      "cell_type": "code",
      "execution_count": 13,
      "metadata": {},
      "outputs": [
        {
          "data": {
            "text/plain": [
              "'Electronics'"
            ]
          },
          "execution_count": 13,
          "metadata": {},
          "output_type": "execute_result"
        }
      ],
      "source": [
        "# Accéder à la valeur de la deuxième ligne et de la troisième colonne\n",
        "df.iloc[1,2]"
      ]
    },
    {
      "cell_type": "markdown",
      "metadata": {},
      "source": [
        "Ceci est illustré dans l'image suivante\n"
      ]
    },
    {
      "cell_type": "markdown",
      "metadata": {},
      "source": [
        "<img src=\"https://cf-courses-data.s3.us.cloud-object-storage.appdomain.cloud/npw0rMu2hutg8MdOz4t_Kw/3.PNG\" width=\"750\">\n"
      ]
    },
    {
      "cell_type": "markdown",
      "metadata": {},
      "source": [
        "Vous pouvez également accéder à la colonne en utilisant son nom, les opérations suivantes sont équivalentes à celles ci-dessus :\n"
      ]
    },
    {
      "cell_type": "code",
      "execution_count": 14,
      "metadata": {},
      "outputs": [
        {
          "data": {
            "text/plain": [
              "'Laptop'"
            ]
          },
          "execution_count": 14,
          "metadata": {},
          "output_type": "execute_result"
        }
      ],
      "source": [
        "# Accéder à la colonne en utilisant le nom\n",
        "\n",
        "df.loc[0, 'Product']"
      ]
    },
    {
      "cell_type": "code",
      "execution_count": 15,
      "metadata": {},
      "outputs": [
        {
          "data": {
            "text/plain": [
              "'Smartphone'"
            ]
          },
          "execution_count": 15,
          "metadata": {},
          "output_type": "execute_result"
        }
      ],
      "source": [
        "# Accéder à la colonne en utilisant le nom\n",
        "\n",
        "df.loc[1, 'Product']"
      ]
    },
    {
      "cell_type": "code",
      "execution_count": 16,
      "metadata": {},
      "outputs": [
        {
          "data": {
            "text/plain": [
              "'Los Angeles'"
            ]
          },
          "execution_count": 16,
          "metadata": {},
          "output_type": "execute_result"
        }
      ],
      "source": [
        "# Accéder à la colonne en utilisant le nom\n",
        "\n",
        "df.loc[1, 'CustomerCity']"
      ]
    },
    {
      "cell_type": "code",
      "execution_count": 17,
      "metadata": {},
      "outputs": [
        {
          "data": {
            "text/plain": [
              "np.int64(1800)"
            ]
          },
          "execution_count": 17,
          "metadata": {},
          "output_type": "execute_result"
        }
      ],
      "source": [
        "# Accéder à la colonne en utilisant le nom\n",
        "\n",
        "df.loc[1, 'Total']"
      ]
    },
    {
      "cell_type": "markdown",
      "metadata": {},
      "source": [
        "<img src=\"https://cf-courses-data.s3.us.cloud-object-storage.appdomain.cloud/TR4-yEJdBj9NyQa5rlL6mg/4.PNG\" width=\"750\">\n"
      ]
    },
    {
      "cell_type": "markdown",
      "metadata": {},
      "source": [
        "Vous pouvez effectuer un découpage (slicing) en utilisant à la fois l'index et le nom de la colonne :\n"
      ]
    },
    {
      "cell_type": "code",
      "execution_count": 18,
      "metadata": {},
      "outputs": [
        {
          "data": {
            "text/html": [
              "<div>\n",
              "<style scoped>\n",
              "    .dataframe tbody tr th:only-of-type {\n",
              "        vertical-align: middle;\n",
              "    }\n",
              "\n",
              "    .dataframe tbody tr th {\n",
              "        vertical-align: top;\n",
              "    }\n",
              "\n",
              "    .dataframe thead th {\n",
              "        text-align: right;\n",
              "    }\n",
              "</style>\n",
              "<table border=\"1\" class=\"dataframe\">\n",
              "  <thead>\n",
              "    <tr style=\"text-align: right;\">\n",
              "      <th></th>\n",
              "      <th>OrderID</th>\n",
              "      <th>Product</th>\n",
              "      <th>Category</th>\n",
              "    </tr>\n",
              "  </thead>\n",
              "  <tbody>\n",
              "    <tr>\n",
              "      <th>0</th>\n",
              "      <td>1</td>\n",
              "      <td>Laptop</td>\n",
              "      <td>Electronics</td>\n",
              "    </tr>\n",
              "    <tr>\n",
              "      <th>1</th>\n",
              "      <td>2</td>\n",
              "      <td>Smartphone</td>\n",
              "      <td>Electronics</td>\n",
              "    </tr>\n",
              "  </tbody>\n",
              "</table>\n",
              "</div>"
            ],
            "text/plain": [
              "   OrderID     Product     Category\n",
              "0        1      Laptop  Electronics\n",
              "1        2  Smartphone  Electronics"
            ]
          },
          "execution_count": 18,
          "metadata": {},
          "output_type": "execute_result"
        }
      ],
      "source": [
        "# Découper le DataFrame\n",
        "\n",
        "df.iloc[0:2, 0:3]"
      ]
    },
    {
      "cell_type": "markdown",
      "metadata": {},
      "source": [
        "<img src=\"https://cf-courses-data.s3.us.cloud-object-storage.appdomain.cloud/iyo_KV6ejpqgDxCcd3M1wg/5.PNG\" width=\"950\">\n"
      ]
    },
    {
      "cell_type": "code",
      "execution_count": 19,
      "metadata": {},
      "outputs": [
        {
          "data": {
            "text/html": [
              "<div>\n",
              "<style scoped>\n",
              "    .dataframe tbody tr th:only-of-type {\n",
              "        vertical-align: middle;\n",
              "    }\n",
              "\n",
              "    .dataframe tbody tr th {\n",
              "        vertical-align: top;\n",
              "    }\n",
              "\n",
              "    .dataframe thead th {\n",
              "        text-align: right;\n",
              "    }\n",
              "</style>\n",
              "<table border=\"1\" class=\"dataframe\">\n",
              "  <thead>\n",
              "    <tr style=\"text-align: right;\">\n",
              "      <th></th>\n",
              "      <th>OrderID</th>\n",
              "      <th>Product</th>\n",
              "      <th>Category</th>\n",
              "    </tr>\n",
              "  </thead>\n",
              "  <tbody>\n",
              "    <tr>\n",
              "      <th>0</th>\n",
              "      <td>1</td>\n",
              "      <td>Laptop</td>\n",
              "      <td>Electronics</td>\n",
              "    </tr>\n",
              "    <tr>\n",
              "      <th>1</th>\n",
              "      <td>2</td>\n",
              "      <td>Smartphone</td>\n",
              "      <td>Electronics</td>\n",
              "    </tr>\n",
              "    <tr>\n",
              "      <th>2</th>\n",
              "      <td>3</td>\n",
              "      <td>Desk Chair</td>\n",
              "      <td>Furniture</td>\n",
              "    </tr>\n",
              "  </tbody>\n",
              "</table>\n",
              "</div>"
            ],
            "text/plain": [
              "   OrderID     Product     Category\n",
              "0        1      Laptop  Electronics\n",
              "1        2  Smartphone  Electronics\n",
              "2        3  Desk Chair    Furniture"
            ]
          },
          "execution_count": 19,
          "metadata": {},
          "output_type": "execute_result"
        }
      ],
      "source": [
        "# Découper le DataFrame en utilisant le nom\n",
        "\n",
        "df.loc[0:2, 'OrderID':'Category']"
      ]
    },
    {
      "cell_type": "markdown",
      "metadata": {},
      "source": [
        "<img src=\"https://cf-courses-data.s3.us.cloud-object-storage.appdomain.cloud/88vCcZQ8N4W_R7WyKoqoAA/6.PNG\" width=\"750\">\n"
      ]
    },
    {
      "cell_type": "markdown",
      "metadata": {},
      "source": [
        "<hr>\n"
      ]
    },
    {
      "cell_type": "markdown",
      "metadata": {},
      "source": [
        "## Quiz sur les DataFrames\n"
      ]
    },
    {
      "cell_type": "markdown",
      "metadata": {},
      "source": [
        "Utilisez une variable <code>q</code> pour stocker la colonne <b>Prix</b> sous forme de DataFrame\n"
      ]
    },
    {
      "cell_type": "code",
      "execution_count": null,
      "metadata": {},
      "outputs": [],
      "source": [
        "# Écrivez votre code ci-dessous et appuyez sur Shift+Enter pour exécuter\n"
      ]
    },
    {
      "cell_type": "markdown",
      "metadata": {},
      "source": [
        "Assignez la variable <code>q</code> au DataFrame constitué des colonnes <b>Produit</b> et <b>Catégorie</b> :\n"
      ]
    },
    {
      "cell_type": "code",
      "execution_count": null,
      "metadata": {},
      "outputs": [],
      "source": [
        "# Écrivez votre code ci-dessous et appuyez sur Shift+Enter pour exécuter\n",
        "\n",
        " "
      ]
    },
    {
      "cell_type": "markdown",
      "metadata": {},
      "source": [
        "Accédez à la deuxième ligne et à la troisième colonne de <code>df</code> :\n"
      ]
    },
    {
      "cell_type": "code",
      "execution_count": null,
      "metadata": {},
      "outputs": [],
      "source": [
        "# Écrivez votre code ci-dessous et appuyez sur Shift+Enter pour exécuter\n"
      ]
    },
    {
      "cell_type": "markdown",
      "metadata": {},
      "source": [
        "Utilisez la liste suivante pour convertir l'index du DataFrame <code>df</code> en caractères et assignez-le à <code>df_new</code> ; trouvez l'élément correspondant à l'index de ligne <code>a</code> et à la colonne <code>VilleClient</code>. Ensuite, sélectionnez les lignes de <code>a</code> à <code>d</code> pour la colonne <code>VilleClient</code>\n"
      ]
    },
    {
      "cell_type": "code",
      "execution_count": null,
      "metadata": {},
      "outputs": [],
      "source": [
        "new_index=['a','b','c','d','e']\n",
        "\n"
      ]
    },
    {
      "cell_type": "markdown",
      "metadata": {},
      "source": [
        "<hr>\n",
        "<p>Félicitations ! Vous avez terminé la leçon ainsi que l’atelier pratique sur la manipulation de données avec Pandas.\n",
        "<hr>\n"
      ]
    },
    {
      "cell_type": "code",
      "execution_count": null,
      "metadata": {},
      "outputs": [],
      "source": []
    }
  ],
  "metadata": {
    "kernelspec": {
      "display_name": "Python 3 (ipykernel)",
      "language": "python",
      "name": "python3"
    },
    "language_info": {
      "codemirror_mode": {
        "name": "ipython",
        "version": 3
      },
      "file_extension": ".py",
      "mimetype": "text/x-python",
      "name": "python",
      "nbconvert_exporter": "python",
      "pygments_lexer": "ipython3",
      "version": "3.12.2"
    },
    "prev_pub_hash": "5297968995c02bb4cb6ee20e4aaed9ec08a6a69074102aa441f27b39cbc20a3b"
  },
  "nbformat": 4,
  "nbformat_minor": 4
}
