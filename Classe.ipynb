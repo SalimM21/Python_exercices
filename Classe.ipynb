{
  "cells": [
    {
      "cell_type": "markdown",
      "metadata": {},
      "source": [
        "<center>\n",
        "    <img src=\"https://www.simplon.ma/images/Simplon_Maghreb_Rouge.png\" width=\"300\" alt=\"cognitiveclass.ai logo\">\n",
        "</center>\n",
        "\n",
        "# Classes et objets en Python\n",
        "\n",
        "## Objectifs\n",
        "\n",
        "Après avoir terminé cet atelier, vous serez capable de :\n",
        "\n",
        "*   Travailler avec les classes et les objets\n",
        "*   Identifier et définir des attributs et des méthodes\n"
      ]
    },
    {
      "cell_type": "markdown",
      "metadata": {},
      "source": [
        "<h2>Tableau des matières</h2>\n",
        "<div class=\"alert alert-block alert-info\" style=\"margin-top: 20px\">\n",
        "    <ul>\n",
        "        <li>\n",
        "            <a href=\"#Introduction-to-Classes-and-Objects\">Introduction aux classes et objets</a>\n",
        "            <ul>\n",
        "                <li><a href=\"#Creating-a-class\">Créer une classe</a></li>\n",
        "                <li><a href=\"#Instances-of-a-Class:-Objects-and-Attributes\">Instances d'une classe : Objets et attributs</a></li>\n",
        "                <li><a href=\"#Methods\">Méthodes</a></li>\n",
        "            </ul>\n",
        "        </li>\n",
        "        <li><a href=\"#Creating-a-class\">Créer une classe</a></li>\n",
        "        <li><a href=\"#Creating-an-instance-of-a-class-Circle\">Créer une instance de la classe Circle</a></li>\n",
        "        <li><a href=\"#The-Rectangle-Class\">La classe Rectangle</a></li>\n",
        "    </ul>\n",
        "\n",
        "</div>\n",
        "\n",
        "<hr>\n"
      ]
    },
    {
      "cell_type": "markdown",
      "metadata": {},
      "source": [
        "## Introduction aux classes et objets\n"
      ]
    },
    {
      "cell_type": "markdown",
      "metadata": {},
      "source": [
        "### Créer une classe\n"
      ]
    },
    {
      "cell_type": "markdown",
      "metadata": {},
      "source": [
        "La première étape pour créer une classe est de lui donner un nom. Dans ce notebook, nous allons créer deux classes : Circle et Rectangle. Nous devons déterminer toutes les données qui composent cette classe, que nous appelons <em>attributs</em>. Considérez cette étape comme la création d'un plan que nous utiliserons pour créer des objets. Dans la figure 1, nous voyons deux classes, Circle et Rectangle. Chacune a ses propres attributs, qui sont des variables. La classe Circle a les attributs rayon et couleur, tandis que la classe Rectangle a les attributs hauteur et largeur. Utilisons des exemples visuels de ces formes avant de passer au code, car cela vous aidera à vous familiariser avec le vocabulaire.\n"
      ]
    },
    {
      "cell_type": "markdown",
      "metadata": {},
      "source": [
        "<img src=\"https://cf-courses-data.s3.us.cloud-object-storage.appdomain.cloud/IBMDeveloperSkillsNetwork-PY0101EN-SkillsNetwork/labs/Module%203/images/ClassesClass.png\" width=\"500\">\n"
      ]
    },
    {
      "cell_type": "markdown",
      "metadata": {},
      "source": [
        "<i>Figure 1 : Classes Circle et Rectangle, chacune avec ses propres attributs. La classe Circle a les attributs rayon et couleur, la classe Rectangle a les attributs hauteur et largeur.</i>\n"
      ]
    },
    {
      "cell_type": "markdown",
      "metadata": {},
      "source": [
        "### Instances d'une classe : Objets et attributs\n"
      ]
    },
    {
      "cell_type": "markdown",
      "metadata": {},
      "source": [
        "Une instance d'un objet est la réalisation d'une classe, et dans la figure 2, nous voyons trois instances de la classe Circle. Nous donnons un nom à chaque objet : cercle rouge, cercle jaune et cercle vert. Chaque objet a des attributs différents, concentrons-nous donc sur l'attribut couleur pour chaque objet.\n"
      ]
    },
    {
      "cell_type": "markdown",
      "metadata": {},
      "source": [
        "<img src=\"https://cf-courses-data.s3.us.cloud-object-storage.appdomain.cloud/IBMDeveloperSkillsNetwork-PY0101EN-SkillsNetwork/labs/Module%203/images/ClassesObj.png\" width=\"500\">\n"
      ]
    },
    {
      "cell_type": "markdown",
      "metadata": {},
      "source": [
        "<i>Figure 2 : Trois instances de la classe Circle, ou trois objets de type Circle.</i>\n"
      ]
    },
    {
      "cell_type": "markdown",
      "metadata": {},
      "source": [
        "L'attribut couleur pour le cercle rouge est la couleur rouge, pour l'objet cercle vert, l'attribut couleur est vert, et pour le cercle jaune, l'attribut couleur est jaune.\n"
      ]
    },
    {
      "cell_type": "markdown",
      "metadata": {},
      "source": [
        "### Méthodes\n"
      ]
    },
    {
      "cell_type": "markdown",
      "metadata": {},
      "source": [
        "Les méthodes offrent un moyen de modifier ou d'interagir avec l'objet ; ce sont des fonctions qui interagissent avec les objets. Par exemple, supposons que nous voulions augmenter le rayon d'un cercle d'une certaine quantité. Nous pouvons créer une méthode appelée **add_radius(r)** qui augmente le rayon de **r**. Cela est illustré dans la figure 3, où après avoir appliqué la méthode à l'objet « cercle orange », le rayon de l'objet augmente en conséquence. La notation par point signifie appliquer la méthode à l'objet, ce qui revient essentiellement à appliquer une fonction aux informations de l'objet.\n"
      ]
    },
    {
      "cell_type": "markdown",
      "metadata": {},
      "source": [
        "<img src=\"https://cf-courses-data.s3.us.cloud-object-storage.appdomain.cloud/IBMDeveloperSkillsNetwork-PY0101EN-SkillsNetwork/labs/Module%203/images/ClassesMethod.png\" width=\"500\"> \n"
      ]
    },
    {
      "cell_type": "markdown",
      "metadata": {},
      "source": [
        "<i>Figure 3 : Application de la méthode « add_radius » à l'objet cercle orange.</i>\n"
      ]
    },
    {
      "cell_type": "markdown",
      "metadata": {},
      "source": [
        "<hr>\n"
      ]
    },
    {
      "cell_type": "markdown",
      "metadata": {},
      "source": [
        "## Créer une classe\n"
      ]
    },
    {
      "cell_type": "markdown",
      "metadata": {},
      "source": [
        "Maintenant, nous allons créer une classe Circle, mais d'abord, nous allons importer une bibliothèque pour dessiner les objets :\n"
      ]
    },
    {
      "cell_type": "code",
      "execution_count": null,
      "metadata": {},
      "outputs": [],
      "source": [
        "# Importer la bibliothèque\n",
        "\n",
        "import matplotlib.pyplot as plt\n",
        "%matplotlib inline  "
      ]
    },
    {
      "cell_type": "markdown",
      "metadata": {},
      "source": [
        "La première étape pour créer votre propre classe est d'utiliser le mot-clé <code>class</code>, puis le nom de la classe comme montré dans la figure 4. Dans ce cours, la classe parent sera toujours object :\n"
      ]
    },
    {
      "cell_type": "markdown",
      "metadata": {},
      "source": [
        "<img src=\"https://cf-courses-data.s3.us.cloud-object-storage.appdomain.cloud/IBMDeveloperSkillsNetwork-PY0101EN-SkillsNetwork/labs/Module%203/images/ClassesDefine.png\" width=\"400\">\n"
      ]
    },
    {
      "cell_type": "markdown",
      "metadata": {},
      "source": [
        "<i>Figure 4 : Création d'une classe Circle.</i>\n"
      ]
    },
    {
      "cell_type": "markdown",
      "metadata": {},
      "source": [
        "L'étape suivante est une méthode spéciale appelée constructeur <code>\\__init\\_\\_</code>, qui est utilisée pour initialiser l'objet. Les entrées sont des attributs de données. Le terme <code>self</code> contient tous les attributs de l'ensemble. Par exemple, <code>self.color</code> donne la valeur de l'attribut couleur et <code>self.radius</code> vous donnera le rayon de l'objet. Nous avons également la méthode <code>add_radius()</code> avec le paramètre <code>r</code>, la méthode ajoute la valeur de <code>r</code> à l'attribut rayon. Pour accéder au rayon, nous utilisons la syntaxe <code>self.radius</code>. La syntaxe étiquetée est résumée dans la figure 5 :\n"
      ]
    },
    {
      "cell_type": "markdown",
      "metadata": {},
      "source": [
        "<img src=\"https://cf-courses-data.s3.us.cloud-object-storage.appdomain.cloud/IBMDeveloperSkillsNetwork-PY0101EN-SkillsNetwork/labs/Module%203/images/ClassesCircle.png\" width=\"600\">\n"
      ]
    },
    {
      "cell_type": "markdown",
      "metadata": {},
      "source": [
        "<i>Figure 5 : Syntaxe étiquetée de l'objet Circle.</i>\n"
      ]
    },
    {
      "cell_type": "markdown",
      "metadata": {},
      "source": [
        "L'objet réel est montré ci-dessous. Nous incluons la méthode <code>drawCircle</code> pour afficher l'image d'un cercle. Nous définissons le rayon par défaut à 3 et la couleur par défaut à bleu :\n"
      ]
    },
    {
      "cell_type": "code",
      "execution_count": null,
      "metadata": {},
      "outputs": [],
      "source": [
        "# Créer une classe Circle\n",
        "\n",
        "class Circle(object):\n",
        "    \n",
        "    # Constructeur\n",
        "    def __init__(self, radius=3, color='blue'):\n",
        "        self.radius = radius\n",
        "        self.color = color \n",
        "    \n",
        "    # Méthode\n",
        "    def add_radius(self, r):\n",
        "        self.radius = self.radius + r\n",
        "        return(self.radius)\n",
        "    \n",
        "    # Méthode\n",
        "    def drawCircle(self):\n",
        "        plt.gca().add_patch(plt.Circle((0, 0), radius=self.radius, fc=self.color))\n",
        "        plt.axis('scaled')\n",
        "        plt.show()  "
      ]
    },
    {
      "cell_type": "markdown",
      "metadata": {},
      "source": [
        "<hr>\n"
      ]
    },
    {
      "cell_type": "markdown",
      "metadata": {},
      "source": [
        "## Créer une instance de la classe Circle\n"
      ]
    },
    {
      "cell_type": "markdown",
      "metadata": {},
      "source": [
        "Créons l'objet <code>RedCircle</code> de type Circle pour faire ce qui suit :\n"
      ]
    },
    {
      "cell_type": "code",
      "execution_count": null,
      "metadata": {},
      "outputs": [],
      "source": [
        "# Créer un objet RedCircle\n",
        "\n",
        "RedCircle = Circle(10, 'red')"
      ]
    },
    {
      "cell_type": "markdown",
      "metadata": {},
      "source": [
        "Nous pouvons utiliser la commande <code>dir</code> pour obtenir une liste des méthodes de l'objet. Beaucoup d'entre elles sont des méthodes par défaut de Python.\n"
      ]
    },
    {
      "cell_type": "code",
      "execution_count": null,
      "metadata": {},
      "outputs": [],
      "source": [
        "# Découvrir les méthodes qui peuvent être utilisées sur l'objet RedCircle\n",
        "\n",
        "dir(RedCircle)"
      ]
    },
    {
      "cell_type": "markdown",
      "metadata": {},
      "source": [
        "Nous pouvons examiner les attributs de données de l'objet :\n"
      ]
    },
    {
      "cell_type": "code",
      "execution_count": null,
      "metadata": {},
      "outputs": [],
      "source": [
        "# Afficher l'attribut rayon de l'objet\n",
        "\n",
        "RedCircle.radius"
      ]
    },
    {
      "cell_type": "code",
      "execution_count": null,
      "metadata": {},
      "outputs": [],
      "source": [
        "# Afficher l'attribut couleur de l'objet\n",
        "\n",
        "RedCircle.color"
      ]
    },
    {
      "cell_type": "markdown",
      "metadata": {},
      "source": [
        "Nous pouvons modifier les attributs de données de l'objet :\n"
      ]
    },
    {
      "cell_type": "code",
      "execution_count": null,
      "metadata": {},
      "outputs": [],
      "source": [
        "# Définir l'attribut rayon de l'objet\n",
        "\n",
        "RedCircle.radius = 1\n",
        "RedCircle.radius"
      ]
    },
    {
      "cell_type": "markdown",
      "metadata": {},
      "source": [
        "Nous pouvons dessiner l'objet en utilisant la méthode <code>drawCircle()</code> :\n"
      ]
    },
    {
      "cell_type": "code",
      "execution_count": null,
      "metadata": {},
      "outputs": [],
      "source": [
        "# Appeler la méthode drawCircle\n",
        "\n",
        "RedCircle.drawCircle()"
      ]
    },
    {
      "cell_type": "markdown",
      "metadata": {},
      "source": [
        "Nous pouvons augmenter le rayon du cercle en appliquant la méthode <code>add_radius()</code>. Augmentons le rayon de 2 puis de 5 :\n"
      ]
    },
    {
      "cell_type": "code",
      "execution_count": null,
      "metadata": {},
      "outputs": [],
      "source": [
        "# Utiliser une méthode pour modifier l'attribut rayon de l'objet\n",
        "\n",
        "print('Rayon de l\\'objet :',RedCircle.radius)\n",
        "RedCircle.add_radius(2)\n",
        "print('Rayon de l\\'objet après avoir appliqué la méthode add_radius(2) :',RedCircle.radius)\n",
        "RedCircle.add_radius(5)\n",
        "print('Rayon de l\\'objet après avoir appliqué la méthode add_radius(5) :',RedCircle.radius)"
      ]
    },
    {
      "cell_type": "markdown",
      "metadata": {},
      "source": [
        "Créons un cercle bleu. Comme la couleur par défaut est bleu, il suffit de spécifier le rayon :\n"
      ]
    },
    {
      "cell_type": "code",
      "execution_count": null,
      "metadata": {},
      "outputs": [],
      "source": [
        "# Créer un cercle bleu avec un rayon donné\n",
        "\n",
        "BlueCircle = Circle(radius=100)"
      ]
    },
    {
      "cell_type": "markdown",
      "metadata": {},
      "source": [
        "Comme auparavant, nous pouvons accéder aux attributs de l'instance de la classe en utilisant la notation par point :\n"
      ]
    },
    {
      "cell_type": "code",
      "execution_count": null,
      "metadata": {},
      "outputs": [],
      "source": [
        "# Afficher l'attribut rayon de l'objet\n",
        "\n",
        "BlueCircle.radius"
      ]
    },
    {
      "cell_type": "code",
      "execution_count": null,
      "metadata": {},
      "outputs": [],
      "source": [
        "# Afficher l'attribut couleur de l'objet\n",
        "\n",
        "BlueCircle.color"
      ]
    },
    {
      "cell_type": "markdown",
      "metadata": {},
      "source": [
        "Nous pouvons dessiner l'objet en utilisant la méthode <code>drawCircle()</code> :\n"
      ]
    },
    {
      "cell_type": "code",
      "execution_count": null,
      "metadata": {},
      "outputs": [],
      "source": [
        "# Appeler la méthode drawCircle\n",
        "\n",
        "BlueCircle.drawCircle()"
      ]
    },
    {
      "cell_type": "markdown",
      "metadata": {},
      "source": [
        "Comparez les axes x et y de la figure avec ceux de la figure pour <code>RedCircle</code> ; ils sont différents.\n"
      ]
    },
    {
      "cell_type": "markdown",
      "metadata": {},
      "source": [
        "<hr>\n"
      ]
    },
    {
      "cell_type": "markdown",
      "metadata": {},
      "source": [
        "## La classe Rectangle\n"
      ]
    },
    {
      "cell_type": "markdown",
      "metadata": {},
      "source": [
        "Créons une classe Rectangle avec les attributs hauteur, largeur et couleur. Nous ajouterons uniquement la méthode pour dessiner l'objet rectangle :\n"
      ]
    },
    {
      "cell_type": "code",
      "execution_count": null,
      "metadata": {},
      "outputs": [],
      "source": [
        "# Créer une nouvelle classe Rectangle pour créer un objet rectangle\n",
        "\n",
        "class Rectangle(object):\n",
        "    \n",
        "    # Constructeur\n",
        "    def __init__(self, width=2, height=3, color='r'):\n",
        "        self.height = height \n",
        "        self.width = width\n",
        "        self.color = color\n",
        "    \n",
        "    # Méthode\n",
        "    def drawRectangle(self):\n",
        "        plt.gca().add_patch(plt.Rectangle((0, 0), self.width, self.height ,fc=self.color))\n",
        "        plt.axis('scaled')\n",
        "        plt.show()\n",
        "        "
      ]
    },
    {
      "cell_type": "markdown",
      "metadata": {},
      "source": [
        "Créons l'objet <code>SkinnyBlueRectangle</code> de type Rectangle. Sa largeur sera de 2, sa hauteur de 3, et la couleur sera bleue :\n"
      ]
    },
    {
      "cell_type": "code",
      "execution_count": null,
      "metadata": {},
      "outputs": [],
      "source": [
        "# Créer un nouvel objet rectangle\n",
        "\n",
        "SkinnyBlueRectangle = Rectangle(2, 3, 'blue')"
      ]
    },
    {
      "cell_type": "markdown",
      "metadata": {},
      "source": [
        "Comme auparavant, nous pouvons accéder aux attributs de l'instance de la classe en utilisant la notation par point :\n"
      ]
    },
    {
      "cell_type": "code",
      "execution_count": null,
      "metadata": {},
      "outputs": [],
      "source": [
        "# Afficher l'attribut hauteur de l'objet\n",
        "\n",
        "SkinnyBlueRectangle.height "
      ]
    },
    {
      "cell_type": "code",
      "execution_count": null,
      "metadata": {},
      "outputs": [],
      "source": [
        "# Afficher l'attribut largeur de l'objet\n",
        "\n",
        "SkinnyBlueRectangle.width"
      ]
    },
    {
      "cell_type": "code",
      "execution_count": null,
      "metadata": {},
      "outputs": [],
      "source": [
        "# Afficher l'attribut couleur de l'objet\n",
        "\n",
        "SkinnyBlueRectangle.color"
      ]
    },
    {
      "cell_type": "markdown",
      "metadata": {},
      "source": [
        "Nous pouvons dessiner l'objet :\n"
      ]
    },
    {
      "cell_type": "code",
      "execution_count": null,
      "metadata": {},
      "outputs": [],
      "source": [
        "# Utiliser la méthode drawRectangle pour dessiner la forme\n",
        "\n",
        "SkinnyBlueRectangle.drawRectangle()"
      ]
    },
    {
      "cell_type": "markdown",
      "metadata": {},
      "source": [
        "Créons l'objet <code>FatYellowRectangle</code> de type Rectangle :\n"
      ]
    },
    {
      "cell_type": "code",
      "execution_count": null,
      "metadata": {},
      "outputs": [],
      "source": [
        "# Créer un nouvel objet rectangle\n",
        "\n",
        "FatYellowRectangle = Rectangle(20, 5, 'yellow')"
      ]
    },
    {
      "cell_type": "markdown",
      "metadata": {},
      "source": [
        "Nous pouvons accéder aux attributs de l'instance de la classe en utilisant la notation par point :\n"
      ]
    },
    {
      "cell_type": "code",
      "execution_count": null,
      "metadata": {},
      "outputs": [],
      "source": [
        "# Afficher l'attribut hauteur de l'objet\n",
        "\n",
        "FatYellowRectangle.height "
      ]
    },
    {
      "cell_type": "code",
      "execution_count": null,
      "metadata": {},
      "outputs": [],
      "source": [
        "# Afficher l'attribut largeur de l'objet\n",
        "\n",
        "FatYellowRectangle.width"
      ]
    },
    {
      "cell_type": "code",
      "execution_count": null,
      "metadata": {},
      "outputs": [],
      "source": [
        "# Afficher l'attribut couleur de l'objet\n",
        "\n",
        "FatYellowRectangle.color"
      ]
    },
    {
      "cell_type": "markdown",
      "metadata": {},
      "source": [
        "Nous pouvons dessiner l'objet :\n"
      ]
    },
    {
      "cell_type": "code",
      "execution_count": null,
      "metadata": {},
      "outputs": [],
      "source": [
        "# Utiliser la méthode drawRectangle pour dessiner la forme\n",
        "\n",
        "FatYellowRectangle.drawRectangle()"
      ]
    },
    {
      "cell_type": "markdown",
      "metadata": {},
      "source": [
        "<hr>\n"
      ]
    },
    {
      "cell_type": "markdown",
      "metadata": {},
      "source": [
        "<center>\n",
        "    \n",
        "# Scénario : Système de gestion d'inventaire d'un concessionnaire automobile\n",
        "\n",
        "</center>\n"
      ]
    },
    {
      "cell_type": "markdown",
      "metadata": {},
      "source": [
        "Vous travaillez sur un programme Python pour simuler un système de gestion d'inventaire d'un concessionnaire automobile. Le système vise à modéliser les voitures et leurs attributs de manière précise.\n"
      ]
    },
    {
      "cell_type": "markdown",
      "metadata": {},
      "source": [
        "### Tâche-1. Vous devez créer un programme Python pour représenter des véhicules à l'aide d'une classe. Chaque voiture doit avoir des attributs pour la vitesse maximale et le kilométrage.\n"
      ]
    },
    {
      "cell_type": "code",
      "execution_count": null,
      "metadata": {},
      "outputs": [],
      "source": [
        "#Tapez votre code ici"
      ]
    },
    {
      "cell_type": "markdown",
      "metadata": {},
      "source": [
        "### Tâche-2. Mettez à jour la classe avec la couleur par défaut pour tous les véhicules, \"blanc\".\n"
      ]
    },
    {
      "cell_type": "code",
      "execution_count": null,
      "metadata": {},
      "outputs": [],
      "source": [
        "#Tapez votre code ici"
      ]
    },
    {
      "cell_type": "markdown",
      "metadata": {},
      "source": [
        "### Tâche-3. De plus, vous devez créer des méthodes dans la classe Vehicle pour assigner une capacité de sièges à un véhicule.\n"
      ]
    },
    {
      "cell_type": "code",
      "execution_count": null,
      "metadata": {},
      "outputs": [],
      "source": [
        "#Tapez votre code ici"
      ]
    },
    {
      "cell_type": "markdown",
      "metadata": {},
      "source": [
        "### Tâche-4. Créez une méthode pour afficher toutes les propriétés d'un objet de la classe.\n"
      ]
    },
    {
      "cell_type": "code",
      "execution_count": null,
      "metadata": {},
      "outputs": [],
      "source": [
        "#Tapez votre code ici"
      ]
    },
    {
      "cell_type": "markdown",
      "metadata": {},
      "source": [
        "### Tâche-5. De plus, vous devez créer deux objets de la classe Vehicle qui devraient avoir une vitesse maximale de 200 km/h et un kilométrage de 20 km/l avec une capacité de cinq sièges, et un autre objet voiture devrait avoir une vitesse maximale de 180 km/h et un kilométrage de 25 km/l avec une capacité de quatre sièges.\n"
      ]
    },
    {
      "cell_type": "code",
      "execution_count": null,
      "metadata": {},
      "outputs": [],
      "source": [
        "#Tapez votre code ici"
      ]
    },
    {
      "cell_type": "markdown",
      "metadata": {},
      "source": [
        "<hr>\n",
        "\n",
        "<p>Félicitations ! Vous avez terminé la leçon ainsi que l’atelier pratique sur les classes.\n",
        "<hr>\n"
      ]
    },
    {
      "cell_type": "code",
      "execution_count": null,
      "metadata": {},
      "outputs": [],
      "source": []
    }
  ],
  "metadata": {
    "kernelspec": {
      "display_name": "Python (Pyodide)",
      "language": "python",
      "name": "python"
    },
    "language_info": {
      "codemirror_mode": {
        "name": "python",
        "version": 3
      },
      "file_extension": ".py",
      "mimetype": "text/x-python",
      "name": "python",
      "nbconvert_exporter": "python",
      "pygments_lexer": "ipython3",
      "version": "3.8"
    },
    "prev_pub_hash": "252ef91d0bb13b462b79b6278502193a9e4638b605666d4db9137145ed6a0d74"
  },
  "nbformat": 4,
  "nbformat_minor": 4
}
