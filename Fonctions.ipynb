{
  "cells": [
    {
      "cell_type": "markdown",
      "metadata": {},
      "source": [
        "<center>\n",
        "    <img src=\"https://www.simplon.ma/images/Simplon_Maghreb_Rouge.png\" width=\"300\" alt=\"cognitiveclass.ai logo\">\n",
        "</center>\n",
        "\n",
        "# Fonctions en Python\n",
        "\n",
        "\n",
        "## Objectifs\n",
        "\n",
        "Après avoir terminé cet atelier, vous serez capable de :\n",
        "\n",
        "*   Comprendre les fonctions et les variables\n",
        "*   Travailler avec les fonctions et les variables\n"
      ]
    },
    {
      "cell_type": "markdown",
      "metadata": {},
      "source": [
        "<h1>Fonctions en Python</h1>\n"
      ]
    },
    {
      "cell_type": "markdown",
      "metadata": {},
      "source": [
        "<p><strong>Bienvenue !</strong> Ce notebook vous enseignera les fonctions dans le langage de programmation Python. À la fin de cet atelier, vous connaîtrez les concepts de base des fonctions, des variables et comment utiliser les fonctions.</p>\n"
      ]
    },
    {
      "cell_type": "markdown",
      "metadata": {},
      "source": [
        "<h2>Tableau des matières</h2>\n",
        "<div class=\"alert alert-block alert-info\" style=\"margin-top: 20px\">\n",
        "    <ul>\n",
        "        <li>\n",
        "            <a href=\"https://#func\">Fonctions</a>\n",
        "            <ul>\n",
        "                <li><a href=\"https://content/?utm_medium=Exinfluencer&utm_source=Exinfluencer&utm_content=000026UJ&utm_term=10006555&utm_id=NA-SkillsNetwork-Channel-SkillsNetworkCoursesIBMDeveloperSkillsNetworkPY0101ENSkillsNetwork19487395-2022-01-01\">Qu'est-ce qu'une fonction ?</a></li>\n",
        "                <li><a href=\"https://var/?utm_medium=Exinfluencer&utm_source=Exinfluencer&utm_content=000026UJ&utm_term=10006555&utm_id=NA-SkillsNetwork-Channel-SkillsNetworkCoursesIBMDeveloperSkillsNetworkPY0101ENSkillsNetwork19487395-2022-01-01\">Variables</a></li>\n",
        "                <li><a href=\"https://simple/?utm_medium=Exinfluencer&utm_source=Exinfluencer&utm_content=000026UJ&utm_term=10006555&utm_id=NA-SkillsNetwork-Channel-SkillsNetworkCoursesIBMDeveloperSkillsNetworkPY0101ENSkillsNetwork19487395-2022-01-01\">Les fonctions simplifient les choses</a></li>\n",
        "            </ul>\n",
        "        </li>\n",
        "        <li><a href=\"https://pre/?utm_medium=Exinfluencer&utm_source=Exinfluencer&utm_content=000026UJ&utm_term=10006555&utm_id=NA-SkillsNetwork-Channel-SkillsNetworkCoursesIBMDeveloperSkillsNetworkPY0101ENSkillsNetwork19487395-2022-01-01\">Fonctions prédéfinies</a></li>\n",
        "        <li><a href=\"https://if/?utm_medium=Exinfluencer&utm_source=Exinfluencer&utm_content=000026UJ&utm_term=10006555&utm_id=NA-SkillsNetwork-Channel-SkillsNetworkCoursesIBMDeveloperSkillsNetworkPY0101ENSkillsNetwork19487395-2022-01-01\">Utilisation des instructions <code>if</code>/<code>else</code> et des boucles dans les fonctions</a></li>\n",
        "        <li><a href=\"https://default/?utm_medium=Exinfluencer&utm_source=Exinfluencer&utm_content=000026UJ&utm_term=10006555&utm_id=NA-SkillsNetwork-Channel-SkillsNetworkCoursesIBMDeveloperSkillsNetworkPY0101ENSkillsNetwork19487395-2022-01-01\">Définir des valeurs par défaut pour les arguments dans vos fonctions personnalisées</a></li>\n",
        "        <li><a href=\"https://global/?utm_medium=Exinfluencer&utm_source=Exinfluencer&utm_content=000026UJ&utm_term=10006555&utm_id=NA-SkillsNetwork-Channel-SkillsNetworkCoursesIBMDeveloperSkillsNetworkPY0101ENSkillsNetwork19487395-2022-01-01\">Variables globales</a></li>\n",
        "        <li><a href=\"https://scope/?utm_medium=Exinfluencer&utm_source=Exinfluencer&utm_content=000026UJ&utm_term=10006555&utm_id=NA-SkillsNetwork-Channel-SkillsNetworkCoursesIBMDeveloperSkillsNetworkPY0101ENSkillsNetwork19487395-2022-01-01\">Portée d'une variable</a></li>\n",
        "        <li><a href=\"https://collec/?utm_medium=Exinfluencer&utm_source=Exinfluencer&utm_content=000026UJ&utm_term=10006555&utm_id=NA-SkillsNetwork-Channel-SkillsNetworkCoursesIBMDeveloperSkillsNetworkPY0101ENSkillsNetwork19487395-2022-01-01\">Collections et fonctions</a></li>\n",
        "        <li>\n",
        "            <a href=\"https://#quiz\">Quiz sur les fonctions</a>\n",
        "        </li>\n",
        "    </ul>\n",
        "\n",
        "</div>\n",
        "\n",
        "<hr>\n"
      ]
    },
    {
      "cell_type": "markdown",
      "metadata": {},
      "source": [
        "<h2 id=\"func\">Fonctions</h2>\n"
      ]
    },
    {
      "cell_type": "markdown",
      "metadata": {},
      "source": [
        "Une fonction est un bloc de code réutilisable qui effectue des opérations spécifiées dans la fonction. Elles permettent de décomposer les tâches et de réutiliser votre code dans différents programmes.\n",
        "\n",
        "Il existe deux types de fonctions :\n",
        "\n",
        "*   <b>Fonctions prédéfinies</b>\n",
        "*   <b>Fonctions définies par l'utilisateur</b>\n"
      ]
    },
    {
      "cell_type": "markdown",
      "metadata": {},
      "source": [
        "<h3 id=\"content\">Qu'est-ce qu'une fonction ?</h3>\n"
      ]
    },
    {
      "cell_type": "markdown",
      "metadata": {},
      "source": [
        "Vous pouvez définir des fonctions pour fournir la fonctionnalité requise. Voici les règles simples pour définir une fonction en Python :\n",
        "\n",
        "*   Les blocs de fonctions commencent par <code>def</code> suivi du <code>nom</code> de la fonction et de parenthèses <code>()</code>.\n",
        "*   Les paramètres ou arguments d'entrée doivent être placés entre ces parenthèses.\n",
        "*   Vous pouvez également définir des paramètres à l'intérieur de ces parenthèses.\n",
        "*   Chaque fonction a un corps qui commence par un deux-points (<code>:</code>) et est indenté.\n",
        "*   Vous pouvez également placer une documentation avant le corps.\n",
        "*   L'instruction <code>return</code> quitte une fonction, en renvoyant éventuellement une valeur.\n",
        "\n",
        "Un exemple de fonction qui ajoute 1 au paramètre <code>a</code>, affiche et renvoie le résultat sous forme de <code>b</code> :\n"
      ]
    },
    {
      "cell_type": "code",
      "execution_count": null,
      "metadata": {},
      "outputs": [],
      "source": [
        "# Exemple de première fonction : Ajouter 1 à a et stocker comme b\n",
        "\n",
        "def add(a):\n",
        "    \"\"\"\n",
        "    ajouter 1 à a\n",
        "    \"\"\"\n",
        "    b = a + 1\n",
        "    print(a, \"si vous ajoutez un\", b)\n",
        "    return(b)"
      ]
    },
    {
      "cell_type": "markdown",
      "metadata": {},
      "source": [
        "La figure ci-dessous illustre la terminologie :\n"
      ]
    },
    {
      "cell_type": "markdown",
      "metadata": {},
      "source": [
        "<img src=\"https://cf-courses-data.s3.us.cloud-object-storage.appdomain.cloud/IBMDeveloperSkillsNetwork-PY0101EN-SkillsNetwork/labs/Module%203/images/FuncsDefinition.png\" width=\"500\"> \n"
      ]
    },
    {
      "cell_type": "markdown",
      "metadata": {},
      "source": [
        "Nous pouvons obtenir de l'aide sur une fonction :\n"
      ]
    },
    {
      "cell_type": "code",
      "execution_count": null,
      "metadata": {},
      "outputs": [],
      "source": [
        "# Obtenir de l'aide sur la fonction add\n",
        "\n",
        "help(add)"
      ]
    },
    {
      "cell_type": "markdown",
      "metadata": {},
      "source": [
        "Nous pouvons appeler la fonction :\n"
      ]
    },
    {
      "cell_type": "code",
      "execution_count": null,
      "metadata": {},
      "outputs": [],
      "source": [
        "# Appeler la fonction add()\n",
        "\n",
        "add(1)"
      ]
    },
    {
      "cell_type": "markdown",
      "metadata": {},
      "source": [
        "Si nous appelons la fonction avec une nouvelle entrée, nous obtenons un nouveau résultat :\n"
      ]
    },
    {
      "cell_type": "code",
      "execution_count": null,
      "metadata": {},
      "outputs": [],
      "source": [
        "# Appeler la fonction add()\n",
        "\n",
        "add(2)"
      ]
    },
    {
      "cell_type": "markdown",
      "metadata": {},
      "source": [
        "Nous pouvons créer différentes fonctions. Par exemple, nous pouvons créer une fonction qui multiplie deux nombres. Les nombres seront représentés par les variables <code>a</code> et <code>b</code> :\n"
      ]
    },
    {
      "cell_type": "code",
      "execution_count": null,
      "metadata": {},
      "outputs": [],
      "source": [
        "# Définir une fonction pour multiplier deux nombres\n",
        "\n",
        "def Mult(a, b):\n",
        "    c = a * b\n",
        "    return(c)\n",
        "    print('Ceci n'est pas affiché')\n",
        "    \n",
        "result = Mult(12,2)\n",
        "print(result)"
      ]
    },
    {
      "cell_type": "markdown",
      "metadata": {},
      "source": [
        "La même fonction peut être utilisée pour différents types de données. Par exemple, nous pouvons multiplier deux entiers :\n"
      ]
    },
    {
      "cell_type": "code",
      "execution_count": null,
      "metadata": {},
      "outputs": [],
      "source": [
        "# Utiliser mult() pour multiplier deux entiers\n",
        "\n",
        "Mult(2, 3)"
      ]
    },
    {
      "cell_type": "markdown",
      "metadata": {},
      "source": [
        "Notez que la fonction se termine à l'instruction <code>return</code>, tout en renvoyant une valeur. Cette valeur peut être assignée à une autre variable si nécessaire.\n",
        "\n",
        "<hr>\n",
        "La même fonction peut être utilisée pour différents types de données. Par exemple, nous pouvons multiplier deux entiers :\n"
      ]
    },
    {
      "cell_type": "markdown",
      "metadata": {},
      "source": [
        "Deux nombres à virgule flottante :\n"
      ]
    },
    {
      "cell_type": "code",
      "execution_count": null,
      "metadata": {},
      "outputs": [],
      "source": [
        "# Utiliser mult() pour multiplier deux nombres à virgule flottante\n",
        "\n",
        "Mult(10.0, 3.14)"
      ]
    },
    {
      "cell_type": "markdown",
      "metadata": {},
      "source": [
        "Nous pouvons même répliquer une chaîne en la multipliant par un entier :\n"
      ]
    },
    {
      "cell_type": "code",
      "execution_count": null,
      "metadata": {},
      "outputs": [],
      "source": [
        "# Utiliser mult() pour multiplier deux valeurs de types différents\n",
        "\n",
        "Mult(2, \"The BodyGuard \")"
      ]
    },
    {
      "cell_type": "markdown",
      "metadata": {},
      "source": [
        "<h3 id=\"var\">Variables</h3>\n"
      ]
    },
    {
      "cell_type": "markdown",
      "metadata": {},
      "source": [
        "L'entrée d'une fonction est appelée un paramètre formel.\n",
        "\n",
        "Une variable déclarée à l'intérieur d'une fonction est appelée une variable locale. Le paramètre n'existe qu'à l'intérieur de la fonction (c'est-à-dire entre le début et la fin de la fonction).\n",
        "\n",
        "Une variable déclarée en dehors d'une définition de fonction est une variable globale, et sa valeur est accessible et modifiable dans tout le programme. Nous discuterons davantage des variables globales à la fin de l'atelier.\n"
      ]
    },
    {
      "cell_type": "code",
      "execution_count": null,
      "metadata": {},
      "outputs": [],
      "source": [
        "# Définition de la fonction\n",
        "\n",
        "def square(a):\n",
        "    \n",
        "    # Variable locale b\n",
        "    b = 1\n",
        "    c = a * a + b\n",
        "    print(a, \"si vous mettez au carré + 1\", c) \n",
        "    return(c)"
      ]
    },
    {
      "cell_type": "markdown",
      "metadata": {},
      "source": [
        "Les étiquettes sont affichées dans la figure :\n"
      ]
    },
    {
      "cell_type": "markdown",
      "metadata": {},
      "source": [
        "<img src=\"https://cf-courses-data.s3.us.cloud-object-storage.appdomain.cloud/IBMDeveloperSkillsNetwork-PY0101EN-SkillsNetwork/labs/Module%203/images/FuncsVar.png\" width=\"500\">\n"
      ]
    },
    {
      "cell_type": "markdown",
      "metadata": {},
      "source": [
        "Nous pouvons appeler la fonction avec une entrée de <b>3</b> :\n"
      ]
    },
    {
      "cell_type": "code",
      "execution_count": null,
      "metadata": {},
      "outputs": [],
      "source": [
        "# Initialiser une variable globale\n",
        "\n",
        "x = 3\n",
        "# Appeler la fonction et retourner la valeur dans y\n",
        "y = square(x)\n",
        "y"
      ]
    },
    {
      "cell_type": "markdown",
      "metadata": {},
      "source": [
        "Nous pouvons appeler la fonction avec une entrée de <b>2</b> d'une manière différente :\n"
      ]
    },
    {
      "cell_type": "code",
      "execution_count": null,
      "metadata": {},
      "outputs": [],
      "source": [
        "# Entrer directement un nombre comme paramètre\n",
        "\n",
        "square(2)"
      ]
    },
    {
      "cell_type": "markdown",
      "metadata": {},
      "source": [
        "S'il n'y a pas d'instruction <code>return</code>, la fonction renvoie <code>None</code>. Les deux fonctions suivantes sont équivalentes :\n"
      ]
    },
    {
      "cell_type": "code",
      "execution_count": null,
      "metadata": {},
      "outputs": [],
      "source": [
        "# Définir des fonctions, une avec une valeur de retour None et l'autre sans valeur de retour\n",
        "\n",
        "def MJ():\n",
        "    print('The BodyGuard')\n",
        "    \n",
        "def MJ1():\n",
        "    print('The BodyGuard')\n",
        "    return(None)"
      ]
    },
    {
      "cell_type": "code",
      "execution_count": null,
      "metadata": {},
      "outputs": [],
      "source": [
        "# Voir la sortie\n",
        "\n",
        "MJ()"
      ]
    },
    {
      "cell_type": "code",
      "execution_count": null,
      "metadata": {},
      "outputs": [],
      "source": [
        "# Voir la sortie\n",
        "\n",
        "MJ1()"
      ]
    },
    {
      "cell_type": "markdown",
      "metadata": {},
      "source": [
        "L'affichage de la fonction après un appel révèle qu'un **None** est la valeur de retour par défaut :\n"
      ]
    },
    {
      "cell_type": "code",
      "execution_count": null,
      "metadata": {},
      "outputs": [],
      "source": [
        "# Voir ce que les fonctions renvoient\n",
        "\n",
        "print(MJ())\n",
        "print(MJ1())"
      ]
    },
    {
      "cell_type": "markdown",
      "metadata": {},
      "source": [
        "Créez une fonction <code>con</code> qui concatène deux chaînes en utilisant l'opération d'addition :\n"
      ]
    },
    {
      "cell_type": "code",
      "execution_count": null,
      "metadata": {},
      "outputs": [],
      "source": [
        "# Définir la fonction pour combiner des chaînes\n",
        "\n",
        "def con(a, b):\n",
        "    return(a + b)"
      ]
    },
    {
      "cell_type": "code",
      "execution_count": null,
      "metadata": {},
      "outputs": [],
      "source": [
        "# Tester la fonction con()\n",
        "\n",
        "con(\"Ceci \", \"est\")"
      ]
    },
    {
      "cell_type": "markdown",
      "metadata": {},
      "source": [
        "<hr/>\n",
        "    <div class=\"alert alert-success alertsuccess\" style=\"margin-top: 20px\">\n",
        "        <h4> [Astuce] Comment en savoir plus sur les fonctions prédéfinies en Python ? </h4>\n",
        "        <p>Nous vous présenterons une variété de fonctions prédéfinies à mesure que vous en apprendrez davantage sur Python. Il y a trop de fonctions pour toutes les enseigner en une seule fois. Mais si vous souhaitez jeter un coup d'œil rapide, voici une carte de référence pour certaines des fonctions prédéfinies couramment utilisées : <a href=\"https://cf-courses-data.s3.us.cloud-object-storage.appdomain.cloud/IBMDeveloperSkillsNetwork-PY0101EN-SkillsNetwork/labs/Module%203/Python_reference_sheet.pdf?utm_medium=Exinfluencer&utm_source=Exinfluencer&utm_content=000026UJ&utm_term=10006555&utm_id=NA-SkillsNetwork-Channel-SkillsNetworkCoursesIBMDeveloperSkillsNetworkPY0101ENSkillsNetwork19487395-2022-01-01\">Référence</a></p>\n",
        "    </div>\n",
        "<hr/>\n"
      ]
    },
    {
      "cell_type": "markdown",
      "metadata": {},
      "source": [
        "<h3 id=\"simple\">Les fonctions simplifient les choses</h3>\n"
      ]
    },
    {
      "cell_type": "markdown",
      "metadata": {},
      "source": [
        "Considérez les deux lignes de code dans <b>Bloc 1</b> et <b>Bloc 2</b> : la procédure pour chaque bloc est identique. La seule différence est le nom et les valeurs des variables.\n"
      ]
    },
    {
      "cell_type": "markdown",
      "metadata": {},
      "source": [
        "<h4>Bloc 1 :</h4>\n"
      ]
    },
    {
      "cell_type": "code",
      "execution_count": null,
      "metadata": {},
      "outputs": [],
      "source": [
        "# Calcul de a et b bloc 1\n",
        "\n",
        "a1 = 4\n",
        "b1 = 5\n",
        "c1 = a1 + b1 + 2 * a1 * b1 - 1\n",
        "if(c1 < 0):\n",
        "    c1 = 0 \n",
        "else:\n",
        "    c1 = 5\n",
        "c1   "
      ]
    },
    {
      "cell_type": "markdown",
      "metadata": {},
      "source": [
        "<h4>Bloc 2 :</h4>\n"
      ]
    },
    {
      "cell_type": "code",
      "execution_count": null,
      "metadata": {},
      "outputs": [],
      "source": [
        "# Calcul de a et b bloc 2\n",
        "\n",
        "a2 = 0\n",
        "b2 = 0\n",
        "c2 = a2 + b2 + 2 * a2 * b2 - 1\n",
        "if(c2 < 0):\n",
        "    c2 = 0 \n",
        "else:\n",
        "    c2 = 5\n",
        "c2   "
      ]
    },
    {
      "cell_type": "markdown",
      "metadata": {},
      "source": [
        "Nous pouvons remplacer les lignes de code par une fonction. Une fonction combine plusieurs instructions en une seule ligne de code. Une fois qu'une fonction est définie, elle peut être utilisée à plusieurs reprises. Vous pouvez invoquer la même fonction plusieurs fois dans votre programme. Vous pouvez enregistrer votre fonction et l'utiliser dans un autre programme ou utiliser la fonction de quelqu'un d'autre. Les lignes de code dans <b>Bloc 1</b> et <b>Bloc 2</b> peuvent être remplacées par la fonction suivante :\n"
      ]
    },
    {
      "cell_type": "code",
      "execution_count": null,
      "metadata": {},
      "outputs": [],
      "source": [
        "# Créer une fonction pour le calcul ci-dessus\n",
        "\n",
        "def Equation(a,b):\n",
        "    c = a + b + 2 * a * b - 1\n",
        "    if(c < 0):\n",
        "        c = 0 \n",
        "    else:\n",
        "        c = 5\n",
        "    return(c) "
      ]
    },
    {
      "cell_type": "markdown",
      "metadata": {},
      "source": [
        "Cette fonction prend deux entrées, a et b, puis applique plusieurs opérations pour retourner c.\n",
        "Nous définissons simplement la fonction, remplaçons les instructions par la fonction, et entrons les nouvelles valeurs de <code>a1</code>, <code>b1</code> et <code>a2</code>, <code>b2</code> comme entrées. L'ensemble du processus est démontré dans la figure :\n"
      ]
    },
    {
      "cell_type": "markdown",
      "metadata": {},
      "source": [
        "<img src=\"https://cf-courses-data.s3.us.cloud-object-storage.appdomain.cloud/IBMDeveloperSkillsNetwork-PY0101EN-SkillsNetwork/labs/Module%203/images/FuncsPros.gif\" width=\"850\">\n"
      ]
    },
    {
      "cell_type": "markdown",
      "metadata": {},
      "source": [
        "Les blocs de code **Bloc 1** et **Bloc 2** peuvent maintenant être remplacés par les blocs de code **Bloc 3** et **Bloc 4**.\n"
      ]
    },
    {
      "cell_type": "markdown",
      "metadata": {},
      "source": [
        "<h4>Bloc 3 :</h4>\n"
      ]
    },
    {
      "cell_type": "code",
      "execution_count": null,
      "metadata": {},
      "outputs": [],
      "source": [
        "a1 = 4\n",
        "b1 = 5\n",
        "c1 = Equation(a1, b1)\n",
        "c1"
      ]
    },
    {
      "cell_type": "markdown",
      "metadata": {},
      "source": [
        "<h4>Bloc 4 :</h4>\n"
      ]
    },
    {
      "cell_type": "code",
      "execution_count": null,
      "metadata": {},
      "outputs": [],
      "source": [
        "a2 = 0\n",
        "b2 = 0\n",
        "c2 = Equation(a2, b2)\n",
        "c2"
      ]
    },
    {
      "cell_type": "markdown",
      "metadata": {},
      "source": [
        "<hr>\n"
      ]
    },
    {
      "cell_type": "markdown",
      "metadata": {},
      "source": [
        "<h2 id=\"pre\">Fonctions prédéfinies</h2>\n"
      ]
    },
    {
      "cell_type": "markdown",
      "metadata": {},
      "source": [
        "Il existe de nombreuses fonctions prédéfinies en Python, commençons donc par les plus simples.\n"
      ]
    },
    {
      "cell_type": "markdown",
      "metadata": {},
      "source": [
        "La fonction <code>print()</code> :\n"
      ]
    },
    {
      "cell_type": "code",
      "execution_count": null,
      "metadata": {},
      "outputs": [],
      "source": [
        "# Fonction intégrée print()\n",
        "\n",
        "album_ratings = [10.0, 8.5, 9.5, 7.0, 7.0, 9.5, 9.0, 9.5] \n",
        "print(album_ratings)"
      ]
    },
    {
      "cell_type": "markdown",
      "metadata": {},
      "source": [
        "La fonction <code>sum()</code> additionne tous les éléments d'une liste ou d'un tuple :\n"
      ]
    },
    {
      "cell_type": "code",
      "execution_count": null,
      "metadata": {},
      "outputs": [],
      "source": [
        "# Utiliser sum() pour additionner tous les éléments d'une liste ou d'un tuple\n",
        "\n",
        "sum(album_ratings)"
      ]
    },
    {
      "cell_type": "markdown",
      "metadata": {},
      "source": [
        "La fonction <code>len()</code> retourne la longueur d'une liste ou d'un tuple :\n"
      ]
    },
    {
      "cell_type": "code",
      "execution_count": null,
      "metadata": {},
      "outputs": [],
      "source": [
        "# Afficher la longueur de la liste ou du tuple\n",
        "\n",
        "len(album_ratings)"
      ]
    },
    {
      "cell_type": "markdown",
      "metadata": {},
      "source": [
        "<h2 id=\"pre\">Fonctions intégrées</h2>\n"
      ]
    },
    {
      "cell_type": "markdown",
      "metadata": {},
      "source": [
        "En Python, une fonction intégrée est une fonction prédéfinie qui est toujours disponible pour une utilisation, offrant des fonctionnalités courantes sans nécessiter d'importations.\n"
      ]
    },
    {
      "cell_type": "code",
      "execution_count": null,
      "metadata": {},
      "outputs": [],
      "source": [
        "# Vous verrez ci-dessous que cela retournera une erreur car un entier seul n'est pas pris en compte lors de l'utilisation d'une fonction. Il doit être sous forme de tuple, de liste ou d'ensemble.\n",
        "\n",
        "sum(1,2)"
      ]
    },
    {
      "cell_type": "code",
      "execution_count": null,
      "metadata": {},
      "outputs": [],
      "source": [
        "# Définir un tuple\n",
        "a = (1, 2)\n",
        "\n",
        "# Passer le tuple à la fonction sum et stocker le résultat dans une variable\n",
        "c = sum(a)\n",
        "\n",
        "# Afficher le résultat\n",
        "print(f\"La somme des éléments dans le tuple {a} est {c}.\")"
      ]
    },
    {
      "cell_type": "code",
      "execution_count": null,
      "metadata": {},
      "outputs": [],
      "source": [
        "# Définir une liste\n",
        "a = [1, 2]\n",
        "\n",
        "# Passer la liste à la fonction sum et stocker le résultat dans une variable\n",
        "c = sum(a)\n",
        "\n",
        "# Afficher le résultat\n",
        "print(f\"La somme des éléments dans la liste {a} est {c}.\")"
      ]
    },
    {
      "cell_type": "markdown",
      "metadata": {},
      "source": [
        "<h2 id=\"if\">Utilisation des instructions <code>if</code>/<code>else</code> et des boucles dans les fonctions</h2>\n"
      ]
    },
    {
      "cell_type": "markdown",
      "metadata": {},
      "source": [
        "La fonction <code>return()</code> est particulièrement utile si vous avez des instructions IF dans la fonction, lorsque vous voulez que votre sortie dépende d'une condition :\n"
      ]
    },
    {
      "cell_type": "code",
      "execution_count": null,
      "metadata": {},
      "outputs": [],
      "source": [
        "# Exemple de fonction\n",
        "\n",
        "def type_of_album(album, year_released):\n",
        "    \n",
        "    print(album, year_released)\n",
        "    if year_released > 1980:\n",
        "        return \"Moderne\"\n",
        "    else:\n",
        "        return \"Ancien\"\n",
        "    \n",
        "x = type_of_album(\"The BodyGuard\", 1980)\n",
        "print(x)"
      ]
    },
    {
      "cell_type": "markdown",
      "metadata": {},
      "source": [
        "Nous pouvons utiliser une boucle dans une fonction. Par exemple, nous pouvons <code>print</code> chaque élément d'une liste :\n"
      ]
    },
    {
      "cell_type": "code",
      "execution_count": null,
      "metadata": {},
      "outputs": [],
      "source": [
        "# Afficher la liste à l'aide d'une boucle for\n",
        "\n",
        "def PrintList(the_list):\n",
        "    for element in the_list:\n",
        "        print(element)"
      ]
    },
    {
      "cell_type": "code",
      "execution_count": null,
      "metadata": {},
      "outputs": [],
      "source": [
        "# Implémenter la fonction PrintList\n",
        "\n",
        "PrintList(['1', 1, 'the man', \"abc\"])"
      ]
    },
    {
      "cell_type": "markdown",
      "metadata": {},
      "source": [
        "<h2 id=\"if\">Comparaison de chaînes dans les fonctions</h2>\n"
      ]
    },
    {
      "cell_type": "markdown",
      "metadata": {},
      "source": [
        "Les opérateurs relationnels comparent les valeurs Unicode des caractères des chaînes depuis l'index zéro jusqu'à la fin de la chaîne. Ils renvoient ensuite une valeur booléenne selon l'opérateur utilisé.\n"
      ]
    },
    {
      "cell_type": "code",
      "execution_count": null,
      "metadata": {},
      "outputs": [],
      "source": [
        "# Comparer deux chaînes directement avec l'opérateur in\n",
        "# ajouter une chaîne\n",
        "string= \"The BodyGuard est le meilleur album\"\n",
        "\n",
        "# Définir une fonction\n",
        "def check_string(text):\n",
        "    \n",
        "# Utiliser une instruction if else et l'opérateur 'in' pour comparer la chaîne\n",
        "    if text in string:\n",
        "        return 'Chaîne correspondante'\n",
        "    else:\n",
        "        return 'Chaîne non correspondante'\n",
        "\n",
        "check_string(\"The BodyGuard est le meilleur\")"
      ]
    },
    {
      "cell_type": "markdown",
      "metadata": {},
      "source": [
        "Ce programme utilise une fonction définie par l'utilisateur nommée compareStrings() pour comparer deux chaînes.\n",
        "\n",
        "Cette fonction reçoit les deux chaînes comme arguments et retourne 1 si les deux chaînes sont égales en utilisant l'opérateur ==.\n"
      ]
    },
    {
      "cell_type": "code",
      "execution_count": null,
      "metadata": {},
      "outputs": [],
      "source": [
        "# Comparer deux chaînes avec l'opérateur == et une fonction\n",
        "def compareStrings(x, y):\n",
        "# Utiliser une instruction if else pour comparer x et y\n",
        "    if x==y:\n",
        "        return 1\n",
        "    \n",
        "# Déclarer deux variables différentes comme string1 et string2 et passer des chaînes dedans\n",
        "string1 = \"The BodyGuard est le meilleur album\"\n",
        "string2 = \"The BodyGuard est le meilleur album\"\n",
        "\n",
        "# Déclarer une variable pour stocker le résultat après avoir comparé les deux chaînes\n",
        "check = compareStrings(string1, string2)\n",
        "\n",
        "# Utiliser une instruction if else pour comparer la chaîne\n",
        "if check==1:\n",
        "    print(\"\\nChaîne correspondante\")\n",
        "else:\n",
        "    print(\"\\nChaîne non correspondante\")"
      ]
    },
    {
      "cell_type": "markdown",
      "metadata": {},
      "source": [
        "**Compter la fréquence des mots apparaissant dans une chaîne à l'aide d'un dictionnaire.**\n",
        "\n",
        "Trouver le nombre d'occurrences d'un mot dans notre chaîne en utilisant Python. C'est ce que nous allons faire dans cette section, compter le nombre de mots dans une chaîne donnée et l'afficher.\n",
        "\n",
        "Supposons que nous ayons une « chaîne » et un « mot » et que nous devions trouver le nombre d'occurrences de ce mot dans notre chaîne en utilisant Python. C'est ce que nous allons faire dans cette section, compter le nombre de mots dans une chaîne donnée et l'afficher.\n",
        "\n",
        "La première chose que nous ferons est de définir une fonction et ensuite créer une liste qui sera initialement vide.\n",
        "\n",
        "Ensuite, nous ajouterons un code pour convertir la chaîne en une liste. La chaîne Python a une méthode split(). Elle prend une chaîne et un séparateur pour retourner une liste.\n",
        "\n",
        "Maintenant, nous déclarerons un dictionnaire vide.\n",
        "\n",
        "Ensuite, nous ajouterons un code utilisant une boucle for pour itérer sur les mots et la valeur comptera la fréquence de chaque mot dans la chaîne et les stockera dans le dictionnaire.\n",
        "\n",
        "Enfin, nous afficherons le dictionnaire.\n"
      ]
    },
    {
      "cell_type": "code",
      "execution_count": null,
      "metadata": {},
      "outputs": [],
      "source": [
        "# Programme Python pour compter les mots dans une chaîne à l'aide d'un dictionnaire\n",
        "def freq(string):\n",
        "    \n",
        "    # Étape 1 : Une variable de liste est déclarée et initialisée à une liste vide.\n",
        "    words = []\n",
        "    \n",
        "    # Étape 2 : Décomposer la chaîne en une liste de mots\n",
        "    words = string.split() # ou string.lower().split()\n",
        "    \n",
        "    # Étape 3 : Déclarer un dictionnaire\n",
        "    Dict = {}\n",
        "    \n",
        "    # Étape 4 : Utiliser une boucle for pour itérer sur les mots et les valeurs dans le dictionnaire\n",
        "    for key in words:\n",
        "        Dict[key] = words.count(key)\n",
        "        \n",
        "    # Étape 5 : Afficher le dictionnaire\n",
        "    print(\"La fréquence des mots est :\",Dict)\n",
        "    \n",
        "# Étape 6 : Appeler la fonction et passer la chaîne dedans\n",
        "freq(\"Mary avait un petit agneau Petit agneau, petit agneau Mary avait un petit agneau. Sa toison était blanche comme la neige Et partout où Mary allait Mary allait, Mary allait \\\n",
        "Partout où Mary allait L'agneau était sûr de suivre\")"
      ]
    },
    {
      "cell_type": "markdown",
      "metadata": {},
      "source": [
        "<hr>\n"
      ]
    },
    {
      "cell_type": "markdown",
      "metadata": {},
      "source": [
        "<h2 id=\"default\">Définir des valeurs par défaut pour les arguments dans vos fonctions personnalisées</h2>\n"
      ]
    },
    {
      "cell_type": "markdown",
      "metadata": {},
      "source": [
        "Vous pouvez définir une valeur par défaut pour les arguments de votre fonction. Par exemple, dans la fonction <code>isGoodRating()</code>, et si nous voulions créer un seuil pour ce que nous considérons comme une bonne note ? Peut-être que, par défaut, nous devrions avoir une note par défaut de 4 :\n"
      ]
    },
    {
      "cell_type": "code",
      "execution_count": null,
      "metadata": {},
      "outputs": [],
      "source": [
        "# Exemple pour définir un paramètre avec une valeur par défaut\n",
        "\n",
        "def isGoodRating(rating=4): \n",
        "    if(rating < 7):\n",
        "        print(\"cet album est mauvais, sa note est\",rating)\n",
        "        \n",
        "    else:\n",
        "        print(\"cet album est bon, sa note est\",rating)\n"
      ]
    },
    {
      "cell_type": "code",
      "execution_count": null,
      "metadata": {},
      "outputs": [],
      "source": [
        "# Tester la valeur avec la valeur par défaut et avec une entrée\n",
        "\n",
        "isGoodRating()\n",
        "isGoodRating(10)"
      ]
    },
    {
      "cell_type": "markdown",
      "metadata": {},
      "source": [
        "<hr>\n"
      ]
    },
    {
      "cell_type": "markdown",
      "metadata": {},
      "source": [
        "<h2 id=\"global\">Variables globales</h2>\n"
      ]
    },
    {
      "cell_type": "markdown",
      "metadata": {},
      "source": [
        "Jusqu'à présent, nous avons créé des variables à l'intérieur des fonctions, mais nous n'avons pas discuté des variables en dehors des fonctions. Celles-ci sont appelées variables globales.<br>\n",
        "Voyons ce que <code>printer1</code> retourne :\n"
      ]
    },
    {
      "cell_type": "code",
      "execution_count": null,
      "metadata": {},
      "outputs": [],
      "source": [
        "# Exemple de variable globale\n",
        "\n",
        "album = \"The BodyGuard\"\n",
        "def printer1(album):\n",
        "    internal_var1 = \"Thriller\"\n",
        "    print(album, \"est un album\")\n",
        "    \n",
        "printer1(album )\n",
        "# essayez d'exécuter le code suivant\n",
        "#printer1(internal_var1) "
      ]
    },
    {
      "cell_type": "markdown",
      "metadata": {},
      "source": [
        "<b>Nous obtenons une erreur de nom : <code>name 'internal_var' is not defined</code>. Pourquoi ?</b>\n",
        "\n",
        "C'est parce que toutes les variables que nous créons dans la fonction sont des <b>variables locales</b>, ce qui signifie que l'assignation de la variable ne persiste pas en dehors de la fonction.\n",
        "\n",
        "Mais il existe un moyen de créer des <b>variables globales</b> à partir d'une fonction comme suit :\n"
      ]
    },
    {
      "cell_type": "code",
      "execution_count": null,
      "metadata": {},
      "outputs": [],
      "source": [
        "album = \"The BodyGuard\"\n",
        "\n",
        "def printer(album):\n",
        "    global internal_var \n",
        "    internal_var= \"Thriller\"\n",
        "    print(album,\"est un album\")\n",
        "\n",
        "printer(album) \n",
        "printer(internal_var)"
      ]
    },
    {
      "cell_type": "markdown",
      "metadata": {},
      "source": [
        "<h2 id=\"scope\">Portée d'une variable</h2>\n"
      ]
    },
    {
      "cell_type": "markdown",
      "metadata": {},
      "source": [
        "La portée d'une variable est la partie du programme où cette variable est accessible. Les variables déclarées en dehors de toutes les définitions de fonctions, comme la variable <code>myFavouriteBand</code> dans le code montré ici, sont accessibles de n'importe où dans le programme. En conséquence, ces variables sont dites avoir une portée globale et sont appelées variables globales. <code>myFavouriteBand</code> est une variable globale, elle est donc accessible depuis la fonction <code>getBandRating</code>, et nous pouvons l'utiliser pour déterminer la note d'un groupe. Nous pouvons également l'utiliser en dehors de la fonction, par exemple lorsque nous la passons à la fonction print pour l'afficher :\n"
      ]
    },
    {
      "cell_type": "code",
      "execution_count": null,
      "metadata": {},
      "outputs": [],
      "source": [
        "# Exemple de variable globale\n",
        "\n",
        "myFavouriteBand = \"AC/DC\"\n",
        "\n",
        "def getBandRating(bandname):\n",
        "    if bandname == myFavouriteBand:\n",
        "        return 10.0\n",
        "    else:\n",
        "        return 0.0\n",
        "\n",
        "print(\"La note de AC/DC est :\", getBandRating(\"AC/DC\"))\n",
        "print(\"La note de Deep Purple est :\",getBandRating(\"Deep Purple\"))\n",
        "print(\"Mon groupe préféré est :\", myFavouriteBand)"
      ]
    },
    {
      "cell_type": "markdown",
      "metadata": {},
      "source": [
        "Regardez cette version modifiée de notre code. Maintenant, la variable <code>myFavouriteBand</code> est définie à l'intérieur de la fonction <code>getBandRating</code>. Une variable définie à l'intérieur d'une fonction est dite être une variable locale de cette fonction. Cela signifie qu'elle n'est accessible qu'à l'intérieur de la fonction dans laquelle elle est définie. Notre fonction <code>getBandRating</code> fonctionnera toujours, car <code>myFavouriteBand</code> est toujours définie dans la fonction. Cependant, nous ne pouvons plus afficher <code>myFavouriteBand</code> en dehors de notre fonction, car c'est une variable locale de notre fonction <code>getBandRating</code> ; elle n'est définie que dans la fonction <code>getBandRating</code> :\n"
      ]
    },
    {
      "cell_type": "code",
      "execution_count": null,
      "metadata": {},
      "outputs": [],
      "source": [
        "# Supprimer la variable \"myFavouriteBand\" de l'exemple précédent pour démontrer un exemple de variable locale\n",
        "\n",
        "del myFavouriteBand\n",
        "\n",
        "# Exemple de variable locale\n",
        "\n",
        "def getBandRating(bandname):\n",
        "    myFavouriteBand = \"AC/DC\"\n",
        "    if bandname == myFavouriteBand:\n",
        "        return 10.0\n",
        "    else:\n",
        "        return 0.0\n",
        "\n",
        "print(\"La note de AC/DC est : \", getBandRating(\"AC/DC\"))\n",
        "print(\"La note de Deep Purple est : \", getBandRating(\"Deep Purple\"))\n",
        "print(\"Mon groupe préféré est\", myFavouriteBand)"
      ]
    },
    {
      "cell_type": "markdown",
      "metadata": {},
      "source": [
        "Enfin, regardez cet exemple. Nous avons maintenant deux définitions de la variable <code>myFavouriteBand</code>. La première a une portée globale, et la seconde est une variable locale dans la fonction <code>getBandRating</code>. À l'intérieur de la fonction <code>getBandRating</code>, la variable locale a la priorité. **Deep Purple** recevra une note de 10.0 lorsqu'il sera passé à la fonction <code>getBandRating</code>. Cependant, en dehors de la fonction <code>getBandRating</code>, la variable locale de <code>getBandRating</code> n'est pas définie, donc la variable <code>myFavouriteBand</code> que nous affichons est la variable globale, qui a la valeur **AC/DC** :\n"
      ]
    },
    {
      "cell_type": "code",
      "execution_count": null,
      "metadata": {},
      "outputs": [],
      "source": [
        "# Exemple de variable globale et locale avec le même nom\n",
        "\n",
        "myFavouriteBand = \"AC/DC\"\n",
        "\n",
        "def getBandRating(bandname):\n",
        "    myFavouriteBand = \"Deep Purple\"\n",
        "    if bandname == myFavouriteBand:\n",
        "        return 10.0\n",
        "    else:\n",
        "        return 0.0\n",
        "\n",
        "print(\"La note de AC/DC est :\",getBandRating(\"AC/DC\"))\n",
        "print(\"La note de Deep Purple est : \",getBandRating(\"Deep Purple\"))\n",
        "print(\"Mon groupe préféré est :\",myFavouriteBand)"
      ]
    },
    {
      "cell_type": "markdown",
      "metadata": {},
      "source": [
        "<hr>\n",
        "<h2 id =\"collec\">Collections et fonctions</h2>\n"
      ]
    },
    {
      "cell_type": "markdown",
      "metadata": {},
      "source": [
        "Lorsque le nombre d'arguments est inconnu pour une fonction, ils peuvent tous être regroupés dans un tuple comme montré ci-dessous :\n"
      ]
    },
    {
      "cell_type": "code",
      "execution_count": null,
      "metadata": {},
      "outputs": [],
      "source": [
        "def printAll(*args): # Tous les arguments sont 'regroupés' dans args qui peut être traité comme un tuple\n",
        "    print(\"Nombre d'arguments :\", len(args)) \n",
        "    for argument in args:\n",
        "        print(argument)\n",
        "# printAll avec 3 arguments\n",
        "printAll('Horsefeather','Adonis','Bone')\n",
        "# printAll avec 4 arguments\n",
        "printAll('Sidecar','Long Island','Mudslide','Carriage')"
      ]
    },
    {
      "cell_type": "markdown",
      "metadata": {},
      "source": [
        "De même, les arguments peuvent également être regroupés dans un dictionnaire comme montré ci-dessous :\n"
      ]
    },
    {
      "cell_type": "code",
      "execution_count": null,
      "metadata": {},
      "outputs": [],
      "source": [
        "def printDictionary(**args):\n",
        "    for key in args:\n",
        "        print(key + \" : \" + args[key])\n",
        "\n",
        "printDictionary(Pays='Canada',Province='Ontario',Ville='Toronto')\n",
        "    "
      ]
    },
    {
      "cell_type": "markdown",
      "metadata": {},
      "source": [
        "Les fonctions peuvent être incroyablement puissantes et polyvalentes. Elles peuvent accepter (et retourner) des types de données, des objets et même d'autres fonctions comme arguments. Considérez l'exemple ci-dessous :\n"
      ]
    },
    {
      "cell_type": "code",
      "execution_count": null,
      "metadata": {},
      "outputs": [],
      "source": [
        "def addItems(list):\n",
        "    list.append(\"Trois\")\n",
        "    list.append(\"Quatre\")\n",
        "\n",
        "myList = [\"Un\",\"Deux\"]\n",
        "\n",
        "addItems(myList)\n",
        "\n",
        "myList\n",
        "    "
      ]
    },
    {
      "cell_type": "markdown",
      "metadata": {},
      "source": [
        "Notez que les modifications apportées à la liste ne sont pas limitées à la portée de la fonction. Cela se produit car c'est la **référence** de la liste qui est passée à la fonction - Toutes les modifications sont effectuées sur l'instance originale de la liste. Par conséquent, il faut être prudent lorsque l'on passe des objets mutables dans les fonctions.\n",
        "\n",
        "<hr>\n"
      ]
    },
    {
      "cell_type": "markdown",
      "metadata": {},
      "source": [
        "<h2>Quiz sur les fonctions</h2>\n"
      ]
    },
    {
      "cell_type": "markdown",
      "metadata": {},
      "source": [
        "Créez une fonction qui divise le premier argument par le second argument :\n"
      ]
    },
    {
      "cell_type": "code",
      "execution_count": null,
      "metadata": {},
      "outputs": [],
      "source": [
        "# Écrivez votre code ci-dessous et appuyez sur Shift+Enter pour exécuter\n"
      ]
    },
    {
      "cell_type": "markdown",
      "metadata": {},
      "source": [
        "<hr>\n"
      ]
    },
    {
      "cell_type": "markdown",
      "metadata": {},
      "source": [
        "Utilisez la fonction <code>con</code> pour la question suivante.\n"
      ]
    },
    {
      "cell_type": "code",
      "execution_count": null,
      "metadata": {},
      "outputs": [],
      "source": [
        "# Utiliser la fonction con pour la question suivante\n",
        "\n",
        "def con(a, b):\n",
        "    return(a + b)"
      ]
    },
    {
      "cell_type": "markdown",
      "metadata": {},
      "source": [
        "La fonction <code>con</code> que nous avons définie précédemment peut-elle être utilisée pour additionner deux entiers ou chaînes ?\n"
      ]
    },
    {
      "cell_type": "code",
      "execution_count": null,
      "metadata": {},
      "outputs": [],
      "source": [
        "# Écrivez votre code ci-dessous, commentez le texte, puis appuyez sur Shift+Enter pour exécuter\n"
      ]
    },
    {
      "cell_type": "markdown",
      "metadata": {},
      "source": [
        "<hr>\n"
      ]
    },
    {
      "cell_type": "markdown",
      "metadata": {},
      "source": [
        "La fonction <code>con</code> que nous avons définie précédemment peut-elle être utilisée pour concaténer des listes ou des tuples ?\n"
      ]
    },
    {
      "cell_type": "code",
      "execution_count": null,
      "metadata": {},
      "outputs": [],
      "source": [
        "# Écrivez votre code ci-dessous, commentez le texte, puis appuyez sur Shift+Enter pour exécuter\n"
      ]
    },
    {
      "cell_type": "markdown",
      "metadata": {},
      "source": [
        "Écrivez un code de fonction pour trouver le nombre total d'occurrences du mot `little` dans la chaîne donnée : \n",
        "`\"Mary avait un petit agneau Petit agneau, petit agneau Mary avait un petit agneau. Sa toison était blanche comme la neige Et partout où Mary allait Mary allait, Mary allait Partout où Mary allait L'agneau était sûr de suivre\"`**`\n"
      ]
    },
    {
      "cell_type": "code",
      "execution_count": null,
      "metadata": {},
      "outputs": [],
      "source": [
        "# Écrivez votre code ci-dessous et appuyez sur Shift+Enter pour exécuter\n"
      ]
    },
    {
      "cell_type": "markdown",
      "metadata": {},
      "source": [
        "<hr>\n",
        "<p>Félicitations ! Vous avez terminé la leçon ainsi que l’atelier pratique sur les fonctions.\n",
        "<hr>\n"
      ]
    }
  ],
  "metadata": {
    "kernelspec": {
      "display_name": "Python (Pyodide)",
      "language": "python",
      "name": "python"
    },
    "language_info": {
      "codemirror_mode": {
        "name": "python",
        "version": 3
      },
      "file_extension": ".py",
      "mimetype": "text/x-python",
      "name": "python",
      "nbconvert_exporter": "python",
      "pygments_lexer": "ipython3",
      "version": "3.8"
    },
    "prev_pub_hash": "abe1f79bb4154d173fd7e36514357e82dbf1938022a7ca803c334cff44d29d61"
  },
  "nbformat": 4,
  "nbformat_minor": 4
}
