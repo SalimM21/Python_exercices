{
  "cells": [
    {
      "cell_type": "markdown",
      "metadata": {},
      "source": [
        "<center>\n",
        "    <img src=\"https://www.simplon.ma/images/Simplon_Maghreb_Rouge.png\" width=\"300\" alt=\"cognitiveclass.ai logo\">\n",
        "</center>\n",
        "\n",
        "\n",
        "# Travailler avec les variables et les expressions en Python\n",
        "\n",
        "\n",
        "    \n",
        "\n",
        "## Objectifs\n",
        "\n",
        "Après avoir terminé ces exercices, vous serez capable de :\n",
        "\n",
        "* Utiliser des expressions et des variables pour effectuer des opérations\n",
        "\n"
      ]
    },
    {
      "cell_type": "markdown",
      "metadata": {},
      "source": [
        "<h2>Table of Contents</h2>\n",
        "<div class=\"alert alert-block alert-info\" style=\"margin-top: 20px\">\n",
        "    <ul>\n",
        "        <li>\n",
        "            <a href=\"#Expressions-and-Variables\">Expressions et variables</a>\n",
        "            <ul>\n",
        "                <li><a>Erreurs en Python</a></li>\n",
        "                <li><a href=\"#Expressions\">Expressions</a></li>\n",
        "                <li><a href=\"#Exercise:-Expressions\">Exercise: Expressions</a></li>\n",
        "                <li><a href=\"#Variables\">Variables</a></li>\n",
        "                <li><a href=\"#Exercise:-Expression-and-Variables-in-Python\">Exercise: Expression et Variables en Python</a></li>\n",
        "                <li><a>Lists en Python</a></li>\n",
        "            </ul>\n",
        "        </li>\n",
        "    </ul>\n",
        "</div>\n",
        "\n",
        "<hr>\n"
      ]
    },
    {
      "cell_type": "markdown",
      "metadata": {},
      "source": [
        "## Errors in Python"
      ]
    },
    {
      "cell_type": "markdown",
      "metadata": {},
      "source": [
        "<p>Tout le monde fait des erreurs. Pour de nombreux types d’erreurs, Python vous avertira en affichant un message d’erreur. Il est important de lire attentivement ces messages afin de bien comprendre où vous avez commis une erreur et comment la corriger.</p>\n",
        "<p>Par exemple, si vous écrivez <code>print</code> comme <code>frint</code>, Python affichera un message d’erreur. Essayez pour voir :</p>\n"
      ]
    },
    {
      "cell_type": "code",
      "execution_count": null,
      "metadata": {},
      "outputs": [],
      "source": [
        "frint(\"Hello, Python!\")"
      ]
    },
    {
      "cell_type": "markdown",
      "metadata": {},
      "source": [
        "<p>Le message d’erreur vous indique : \n",
        "<ol>\n",
        "    <li>où l’erreur s’est produite (ce qui est particulièrement utile dans de grandes cellules de notebook ou des scripts), et</li>\n",
        "    <li>le type d’erreur (NameError)</li>\n",
        "</ol>\n",
        "<p>Ici, Python a tenté d’exécuter la fonction <code>frint</code>, mais n’a pas pu déterminer ce qu’est <code>frint</code>, car ce n’est pas une fonction intégrée et nous ne l’avons pas non plus définie auparavant.</p>\n"
      ]
    },
    {
      "cell_type": "markdown",
      "metadata": {},
      "source": [
        "<p>\n",
        "    Vous remarquerez que si nous faisons un autre type d’erreur, comme oublier de fermer une chaîne de caractères, nous obtiendrons une erreur différente (c’est-à-dire une <code>SyntaxError</code>). Essayez ci-dessous :\n",
        "</p>\n"
      ]
    },
    {
      "cell_type": "markdown",
      "metadata": {},
      "source": [
        "## Expressions et Variables\n"
      ]
    },
    {
      "cell_type": "markdown",
      "metadata": {},
      "source": [
        "### Expressions\n"
      ]
    },
    {
      "cell_type": "markdown",
      "metadata": {},
      "source": [
        "<p>Les expressions en Python peuvent inclure des opérations entre des types compatibles (par exemple, des entiers et des nombres à virgule flottante). Par exemple, des opérations arithmétiques de base comme l’addition de plusieurs nombres :</p>\n"
      ]
    },
    {
      "cell_type": "code",
      "execution_count": null,
      "metadata": {},
      "outputs": [],
      "source": [
        "# Expression d'opération d'addition\n",
        "\n",
        "43 + 60 + 16 + 41"
      ]
    },
    {
      "cell_type": "markdown",
      "metadata": {},
      "source": [
        "<p>Nous pouvons effectuer des opérations de soustraction en utilisant l'opérateur moins. Dans ce cas, le résultat est un nombre négatif :</p>\n"
      ]
    },
    {
      "cell_type": "code",
      "execution_count": null,
      "metadata": {},
      "outputs": [],
      "source": [
        "# Expression d'opération de soustraction\n",
        "\n",
        "50 - 60"
      ]
    },
    {
      "cell_type": "markdown",
      "metadata": {},
      "source": [
        "<p>Nous pouvons effectuer une multiplication en utilisant un astérisque :</p>\n"
      ]
    },
    {
      "cell_type": "code",
      "execution_count": null,
      "metadata": {},
      "outputs": [],
      "source": [
        "# Multiplication\n",
        "\n",
        "5 * 5"
      ]
    },
    {
      "cell_type": "markdown",
      "metadata": {},
      "source": [
        "<p>Nous pouvons également effectuer une division en utilisant la barre oblique (slash) :"
      ]
    },
    {
      "cell_type": "code",
      "execution_count": null,
      "metadata": {},
      "outputs": [],
      "source": [
        "# Division\n",
        "\n",
        "25 / 5"
      ]
    },
    {
      "cell_type": "markdown",
      "metadata": {},
      "source": [
        "<p>Nous pouvons utiliser la double barre oblique (//) pour effectuer une division entière, où le résultat est arrondi à l'entier inférieur le plus proche :\n"
      ]
    },
    {
      "cell_type": "code",
      "execution_count": null,
      "metadata": {},
      "outputs": [],
      "source": [
        "# Division entière\n",
        "\n",
        "25 // 5"
      ]
    },
    {
      "cell_type": "markdown",
      "metadata": {},
      "source": [
        "<p> Dans l’exemple suivant, Python ajoute 30 au résultat de la multiplication (c’est-à-dire 120).\n"
      ]
    },
    {
      "cell_type": "code",
      "execution_count": null,
      "metadata": {},
      "outputs": [],
      "source": [
        "# Expression mathématique\n",
        "\n",
        "30 + 2 * 60"
      ]
    },
    {
      "cell_type": "markdown",
      "metadata": {},
      "source": [
        "### Variables\n"
      ]
    },
    {
      "cell_type": "markdown",
      "metadata": {},
      "source": [
        "<p>Tout comme dans la plupart des langages de programmation, nous pouvons stocker des valeurs dans des <i>variables</i>, afin de pouvoir les réutiliser plus tard. Par exemple :</p>\n"
      ]
    },
    {
      "cell_type": "code",
      "execution_count": null,
      "metadata": {},
      "outputs": [],
      "source": [
        "# Stocker une valeur dans une variable\n",
        "\n",
        "x = 43 + 60 + 16 + 41"
      ]
    },
    {
      "cell_type": "markdown",
      "metadata": {},
      "source": [
        "<p>Pour afficher la valeur de <code>x</code> dans un Notebook, il suffit simplement de le placer à la dernière ligne d'une cellule :</p>\n"
      ]
    },
    {
      "cell_type": "code",
      "execution_count": null,
      "metadata": {},
      "outputs": [],
      "source": [
        "# Afficher la valeur stockée dans une variable\n",
        "\n",
        "x"
      ]
    },
    {
      "cell_type": "markdown",
      "metadata": {},
      "source": [
        "<p>Nous pouvons également effectuer des opérations sur <code>x</code> et enregistrer le résultat dans une nouvelle variable:</p>\n"
      ]
    },
    {
      "cell_type": "code",
      "execution_count": null,
      "metadata": {},
      "outputs": [],
      "source": [
        "y = x / 60\n",
        "y"
      ]
    },
    {
      "cell_type": "code",
      "execution_count": null,
      "metadata": {},
      "outputs": [],
      "source": [
        "# Expression complexe\n",
        "\n",
        "total_hours = (43 + 42 + 57) / 60 "
      ]
    },
    {
      "cell_type": "markdown",
      "metadata": {},
      "source": [
        "### Exercice : Expressions en Python\n"
      ]
    },
    {
      "cell_type": "markdown",
      "metadata": {},
      "source": [
        "Écrivez une expression pour ajouter 30 et 20 et soustraire 40"
      ]
    },
    {
      "cell_type": "code",
      "execution_count": null,
      "metadata": {},
      "outputs": [],
      "source": [
        "\n"
      ]
    },
    {
      "cell_type": "markdown",
      "metadata": {},
      "source": [
        "Écrivez une expression pour soustraire 5 de 55 et diviser le résultat par 10"
      ]
    },
    {
      "cell_type": "code",
      "execution_count": null,
      "metadata": {},
      "outputs": [],
      "source": []
    },
    {
      "cell_type": "markdown",
      "metadata": {},
      "source": [
        "### Exercice : Variables en Python\n"
      ]
    },
    {
      "cell_type": "markdown",
      "metadata": {},
      "source": [
        "<p>quelle est la valeur de <code>x</code> où <code>x = 3 + 2 * 2</code></p>\n"
      ]
    },
    {
      "cell_type": "code",
      "execution_count": null,
      "metadata": {},
      "outputs": [],
      "source": []
    },
    {
      "cell_type": "markdown",
      "metadata": {},
      "source": [
        "<p>quelle est la valeur de <code>y</code> x <code>y = (3 + 2) * 2</code>?</p>\n"
      ]
    },
    {
      "cell_type": "code",
      "execution_count": null,
      "metadata": {},
      "outputs": [],
      "source": []
    },
    {
      "cell_type": "markdown",
      "metadata": {},
      "source": [
        "## Lists en Python"
      ]
    },
    {
      "cell_type": "markdown",
      "metadata": {},
      "source": [
        "### Indexing"
      ]
    },
    {
      "cell_type": "markdown",
      "metadata": {},
      "source": [
        "<p>Nous allons découvrir les listes en Python. Une liste est une collection ordonnée d’objets variés tels que des entiers, des chaînes de caractères, et même d’autres listes. L’adresse de chaque élément dans une liste est appelée un <b>indice</b>. Un indice est utilisé pour accéder aux éléments d’une liste et s’y référer.</p>\n"
      ]
    },
    {
      "cell_type": "markdown",
      "metadata": {},
      "source": [
        "<img src=\"https://cf-courses-data.s3.us.cloud-object-storage.appdomain.cloud/IBMDeveloperSkillsNetwork-PY0101EN-SkillsNetwork/labs/Module%202/images/ListsIndex.png\" width=\"1000\">"
      ]
    },
    {
      "cell_type": "markdown",
      "metadata": {},
      "source": [
        "<p>Pour créer une liste, tapez la liste entre crochets <b>[ ]</b>, avec son contenu entre les crochets et séparé par des virgules. Essayons !</p>"
      ]
    },
    {
      "cell_type": "code",
      "execution_count": null,
      "metadata": {},
      "outputs": [],
      "source": [
        "L = [\"The Bodyguard\", 7.0, 1992]\n",
        "L"
      ]
    },
    {
      "cell_type": "markdown",
      "metadata": {},
      "source": [
        "<p>Nous pouvons utiliser des indices positifs et négatifs avec une liste :</p>\n"
      ]
    },
    {
      "cell_type": "markdown",
      "metadata": {},
      "source": [
        "<img src=\"https://cf-courses-data.s3.us.cloud-object-storage.appdomain.cloud/kkMiHZTtmXzY4BWInK5Azg/Slide1.PNG\" width=\"1000\">\n"
      ]
    },
    {
      "cell_type": "code",
      "execution_count": null,
      "metadata": {},
      "outputs": [],
      "source": [
        "print('le même élément en utilisant les indices positifs et négatifs :\\n Positif :', L[0],\n",
        "      '\\n Négatif :', L[-3])\n",
        "print('le même élément en utilisant les indices positifs et négatifs :\\n Positif :', L[1],\n",
        "      '\\n Négatif :', L[-2])\n",
        "print('le même élément en utilisant les indices positifs et négatifs :\\n Positif :', L[2],\n",
        "      '\\n Négatif :', L[-1])"
      ]
    },
    {
      "cell_type": "markdown",
      "metadata": {},
      "source": [
        "<p>Nous pouvons utiliser la méthode <code>extend</code> pour ajouter de nouveaux éléments à la liste :</p>\n"
      ]
    },
    {
      "cell_type": "code",
      "execution_count": null,
      "metadata": {},
      "outputs": [],
      "source": [
        "L = [ \"The Bodyguard\", 7.0]\n",
        "L.extend(['pop', 10])\n",
        "L"
      ]
    },
    {
      "cell_type": "markdown",
      "metadata": {},
      "source": [
        "<p>Une autre méthode similaire est <code>append</code>. Si nous utilisons <code>append</code> au lieu de <code>extend</code>, nous ajoutons un seul élément à la liste :</p>\n"
      ]
    },
    {
      "cell_type": "code",
      "execution_count": null,
      "metadata": {},
      "outputs": [],
      "source": [
        "L = [ \"The Bodyguard\", 7.0]\n",
        "L.append(['pop', 10])\n",
        "L"
      ]
    },
    {
      "cell_type": "markdown",
      "metadata": {},
      "source": [
        "<p>Nous pouvons également supprimer un élément d'une liste en utilisant la commande <code>del</code> :</p>\n"
      ]
    },
    {
      "cell_type": "code",
      "execution_count": null,
      "metadata": {},
      "outputs": [],
      "source": [
        "print('Before change:', L)\n",
        "del(L[0])\n",
        "print('After change:', L)"
      ]
    },
    {
      "cell_type": "markdown",
      "metadata": {},
      "source": [
        "<p>Nous pouvons convertir une chaîne de caractères en liste en utilisant la méthode <code>split</code>. Par exemple, la méthode <code>split</code> transforme chaque groupe de caractères séparé par un espace en un élément de la liste :</p>\n"
      ]
    },
    {
      "cell_type": "code",
      "execution_count": null,
      "metadata": {},
      "outputs": [],
      "source": [
        "'hard rock'.split()"
      ]
    },
    {
      "cell_type": "markdown",
      "metadata": {},
      "source": [
        "<p>Nous pouvons utiliser la fonction <code>split</code> pour séparer une chaîne de caractères à partir d’un caractère spécifique, que l’on appelle un délimiteur. Nous passons ce caractère en argument — dans ce cas, une virgule. Le résultat est une liste, et chaque élément correspond à un groupe de caractères séparés par une virgule :</p>\n"
      ]
    },
    {
      "cell_type": "code",
      "execution_count": null,
      "metadata": {},
      "outputs": [],
      "source": [
        "'A,B,C,D'.split(',')"
      ]
    },
    {
      "cell_type": "markdown",
      "metadata": {},
      "source": [
        "### Exercice : Lists en Python\n"
      ]
    },
    {
      "cell_type": "markdown",
      "metadata": {},
      "source": [
        "<p>Créer une liste vide <code>shopping_list<code>:<p>"
      ]
    },
    {
      "cell_type": "code",
      "execution_count": null,
      "metadata": {},
      "outputs": [],
      "source": []
    },
    {
      "cell_type": "markdown",
      "metadata": {},
      "source": [
        "<p>Maintenant, enregistrez les articles suivants dans <code>shopping_list</code> :</p>\n",
        "<ul>\n",
        "    <li>Montre</li>\n",
        "    <li>Ordinateur portable</li>\n",
        "    <li>Chaussures</li>\n",
        "    <li>Stylo</li>\n",
        "    <li>Vêtements</li>\n",
        "</ul>\n"
      ]
    },
    {
      "cell_type": "code",
      "execution_count": null,
      "metadata": {},
      "outputs": [],
      "source": []
    },
    {
      "cell_type": "markdown",
      "metadata": {},
      "source": [
        "<p>Ajoutez un nouvel article à la <code>shopping_list</code> : <b>Ballon de football</b></p>\n"
      ]
    },
    {
      "cell_type": "code",
      "execution_count": null,
      "metadata": {},
      "outputs": [],
      "source": []
    },
    {
      "cell_type": "markdown",
      "metadata": {},
      "source": [
        "<p>Afficher le premier et le dernier article de la <code>shopping_list</code> :</p>\n"
      ]
    },
    {
      "cell_type": "code",
      "execution_count": null,
      "metadata": {},
      "outputs": [],
      "source": []
    },
    {
      "cell_type": "markdown",
      "metadata": {},
      "source": [
        "<p>Modifier un article de la <code>shopping_list</code> :<br>\n",
        "Au lieu de <u>\"Stylo\"</u>, je veux acheter un <u>\"Cahier\"</u>.<br>\n",
        "Modifions l’article enregistré dans la liste.</p>\n"
      ]
    },
    {
      "cell_type": "code",
      "execution_count": null,
      "metadata": {},
      "outputs": [],
      "source": []
    },
    {
      "cell_type": "markdown",
      "metadata": {},
      "source": [
        "<p>Supprimons l’article <u>vêtements</u> de la <code>shopping_list</code> "
      ]
    },
    {
      "cell_type": "code",
      "execution_count": null,
      "metadata": {},
      "outputs": [],
      "source": []
    },
    {
      "cell_type": "markdown",
      "metadata": {},
      "source": [
        "### Dictionaries"
      ]
    },
    {
      "cell_type": "markdown",
      "metadata": {},
      "source": [
        "#### C'est quoi un dictionnaires"
      ]
    },
    {
      "cell_type": "markdown",
      "metadata": {},
      "source": [
        "Un dictionnaire est composé de clés et de valeurs. Il est utile de comparer un dictionnaire à une liste. Au lieu d'être indexé numériquement comme une liste, les dictionnaires possèdent des clés. Ces clés sont utilisées pour accéder aux valeurs à l'intérieur d'un dictionnaire.\n",
        "\n",
        "Le meilleur exemple d’un dictionnaire est l’accès aux informations d’une personne en utilisant le numéro de sécurité sociale.\n",
        "Ici, le numéro de sécurité sociale, qui est un numéro unique, sera la clé, et les informations de la personne seront les valeurs qui lui sont associées."
      ]
    },
    {
      "cell_type": "markdown",
      "metadata": {},
      "source": [
        "<img src=\"https://cf-courses-data.s3.us.cloud-object-storage.appdomain.cloud/54cVKVMZaWEw7wSCDL8NjQ/DictList1.png\" width=\"650\">\n"
      ]
    },
    {
      "cell_type": "markdown",
      "metadata": {},
      "source": [
        "#### Créer un dictionnaire et accéder aux éléments"
      ]
    },
    {
      "cell_type": "markdown",
      "metadata": {},
      "source": [
        "Un exemple de dictionnaire <code>Dict</code> :\n",
        "Ici, nous créons un dictionnaire nommé Dict avec les détails suivants :\n",
        "\n",
        "* Les clés sont key1, key2, key3, key4, key5, (0,1).\n",
        "* Les valeurs sont {1, 2, [3, 3, 3], (4, 4, 4), 5, 6} correspondant aux clés."
      ]
    },
    {
      "cell_type": "code",
      "execution_count": null,
      "metadata": {},
      "outputs": [],
      "source": [
        "Dict = {\"key1\": 1, \"key2\": \"2\", \"key3\": [3, 3, 3], \"key4\": (4, 4, 4), ('key5'): 5, (0, 1): 6}\n",
        "Dict"
      ]
    },
    {
      "cell_type": "markdown",
      "metadata": {},
      "source": [
        "<p>Accès à la valeur par la clé</p>"
      ]
    },
    {
      "cell_type": "code",
      "execution_count": null,
      "metadata": {},
      "outputs": [],
      "source": [
        "Dict[\"key1\"]"
      ]
    },
    {
      "cell_type": "markdown",
      "metadata": {},
      "source": [
        "Chaque clé est séparée de sa valeur par deux-points \"<code>:</code>\". Les éléments sont séparés par des virgules, et l’ensemble du dictionnaire est encadré par des accolades. Un dictionnaire vide, sans aucun élément, s’écrit avec seulement deux accolades, comme ceci \"<code>{}</code>\"."
      ]
    },
    {
      "cell_type": "code",
      "execution_count": null,
      "metadata": {},
      "outputs": [],
      "source": [
        "release_year_dict = {\"Thriller\": \"1982\", \"Back in Black\": \"1980\", \\\n",
        "                    \"The Dark Side of the Moon\": \"1973\", \"The Bodyguard\": \"1992\", \\\n",
        "                    \"Bat Out of Hell\": \"1977\", \"Their Greatest Hits (1971-1975)\": \"1976\", \\\n",
        "                    \"Saturday Night Fever\": \"1977\", \"Rumours\": \"1977\"}\n",
        "release_year_dict"
      ]
    },
    {
      "cell_type": "markdown",
      "metadata": {},
      "source": [
        "<p>Obtenir toutes les clés d’un dictionnaire</p>\n"
      ]
    },
    {
      "cell_type": "code",
      "execution_count": null,
      "metadata": {},
      "outputs": [],
      "source": [
        "release_year_dict.keys()"
      ]
    },
    {
      "cell_type": "markdown",
      "metadata": {},
      "source": [
        "<p>Obtenir toutes les valeurs d’un dictionnaire</p>\n"
      ]
    },
    {
      "cell_type": "code",
      "execution_count": null,
      "metadata": {},
      "outputs": [],
      "source": [
        "release_year_dict.values() "
      ]
    },
    {
      "cell_type": "markdown",
      "metadata": {},
      "source": [
        "<p>Ajouter une valeur avec une clé dans un dictionnaire</p>"
      ]
    },
    {
      "cell_type": "code",
      "execution_count": null,
      "metadata": {},
      "outputs": [],
      "source": [
        "release_year_dict['Graduation'] = '2007'\n",
        "release_year_dict"
      ]
    },
    {
      "cell_type": "markdown",
      "metadata": {},
      "source": [
        "<p>Supprimer des entrées par leur clé</p>"
      ]
    },
    {
      "cell_type": "code",
      "execution_count": null,
      "metadata": {},
      "outputs": [],
      "source": [
        "del(release_year_dict['Thriller'])\n",
        "del(release_year_dict['Graduation'])\n",
        "release_year_dict"
      ]
    },
    {
      "cell_type": "markdown",
      "metadata": {},
      "source": [
        "<p>Vérifier si la clé est dans le dictionnaire</p>"
      ]
    },
    {
      "cell_type": "code",
      "execution_count": null,
      "metadata": {},
      "outputs": [],
      "source": [
        "'The Bodyguard' in release_year_dict"
      ]
    },
    {
      "cell_type": "code",
      "execution_count": null,
      "metadata": {},
      "outputs": [],
      "source": []
    },
    {
      "cell_type": "markdown",
      "metadata": {},
      "source": [
        "### Exercice : Dictionnaires en Python\n"
      ]
    },
    {
      "cell_type": "markdown",
      "metadata": {},
      "source": [
        "<p>Créer un dictionnaire vide</p>"
      ]
    },
    {
      "cell_type": "markdown",
      "metadata": {},
      "source": []
    },
    {
      "cell_type": "markdown",
      "metadata": {},
      "source": [
        "<p>Stocker les détails du premier produit dans le dictionnaire</p>\n",
        "\n",
        "* ProductNo2 = \"Laptop\"\n",
        "* ProductNo2_quantity = 10\n",
        "* ProductNo2_price = 50000\n",
        "* ProductNo2_releaseYear= 2023"
      ]
    },
    {
      "cell_type": "code",
      "execution_count": null,
      "metadata": {},
      "outputs": [],
      "source": []
    },
    {
      "cell_type": "markdown",
      "metadata": {},
      "source": [
        "<p>Afficher les Produits présents dans le dic</p>"
      ]
    },
    {
      "cell_type": "code",
      "execution_count": null,
      "metadata": {},
      "outputs": [],
      "source": []
    },
    {
      "cell_type": "markdown",
      "metadata": {},
      "source": [
        "<p>Ajouter un autre element au dict</p>\n",
        "\n",
        "* Product Name= Mobile phone\n",
        "* Product Quantity= 5\n",
        "* Product price= 20000\n",
        "* Product Release Year= 2020"
      ]
    },
    {
      "cell_type": "code",
      "execution_count": null,
      "metadata": {},
      "outputs": [],
      "source": []
    },
    {
      "cell_type": "markdown",
      "metadata": {},
      "source": [
        "<p>Vérifiez si `ProductNo1_releaseYear` et `ProductNo2_releaseYear` sont dans dic</p>"
      ]
    },
    {
      "cell_type": "code",
      "execution_count": null,
      "metadata": {},
      "outputs": [],
      "source": []
    },
    {
      "cell_type": "markdown",
      "metadata": {},
      "source": [
        "<p>Supprimer l’année de sortie des deux produits du stock</p>\n"
      ]
    },
    {
      "cell_type": "code",
      "execution_count": null,
      "metadata": {},
      "outputs": [],
      "source": []
    },
    {
      "cell_type": "markdown",
      "metadata": {},
      "source": [
        "<hr>\n",
        "<p>Félicitations ! Vous avez terminé la leçon ainsi que l’atelier pratique sur les expressions et Variables en Python.\n",
        "<hr>\n"
      ]
    },
    {
      "cell_type": "markdown",
      "metadata": {},
      "source": []
    }
  ],
  "metadata": {
    "kernelspec": {
      "display_name": "Python 3.10.0 64-bit",
      "language": "python",
      "name": "python3"
    },
    "language_info": {
      "codemirror_mode": {
        "name": "ipython",
        "version": 3
      },
      "file_extension": ".py",
      "mimetype": "text/x-python",
      "name": "python",
      "nbconvert_exporter": "python",
      "pygments_lexer": "ipython3",
      "version": "3.10.0"
    },
    "prev_pub_hash": "38315f83c6ccfe0ea1405ea98829655fbe1d562d8f700325e229ba41968a231d",
    "vscode": {
      "interpreter": {
        "hash": "0adcf7c37a812ee059640473108c3d074f30136fd68c1c603dfae7fe9732cd02"
      }
    }
  },
  "nbformat": 4,
  "nbformat_minor": 4
}
