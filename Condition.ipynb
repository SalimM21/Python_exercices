{
  "cells": [
    {
      "cell_type": "markdown",
      "metadata": {},
      "source": [
        "<center>\n",
        "    <img src=\"https://www.simplon.ma/images/Simplon_Maghreb_Rouge.png\" width=\"300\" alt=\"cognitiveclass.ai logo\">\n",
        "</center>\n",
        "\n",
        "# Conditions et branchements\n",
        "\n",
        "\n",
        "## Objectifs\n",
        "\n",
        "Après avoir terminé cet atelier, vous serez capable de :\n",
        "\n",
        "*   Travailler avec les instructions conditionnelles en Python, y compris les opérateurs et les branchements.\n"
      ]
    },
    {
      "cell_type": "markdown",
      "metadata": {},
      "source": [
        "<h2>Tableau des matières</h2>\n",
        "<div class=\"alert alert-block alert-info\" style=\"margin-top: 20px\">\n",
        "    <ul>\n",
        "        <li>\n",
        "            <a href=\"#Instructions-Conditionnelles\">Instructions Conditionnelles</a>\n",
        "            <ul>\n",
        "                <li><a href=\"#Opérateurs-de-Comparaison\">Opérateurs de Comparaison</a></li>\n",
        "                <li><a href=\"#Branchements\">Branchements</a></li>\n",
        "                <li><a href=\"#Opérateurs-logiques\">Opérateurs logiques</a></li>\n",
        "            </ul>\n",
        "        </li>\n",
        "        <li>\n",
        "            <a href=\"#Quiz-sur-les-Conditions\">Quiz sur les Conditions</a>\n",
        "        </li>\n",
        "    </ul>\n",
        "\n",
        "</div>\n",
        "\n",
        "<hr>\n"
      ]
    },
    {
      "cell_type": "markdown",
      "metadata": {},
      "source": [
        "## Instructions Conditionnelles\n"
      ]
    },
    {
      "cell_type": "markdown",
      "metadata": {},
      "source": [
        "### Opérateurs de Comparaison\n"
      ]
    },
    {
      "cell_type": "markdown",
      "metadata": {},
      "source": [
        "Les opérations de comparaison comparent une valeur ou un opérande et produisent un booléen en fonction d'une condition. Lors de la comparaison de deux valeurs, vous pouvez utiliser ces opérateurs :\n",
        "\n",
        "<ul>\n",
        "    <li>égal : <b>==</b></li>\n",
        "    <li>différent : <b>!=</b></li>\n",
        "    <li>supérieur à : <b>></b></li>\n",
        "    <li>inférieur à : <b>&lt;</b></li>\n",
        "    <li>supérieur ou égal à : <b>>=</b></li>\n",
        "    <li>inférieur ou égal à : <b>&lt;=</b></li>\n",
        "</ul>\n"
      ]
    },
    {
      "cell_type": "markdown",
      "metadata": {},
      "source": [
        "Assignons à <code>a</code> une valeur de 5. Utilisez l'opérateur d'égalité, noté par deux signes <b>==</b>, pour déterminer si deux valeurs sont égales. Le cas ci-dessous compare la variable <code>a</code> avec 6.\n"
      ]
    },
    {
      "cell_type": "code",
      "execution_count": null,
      "metadata": {},
      "outputs": [],
      "source": [
        "# Condition d'égalité\n",
        "\n",
        "a = 5\n",
        "a == 6"
      ]
    },
    {
      "cell_type": "markdown",
      "metadata": {},
      "source": [
        "Le résultat est <b>Faux</b>, car 5 n'est pas égal à 6.\n"
      ]
    },
    {
      "cell_type": "markdown",
      "metadata": {},
      "source": [
        "Considérons l'opérateur de comparaison d'inégalité suivant : <code>i > 5</code>. Si la valeur de l'opérande de gauche, dans ce cas la variable <b>i</b>, est supérieure à la valeur de l'opérande de droite, dans ce cas 5, alors l'instruction est <b>Vrai</b>. Sinon, l'instruction est <b>Faux</b>. Si <b>i</b> est égal à 6, comme 6 est supérieur à 5, le résultat est <b>Vrai</b>.\n"
      ]
    },
    {
      "cell_type": "code",
      "execution_count": null,
      "metadata": {},
      "outputs": [],
      "source": [
        "# Signe supérieur à\n",
        "\n",
        "i = 6\n",
        "i > 5"
      ]
    },
    {
      "cell_type": "markdown",
      "metadata": {},
      "source": [
        "Définissons <code>i = 2</code>. L'instruction est fausse car 2 n'est pas supérieur à 5 :\n"
      ]
    },
    {
      "cell_type": "code",
      "execution_count": null,
      "metadata": {},
      "outputs": [],
      "source": [
        "# Signe supérieur à\n",
        "\n",
        "i = 2\n",
        "i > 5"
      ]
    },
    {
      "cell_type": "markdown",
      "metadata": {},
      "source": [
        "Affichons quelques valeurs pour <code>i</code> dans la figure. Définissez les valeurs supérieures à 5 en vert et les autres en rouge. La région verte représente les cas où la condition est **Vrai**, la région rouge où l'instruction est **Faux**. Si la valeur de <code>i</code> est 2, nous obtenons **Faux** car 2 se trouve dans la région rouge. De même, si la valeur de <code>i</code> est 6, nous obtenons **Vrai** car la condition se trouve dans la région verte.\n"
      ]
    },
    {
      "cell_type": "markdown",
      "metadata": {},
      "source": [
        "<img src=\"https://cf-courses-data.s3.us.cloud-object-storage.appdomain.cloud/IBMDeveloperSkillsNetwork-PY0101EN-SkillsNetwork/labs/Module%203/images/CondsGreater.gif\" width=\"650\">\n"
      ]
    },
    {
      "cell_type": "markdown",
      "metadata": {},
      "source": [
        "Le test d'inégalité utilise un point d'exclamation précédant le signe égal. Si deux opérandes ne sont pas égaux, la condition devient **Vrai**. Par exemple, la condition suivante produira **Vrai** tant que la valeur de <code>i</code> n'est pas égale à 6 :\n"
      ]
    },
    {
      "cell_type": "code",
      "execution_count": null,
      "metadata": {},
      "outputs": [],
      "source": [
        "# Signe d'inégalité\n",
        "\n",
        "i = 2\n",
        "i != 6"
      ]
    },
    {
      "cell_type": "markdown",
      "metadata": {},
      "source": [
        "Lorsque <code>i</code> est égal à 6, l'expression d'inégalité produit <b>Faux</b>.\n"
      ]
    },
    {
      "cell_type": "code",
      "execution_count": null,
      "metadata": {},
      "outputs": [],
      "source": [
        "# Signe d'inégalité\n",
        "\n",
        "i = 6\n",
        "i != 6"
      ]
    },
    {
      "cell_type": "markdown",
      "metadata": {},
      "source": [
        "Voyez la ligne numérique ci-dessous. Lorsque la condition est **Vrai**, les nombres correspondants sont marqués en vert, et lorsque la condition est **Faux**, le nombre correspondant est marqué en rouge. Si nous définissons <code>i</code> égal à 2, l'opérateur est vrai, car 2 se trouve dans la région verte. Si nous définissons <code>i</code> égal à 6, nous obtenons **Faux**, car la condition se trouve dans la région rouge.\n"
      ]
    },
    {
      "cell_type": "markdown",
      "metadata": {},
      "source": [
        "<img src=\"https://cf-courses-data.s3.us.cloud-object-storage.appdomain.cloud/IBMDeveloperSkillsNetwork-PY0101EN-SkillsNetwork/labs/Module%203/images/CondsIneq.gif\" width=\"650\">\n"
      ]
    },
    {
      "cell_type": "markdown",
      "metadata": {},
      "source": [
        "Nous pouvons appliquer les mêmes méthodes sur les chaînes de caractères. Par exemple, nous pouvons utiliser un opérateur d'égalité sur deux chaînes différentes. Comme les chaînes ne sont pas égales, nous obtenons **Faux**.\n"
      ]
    },
    {
      "cell_type": "code",
      "execution_count": null,
      "metadata": {},
      "outputs": [],
      "source": [
        "# Utiliser le signe d'égalité pour comparer les chaînes\n",
        "\n",
        "\"ACDC\" == \"The Bodyguard\""
      ]
    },
    {
      "cell_type": "markdown",
      "metadata": {},
      "source": [
        "Si nous utilisons l'opérateur d'inégalité, le résultat sera **Vrai** car les chaînes ne sont pas égales.\n"
      ]
    },
    {
      "cell_type": "code",
      "execution_count": null,
      "metadata": {},
      "outputs": [],
      "source": [
        "# Utiliser le signe d'inégalité pour comparer les chaînes\n",
        "\n",
        "\"ACDC\" != \"The Bodyguard\""
      ]
    },
    {
      "cell_type": "markdown",
      "metadata": {},
      "source": [
        "L'opération d'inégalité est également utilisée pour comparer les lettres/mots/symboles selon la valeur ASCII des lettres. La valeur décimale indiquée dans le tableau suivant représente l'ordre des caractères :\n"
      ]
    },
    {
      "cell_type": "markdown",
      "metadata": {},
      "source": [
        "<style type=\"text/css\">\n",
        ".tg  {border-collapse:collapse;border-spacing:0;}\n",
        ".tg td{border-color:black;border-style:solid;border-width:1px;font-family:Arial, sans-serif;font-size:14px;\n",
        "  overflow:hidden;padding:10px 5px;word-break:normal;}\n",
        ".tg th{border-color:black;border-style:solid;border-width:1px;font-family:Arial, sans-serif;font-size:14px;\n",
        "  font-weight:normal;overflow:hidden;padding:10px 5px;word-break:normal;}\n",
        ".tg .tg-baqh{text-align:center;vertical-align:top}\n",
        ".tg .tg-7geq{background-color:#ffffc7;text-align:center;vertical-align:top}\n",
        ".tg .tg-1cln{background-color:#ffcc67;font-size:100%;font-weight:bold;text-align:center;vertical-align:top}\n",
        ".tg .tg-xozw{background-color:#ffcc67;font-weight:bold;text-align:center;vertical-align:top}\n",
        "</style>\n",
        "\n",
        "<table class=\"tg\">\n",
        "<thead>\n",
        "  <tr>\n",
        "    <th class=\"tg-1cln\">Caractère</th>\n",
        "    <th class=\"tg-xozw\">ASCII</th>\n",
        "    <th class=\"tg-xozw\">Caractère</th>\n",
        "    <th class=\"tg-xozw\">ASCII</th>\n",
        "    <th class=\"tg-xozw\">Caractère</th>\n",
        "    <th class=\"tg-xozw\">ASCII</th>\n",
        "    <th class=\"tg-xozw\">Caractère</th>\n",
        "    <th class=\"tg-xozw\">ASCII</th>\n",
        "  </tr>\n",
        "</thead>\n",
        "<tbody>\n",
        "  <tr>\n",
        "    <td class=\"tg-7geq\">A</td>\n",
        "    <td class=\"tg-baqh\">65</td>\n",
        "    <td class=\"tg-7geq\">N</td>\n",
        "    <td class=\"tg-baqh\">78</td>\n",
        "    <td class=\"tg-7geq\">a</td>\n",
        "    <td class=\"tg-baqh\">97</td>\n",
        "    <td class=\"tg-7geq\">n</td>\n",
        "    <td class=\"tg-baqh\">110</td>\n",
        "  </tr>\n",
        "  <tr>\n",
        "    <td class=\"tg-7geq\">B</td>\n",
        "    <td class=\"tg-baqh\">66</td>\n",
        "    <td class=\"tg-7geq\">O</td>\n",
        "    <td class=\"tg-baqh\">79</td>\n",
        "    <td class=\"tg-7geq\">b</td>\n",
        "    <td class=\"tg-baqh\">98</td>\n",
        "    <td class=\"tg-7geq\">o</td>\n",
        "    <td class=\"tg-baqh\">111</td>\n",
        "  </tr>\n",
        "  <tr>\n",
        "    <td class=\"tg-7geq\">C</td>\n",
        "    <td class=\"tg-baqh\">67</td>\n",
        "    <td class=\"tg-7geq\">P</td>\n",
        "    <td class=\"tg-baqh\">80</td>\n",
        "    <td class=\"tg-7geq\">c</td>\n",
        "    <td class=\"tg-baqh\">99</td>\n",
        "    <td class=\"tg-7geq\">p</td>\n",
        "    <td class=\"tg-baqh\">112</td>\n",
        "  </tr>\n",
        "  <tr>\n",
        "    <td class=\"tg-7geq\">D</td>\n",
        "    <td class=\"tg-baqh\">68</td>\n",
        "    <td class=\"tg-7geq\">Q</td>\n",
        "    <td class=\"tg-baqh\">81</td>\n",
        "    <td class=\"tg-7geq\">d</td>\n",
        "    <td class=\"tg-baqh\">100</td>\n",
        "    <td class=\"tg-7geq\">q</td>\n",
        "    <td class=\"tg-baqh\">113</td>\n",
        "  </tr>\n",
        "  <tr>\n",
        "    <td class=\"tg-7geq\">E</td>\n",
        "    <td class=\"tg-baqh\">69</td>\n",
        "    <td class=\"tg-7geq\">R</td>\n",
        "    <td class=\"tg-baqh\">82</td>\n",
        "    <td class=\"tg-7geq\">e</td>\n",
        "    <td class=\"tg-baqh\">101</td>\n",
        "    <td class=\"tg-7geq\">r</td>\n",
        "    <td class=\"tg-baqh\">114</td>\n",
        "  </tr>\n",
        "  <tr>\n",
        "    <td class=\"tg-7geq\">F</td>\n",
        "    <td class=\"tg-baqh\">70</td>\n",
        "    <td class=\"tg-7geq\">S</td>\n",
        "    <td class=\"tg-baqh\">83</td>\n",
        "    <td class=\"tg-7geq\">f</td>\n",
        "    <td class=\"tg-baqh\">102</td>\n",
        "    <td class=\"tg-7geq\">s</td>\n",
        "    <td class=\"tg-baqh\">115</td>\n",
        "  </tr>\n",
        "  <tr>\n",
        "    <td class=\"tg-7geq\">G</td>\n",
        "    <td class=\"tg-baqh\">71</td>\n",
        "    <td class=\"tg-7geq\">T</td>\n",
        "    <td class=\"tg-baqh\">84</td>\n",
        "    <td class=\"tg-7geq\">g</td>\n",
        "    <td class=\"tg-baqh\">103</td>\n",
        "    <td class=\"tg-7geq\">t</td>\n",
        "    <td class=\"tg-baqh\">116</td>\n",
        "  </tr>\n",
        "  <tr>\n",
        "    <td class=\"tg-7geq\">H</td>\n",
        "    <td class=\"tg-baqh\">72</td>\n",
        "    <td class=\"tg-7geq\">U</td>\n",
        "    <td class=\"tg-baqh\">85</td>\n",
        "    <td class=\"tg-7geq\">h</td>\n",
        "    <td class=\"tg-baqh\">104</td>\n",
        "    <td class=\"tg-7geq\">u</td>\n",
        "    <td class=\"tg-baqh\">117</td>\n",
        "  </tr>\n",
        "  <tr>\n",
        "    <td class=\"tg-7geq\">I</td>\n",
        "    <td class=\"tg-baqh\">73</td>\n",
        "    <td class=\"tg-7geq\">V</td>\n",
        "    <td class=\"tg-baqh\">86</td>\n",
        "    <td class=\"tg-7geq\">i</td>\n",
        "    <td class=\"tg-baqh\">105</td>\n",
        "    <td class=\"tg-7geq\">v</td>\n",
        "    <td class=\"tg-baqh\">118</td>\n",
        "  </tr>\n",
        "  <tr>\n",
        "    <td class=\"tg-7geq\">J</td>\n",
        "    <td class=\"tg-baqh\">74</td>\n",
        "    <td class=\"tg-7geq\">W</td>\n",
        "    <td class=\"tg-baqh\">87</td>\n",
        "    <td class=\"tg-7geq\">j</td>\n",
        "    <td class=\"tg-baqh\">106</td>\n",
        "    <td class=\"tg-7geq\">w</td>\n",
        "    <td class=\"tg-baqh\">119</td>\n",
        "  </tr>\n",
        "  <tr>\n",
        "    <td class=\"tg-7geq\">K</td>\n",
        "    <td class=\"tg-baqh\">75</td>\n",
        "    <td class=\"tg-7geq\">X</td>\n",
        "    <td class=\"tg-baqh\">88</td>\n",
        "    <td class=\"tg-7geq\">k</td>\n",
        "    <td class=\"tg-baqh\">107</td>\n",
        "    <td class=\"tg-7geq\">x</td>\n",
        "    <td class=\"tg-baqh\">120</td>\n",
        "  </tr>\n",
        "  <tr>\n",
        "    <td class=\"tg-7geq\">L</td>\n",
        "    <td class=\"tg-baqh\">76</td>\n",
        "    <td class=\"tg-7geq\">Y</td>\n",
        "    <td class=\"tg-baqh\">89</td>\n",
        "    <td class=\"tg-7geq\">l</td>\n",
        "    <td class=\"tg-baqh\">108</td>\n",
        "    <td class=\"tg-7geq\">y</td>\n",
        "    <td class=\"tg-baqh\">121</td>\n",
        "  </tr>\n",
        "  <tr>\n",
        "    <td class=\"tg-7geq\">M</td>\n",
        "    <td class=\"tg-baqh\">77</td>\n",
        "    <td class=\"tg-7geq\">Z</td>\n",
        "    <td class=\"tg-baqh\">90</td>\n",
        "    <td class=\"tg-7geq\">m</td>\n",
        "    <td class=\"tg-baqh\">109</td>\n",
        "    <td class=\"tg-7geq\">z</td>\n",
        "    <td class=\"tg-baqh\">122</td>\n",
        "  </tr>\n",
        "</tbody>\n",
        "</table>\n"
      ]
    },
    {
      "cell_type": "markdown",
      "metadata": {},
      "source": [
        "Par exemple, le code ASCII pour <b>!</b> est 33, tandis que le code ASCII pour <b>+</b> est 43. Par conséquent, <b>+</b> est plus grand que <b>!</b> car 43 est supérieur à 33.\n"
      ]
    },
    {
      "cell_type": "markdown",
      "metadata": {},
      "source": [
        "De même, à partir du tableau ci-dessus, nous voyons que la valeur pour <b>A</b> est 65, et la valeur pour <b>B</b> est 66, donc :\n"
      ]
    },
    {
      "cell_type": "code",
      "execution_count": null,
      "metadata": {},
      "outputs": [],
      "source": [
        "# Comparer les caractères\n",
        "\n",
        "'B' > 'A'"
      ]
    },
    {
      "cell_type": "markdown",
      "metadata": {},
      "source": [
        "Lorsqu'il y a plusieurs lettres, la première lettre prend la priorité dans l'ordre :\n"
      ]
    },
    {
      "cell_type": "code",
      "execution_count": null,
      "metadata": {},
      "outputs": [],
      "source": [
        "# Comparer les caractères\n",
        "\n",
        "'BA' > 'AB'"
      ]
    },
    {
      "cell_type": "markdown",
      "metadata": {},
      "source": [
        "<b>Note</b> : Les lettres majuscules ont un code ASCII différent des lettres minuscules, ce qui signifie que la comparaison entre les lettres en Python est sensible à la casse.\n"
      ]
    },
    {
      "cell_type": "markdown",
      "metadata": {},
      "source": [
        "### Branchements\n"
      ]
    },
    {
      "cell_type": "markdown",
      "metadata": {},
      "source": [
        "Les branchements permettent d'exécuter différentes instructions pour différentes entrées. Il est utile de penser à une instruction **if** comme une pièce verrouillée : si l'instruction est **Vrai**, nous pouvons entrer dans la pièce et le programme exécutera certaines tâches prédéfinies, mais si l'instruction est **Faux**, le programme ignorera la tâche.\n"
      ]
    },
    {
      "cell_type": "markdown",
      "metadata": {},
      "source": [
        "Par exemple, considérons un rectangle bleu représentant un concert d'ACDC. Si la personne est âgée de plus de 18 ans, elle peut entrer au concert d'ACDC. Si elle a 18 ans ou moins, elle ne peut pas entrer au concert.\n",
        "\n",
        "Nous pouvons utiliser les instructions conditionnelles apprises précédemment comme conditions à vérifier dans l'instruction **if**. La syntaxe est aussi simple que <code>if <i>instruction conditionnelle</i> :</code>, qui contient le mot <code>if</code>, une instruction conditionnelle et un deux-points à la fin. Commencez vos tâches qui doivent être exécutées sous cette condition sur une nouvelle ligne avec une indentation. Les lignes de code après le deux-points et avec une indentation ne seront exécutées que lorsque l'instruction **if** est **Vrai**. Les tâches se terminent lorsque la ligne de code n'a plus d'indentation.\n",
        "\n",
        "Dans le cas ci-dessous, le code <code>print(\"vous pouvez entrer\")</code> est exécuté uniquement si la variable <code>age</code> est supérieure à 18, ce qui représente un cas Vrai, car cette ligne de code est indentée. Cependant, l'exécution de <code>print(\"passez votre chemin\")</code> ne sera pas influencée par l'instruction if.\n"
      ]
    },
    {
      "cell_type": "code",
      "execution_count": null,
      "metadata": {},
      "outputs": [],
      "source": [
        "# Exemple d'instruction if\n",
        "\n",
        "age = 19\n",
        "#age = 18\n",
        "\n",
        "#expression qui peut être vraie ou fausse\n",
        "if age > 18:\n",
        "    \n",
        "    #dans une indentation, nous avons l'expression exécutée si la condition est vraie\n",
        "    print(\"vous pouvez entrer\" )\n",
        "\n",
        "#Les instructions après l'instruction if s'exécuteront que la condition soit vraie ou fausse\n",
        "print(\"passez votre chemin\")"
      ]
    },
    {
      "cell_type": "markdown",
      "metadata": {},
      "source": [
        "<i>Essayez de décommenter la variable age</i>\n"
      ]
    },
    {
      "cell_type": "markdown",
      "metadata": {},
      "source": [
        "Il est utile d'utiliser le diagramme suivant pour illustrer le processus. À gauche, nous voyons ce qui se passe lorsque la condition est <b>Vrai</b>. La personne entre au concert d'ACDC, ce qui représente l'exécution du code dans l'indentation ; ensuite, elle passe son chemin. À droite, nous voyons ce qui se passe lorsque la condition est <b>Faux</b> ; la personne n'obtient pas l'accès, et elle passe son chemin. Dans ce cas, le segment de code dans l'indentation ne s'exécute pas, mais le reste des instructions est exécuté.\n"
      ]
    },
    {
      "cell_type": "markdown",
      "metadata": {},
      "source": [
        "<img src=\"https://cf-courses-data.s3.us.cloud-object-storage.appdomain.cloud/IBMDeveloperSkillsNetwork-PY0101EN-SkillsNetwork/labs/Module%203/images/CondsIf.gif\" width=\"650\">\n"
      ]
    },
    {
      "cell_type": "markdown",
      "metadata": {},
      "source": [
        "L'instruction <code>else</code> exécute un bloc de code si aucune des conditions précédentes n'est **Vrai**. Reprenons l'analogie du concert d'ACDC. Si l'utilisateur a 17 ans, il ne peut pas aller au concert d'ACDC, mais il peut aller au concert de Meat Loaf.\n",
        "La syntaxe de l'instruction <code>else</code> est similaire à celle de l'instruction <code>if</code>, soit <code>else :</code>. Notez qu'il n'y a pas d'instruction conditionnelle pour <code>else</code>.\n",
        "Essayez de modifier les valeurs de <code>age</code> pour voir ce qui se passe :\n"
      ]
    },
    {
      "cell_type": "code",
      "execution_count": null,
      "metadata": {},
      "outputs": [],
      "source": [
        "# Exemple d'instruction else\n",
        "\n",
        "age = 18\n",
        "# age = 19\n",
        "\n",
        "if age > 18:\n",
        "    print(\"vous pouvez entrer\" )\n",
        "else:\n",
        "    print(\"allez voir Meat Loaf\" )\n",
        "    \n",
        "print(\"passez votre chemin\")"
      ]
    },
    {
      "cell_type": "markdown",
      "metadata": {},
      "source": [
        "Le processus est démontré ci-dessous, où chaque possibilité est illustrée de chaque côté de l'image. À gauche, nous avons le cas où l'âge est de 17 ans, nous définissons la variable age à 17, et cela correspond à la personne assistant au concert de Meat Loaf. La partie droite montre ce qui se passe lorsque la personne a plus de 18 ans, dans ce cas 19, et la personne obtient l'accès au concert.\n"
      ]
    },
    {
      "cell_type": "markdown",
      "metadata": {},
      "source": [
        "<img src=\"https://cf-courses-data.s3.us.cloud-object-storage.appdomain.cloud/IBMDeveloperSkillsNetwork-PY0101EN-SkillsNetwork/labs/Module%203/images/CondsElse.gif\" width=\"650\">\n"
      ]
    },
    {
      "cell_type": "markdown",
      "metadata": {},
      "source": [
        "L'instruction <code>elif</code>, abréviation de else if, permet de vérifier des conditions supplémentaires si les instructions conditionnelles précédentes sont <b>Faux</b>. Si la condition de l'instruction <code>elif</code> est <b>Vrai</b>, les expressions alternatives seront exécutées. Prenons l'exemple du concert, où si la personne a 18 ans, elle ira au concert de Pink Floyd au lieu d'assister au concert d'ACDC ou de Meat Loaf. Une personne de 18 ans entre dans la zone, et comme elle n'a pas plus de 18 ans, elle ne peut pas voir ACDC, mais comme elle a exactement 18 ans, elle assiste à Pink Floyd. Après avoir vu Pink Floyd, elle passe son chemin. La syntaxe de l'instruction <code>elif</code> est similaire, nous changeons simplement le <code>if</code> de l'instruction <code>if</code> en <code>elif</code>.\n"
      ]
    },
    {
      "cell_type": "code",
      "execution_count": null,
      "metadata": {},
      "outputs": [],
      "source": [
        "# Exemple d'instruction elif\n",
        "\n",
        "age = 18\n",
        "\n",
        "if age > 18:\n",
        "    print(\"vous pouvez entrer\" )\n",
        "elif age == 18:\n",
        "    print(\"allez voir Pink Floyd\")\n",
        "else:\n",
        "    print(\"allez voir Meat Loaf\" )\n",
        "    \n",
        "print(\"passez votre chemin\")"
      ]
    },
    {
      "cell_type": "markdown",
      "metadata": {},
      "source": [
        "Les trois combinaisons sont montrées dans la figure ci-dessous. La région la plus à gauche montre ce qui se passe lorsque la personne a moins de 18 ans. La partie centrale montre lorsque la personne a exactement 18 ans. La partie la plus à droite montre lorsque la personne a plus de 18 ans.\n"
      ]
    },
    {
      "cell_type": "markdown",
      "metadata": {},
      "source": [
        "<img src=\"https://cf-courses-data.s3.us.cloud-object-storage.appdomain.cloud/IBMDeveloperSkillsNetwork-PY0101EN-SkillsNetwork/labs/Module%203/images/CondsElif.gif\" width=\"650\">\n"
      ]
    },
    {
      "cell_type": "markdown",
      "metadata": {},
      "source": [
        "Regardez le code suivant :\n"
      ]
    },
    {
      "cell_type": "code",
      "execution_count": null,
      "metadata": {},
      "outputs": [],
      "source": [
        "# Exemple d'instruction conditionnelle\n",
        "\n",
        "album_year = 1983\n",
        "album_year = 1970\n",
        "\n",
        "if album_year > 1980:\n",
        "    print(\"L'année de l'album est supérieure à 1980\")\n",
        "    \n",
        "print('faites quelque chose..')"
      ]
    },
    {
      "cell_type": "markdown",
      "metadata": {},
      "source": [
        "N'hésitez pas à modifier la valeur de <code>album_year</code> pour d'autres valeurs -- vous verrez que le résultat change !\n"
      ]
    },
    {
      "cell_type": "markdown",
      "metadata": {},
      "source": [
        "Notez que le code dans le bloc <b>indenté</b> ci-dessus ne sera exécuté que si les résultats sont <b>Vrai</b>.\n"
      ]
    },
    {
      "cell_type": "markdown",
      "metadata": {},
      "source": [
        "Comme précédemment, nous pouvons ajouter un bloc <code>else</code> au bloc <code>if</code>. Le code dans le bloc <code>else</code> ne sera exécuté que si le résultat est <b>Faux</b>.\n",
        "\n",
        "<b>Syntaxe :</b>\n",
        "\n",
        "if (condition) :\n",
        "\\# faire quelque chose\n",
        "else :\n",
        "\\# faire autre chose\n"
      ]
    },
    {
      "cell_type": "markdown",
      "metadata": {},
      "source": [
        "Si la condition dans l'instruction <code>if</code> est <b>Faux</b>, l'instruction après le bloc <code>else</code> sera exécutée. Cela est démontré dans la figure :\n"
      ]
    },
    {
      "cell_type": "markdown",
      "metadata": {},
      "source": [
        "<img src=\"https://cf-courses-data.s3.us.cloud-object-storage.appdomain.cloud/IBMDeveloperSkillsNetwork-PY0101EN-SkillsNetwork/labs/Module%203/images/CondsLogicMap.png\" width=\"650\">\n"
      ]
    },
    {
      "cell_type": "code",
      "execution_count": null,
      "metadata": {},
      "outputs": [],
      "source": [
        "# Exemple d'instruction conditionnelle\n",
        "\n",
        "album_year = 1983\n",
        "#album_year = 1970\n",
        "\n",
        "if album_year > 1980:\n",
        "    print(\"L'année de l'album est supérieure à 1980\")\n",
        "else:\n",
        "    print(\"inférieure à 1980\")\n",
        "\n",
        "print('faites quelque chose..')"
      ]
    },
    {
      "cell_type": "markdown",
      "metadata": {},
      "source": [
        "N'hésitez pas à modifier la valeur de <code>album_year</code> pour d'autres valeurs -- vous verrez que le résultat change en fonction de cela !\n"
      ]
    },
    {
      "cell_type": "markdown",
      "metadata": {},
      "source": [
        "### Opérateurs logiques\n"
      ]
    },
    {
      "cell_type": "markdown",
      "metadata": {},
      "source": [
        "Parfois, vous voulez vérifier plusieurs conditions à la fois. Par exemple, vous pourriez vouloir vérifier si une condition et une autre condition sont toutes deux **Vrai**. Les opérateurs logiques vous permettent de combiner ou de modifier des conditions.\n",
        "\n",
        "<ul>\n",
        "    <li><code>and</code></li>\n",
        "    <li><code>or</code></li>\n",
        "    <li><code>not</code></li>\n",
        "</ul>\n",
        "\n",
        "Ces opérateurs sont résumés pour deux variables à l'aide des tables de vérité suivantes :\n"
      ]
    },
    {
      "cell_type": "markdown",
      "metadata": {},
      "source": [
        "<img src=\"https://cf-courses-data.s3.us.cloud-object-storage.appdomain.cloud/IBMDeveloperSkillsNetwork-PY0101EN-SkillsNetwork/labs/Module%203/images/CondsTable.png\" width=\"650\">\n"
      ]
    },
    {
      "cell_type": "markdown",
      "metadata": {},
      "source": [
        "L'instruction <code>and</code> est uniquement **Vrai** lorsque les deux conditions sont vraies. L'instruction <code>or</code> est Vrai si l'une des conditions, ou les deux, est **Vrai**. L'instruction <code>not</code> produit la valeur de vérité opposée.\n"
      ]
    },
    {
      "cell_type": "markdown",
      "metadata": {},
      "source": [
        "Voyons comment déterminer si un album a été publié après 1979 (1979 n'est pas inclus) et avant 1990 (1990 n'est pas inclus). Les périodes entre 1980 et 1989 satisfont cette condition. Cela est démontré dans la figure ci-dessous. Le vert sur les lignes <strong>a</strong> et <strong>b</strong> représente les périodes où l'instruction est **Vrai**. Le vert sur la ligne <strong>c</strong> représente les cas où les deux conditions sont **Vrai**, cela correspond à l'endroit où les régions vertes se chevauchent.\n"
      ]
    },
    {
      "cell_type": "markdown",
      "metadata": {},
      "source": [
        "<img src=\"https://cf-courses-data.s3.us.cloud-object-storage.appdomain.cloud/IBMDeveloperSkillsNetwork-PY0101EN-SkillsNetwork/labs/Module%203/images/CondsEgOne.png\" width=\"650\">\n"
      ]
    },
    {
      "cell_type": "markdown",
      "metadata": {},
      "source": [
        "Le bloc de code pour effectuer cette vérification est donné par :\n"
      ]
    },
    {
      "cell_type": "code",
      "execution_count": null,
      "metadata": {},
      "outputs": [],
      "source": [
        "# Exemple d'instruction conditionnelle\n",
        "\n",
        "album_year = 1980\n",
        "\n",
        "if(album_year > 1979) and (album_year < 1990):\n",
        "    print (\"L'année de l'album se situe entre 1980 et 1989\")\n",
        "    \n",
        "print(\"\")\n",
        "print(\"Faites quelque chose..\")"
      ]
    },
    {
      "cell_type": "markdown",
      "metadata": {},
      "source": [
        "Pour déterminer si un album a été publié avant 1980 (1979 et avant) ou après 1989 (1990 et après), une instruction or peut être utilisée. Les périodes avant 1980 (1979 et avant) ou après 1989 (1990 et après) satisfont cette condition. Cela est démontré dans la figure suivante, la couleur verte dans <strong>a</strong> et <strong>b</strong> représente les périodes où l'instruction est vraie. La couleur verte dans <strong>c</strong> représente les cas où au moins une des conditions est vraie.\n"
      ]
    },
    {
      "cell_type": "markdown",
      "metadata": {},
      "source": [
        "<img src=\"https://cf-courses-data.s3.us.cloud-object-storage.appdomain.cloud/IBMDeveloperSkillsNetwork-PY0101EN-SkillsNetwork/labs/Module%203/images/CondsEgTwo.png\" width=\"650\">\n"
      ]
    },
    {
      "cell_type": "markdown",
      "metadata": {},
      "source": [
        "Le bloc de code pour effectuer cette vérification est donné par :\n"
      ]
    },
    {
      "cell_type": "code",
      "execution_count": null,
      "metadata": {},
      "outputs": [],
      "source": [
        "# Exemple d'instruction conditionnelle\n",
        "\n",
        "album_year = 1990\n",
        "\n",
        "if(album_year < 1980) or (album_year > 1989):\n",
        "    print (\"L'album n'a pas été produit dans les années 1980\")\n",
        "else:\n",
        "    print(\"L'album a été produit dans les années 1980 \")"
      ]
    },
    {
      "cell_type": "markdown",
      "metadata": {},
      "source": [
        "L'instruction <code>not</code> vérifie si l'instruction est fausse :\n"
      ]
    },
    {
      "cell_type": "code",
      "execution_count": null,
      "metadata": {},
      "outputs": [],
      "source": [
        "# Exemple d'instruction conditionnelle\n",
        "\n",
        "album_year = 1983\n",
        "\n",
        "if not (album_year == 1984):\n",
        "    print (\"L'année de l'album n'est pas 1984\")"
      ]
    },
    {
      "cell_type": "markdown",
      "metadata": {},
      "source": [
        "<hr>\n"
      ]
    },
    {
      "cell_type": "markdown",
      "metadata": {},
      "source": [
        "## Quiz sur les Conditions\n"
      ]
    },
    {
      "cell_type": "markdown",
      "metadata": {},
      "source": [
        "Analysez un ensemble de données contenant des informations sur des athlètes renommés, incluant leurs noms, sports et exploits notables, pour appliquer la logique conditionnelle et les techniques de filtrage.\n"
      ]
    },
    {
      "cell_type": "markdown",
      "metadata": {},
      "source": [
        "<table border=\"1\">\n",
        "  ascended=\"true\" bgcolor=\"transparent\" style=\"border-collapse: collapse; border: none; font-size: 100%; font-family: inherit; padding: 0px; margin: 0px; \">\n",
        "  <tr>\n",
        "    <th style=\"border: 1px solid black; padding: 5px; text-align: center; font-weight: bold; background-color: #ffcc67;\">Nom du joueur</th>\n",
        "    <th style=\"border: 1px solid black; padding: 5px; text-align: center; font-weight: bold; background-color: #ffcc67;\">Sport</th>\n",
        "    <th style=\"border: 1px solid black; padding: 5px; text-align: center; font-weight: bold; background-color: #ffcc67;\">Exploits</th>\n",
        "  </tr>\n",
        "  <tr>\n",
        "    <td style=\"border: 1px solid black; padding: 5px; text-align: center; background-color: #ffffc7;\">Serena Williams</td>\n",
        "    <td style=\"border: 1px solid black; padding: 5px; text-align: center; background-color: #ffffc7;\">Tennis</td>\n",
        "    <td style=\"border: 1px solid black; padding: 5px; text-align: center; background-color: #ffffc7;\">23 Grand Slams</td>\n",
        "  </tr>\n",
        "  <tr>\n",
        "    <td style=\"border: 1px solid black; padding: 5px; text-align: center; background-color: #ffffc7;\">Lionel Messi</td>\n",
        "    <td style=\"border: 1px solid black; padding: 5px; text-align: center; background-color: #ffffc7;\">Football</td>\n",
        "    <td style=\"border: 1px solid black; padding: 5px; text-align: center; background-color: #ffffc7;\">7 Ballon d'Or</td>\n",
        "  </tr>\n",
        "  <tr>\n",
        "    <td style=\"border: 1px solid black; padding: 5px; text-align: center; background-color: #ffffc7;\">Michael Phelps</td>\n",
        "    <td style=\"border: 1px solid black; padding: 5px; text-align: center; background-color: #ffffc7;\">Natation</td>\n",
        "    <td style=\"border: 1px solid black; padding: 5px; text-align: center; background-color: #ffffc7;\">23 médailles d'or</td>\n",
        "  </tr>\n",
        "  <tr>\n",
        "    <td style=\"border: 1px solid black; padding: 5px; text-align: center; background-color: #ffffc7;\">Usain Bolt</td>\n",
        "    <td style=\"border: 1px solid black; padding: 5px; text-align: center; background-color: #ffffc7;\">Athlétisme</td>\n",
        "    <td style=\"border: 1px solid black; padding: 5px; text-align: center; background-color: #ffffc7;\">8 médailles d'or</td>\n",
        "  </tr>\n",
        "  <tr>\n",
        "    <td style=\"border: 1px solid black; padding: 5px; text-align: center; background-color: #ffffc7;\">Roger Federer</td>\n",
        "    <td style=\"border: 1px solid black; padding: 5px; text-align: center; background-color: #ffffc7;\">Tennis</td>\n",
        "    <td style=\"border: 1px solid black; padding: 5px; text-align: center; background-color: #ffffc7;\">20 Grand Slams</td>\n",
        "  </tr>\n",
        "  <tr>\n",
        "    <td style=\"border: 1px solid black; padding: 5px; text-align: center; background-color: #ffffc7;\">Cristiano Ronaldo</td>\n",
        "    <td style=\"border: 1px solid black; padding: 5px; text-align: center; background-color: #ffffc7;\">Football</td>\n",
        "    <td style=\"border: 1px solid black; padding: 5px; text-align: center; background-color: #ffffc7;\">5 Ballon d'Or</td>\n",
        "  </tr>\n",
        "</table>\n"
      ]
    },
    {
      "cell_type": "markdown",
      "metadata": {},
      "source": [
        "Écrivez un programme Python pour vérifier si le joueur <b>Lionel Messi</b> a plus de 10 exploits. Si la condition est vraie, affichez le nom du joueur, le sport et les exploits, sinon affichez qu'il n'a pas plus de 10 exploits.\n"
      ]
    },
    {
      "cell_type": "code",
      "execution_count": null,
      "metadata": {},
      "outputs": [],
      "source": [
        "# Écrivez votre code ci-dessous et appuyez sur Shift+Enter pour exécuter\n"
      ]
    },
    {
      "cell_type": "markdown",
      "metadata": {},
      "source": [
        "<hr>\n"
      ]
    },
    {
      "cell_type": "markdown",
      "metadata": {},
      "source": [
        "Écrivez un programme Python pour vérifier si un joueur pratique le tennis ou a exactement 20 exploits. Si la condition est vraie, affichez un message de succès.\n"
      ]
    },
    {
      "cell_type": "code",
      "execution_count": null,
      "metadata": {},
      "outputs": [],
      "source": [
        "# Écrivez votre code ci-dessous et appuyez sur Shift+Enter pour exécuter\n"
      ]
    },
    {
      "cell_type": "markdown",
      "metadata": {},
      "source": [
        "<hr>\n"
      ]
    },
    {
      "cell_type": "markdown",
      "metadata": {},
      "source": [
        "Écrivez un programme Python pour vérifier si un joueur a moins de 10 exploits et ne joue pas au football. Affichez ses détails s'il satisfait aux critères.\n"
      ]
    },
    {
      "cell_type": "code",
      "execution_count": null,
      "metadata": {},
      "outputs": [],
      "source": [
        "# Écrivez votre code ci-dessous et appuyez sur Shift+Enter pour exécuter\n"
      ]
    },
    {
      "cell_type": "markdown",
      "metadata": {},
      "source": [
        "<hr>\n",
        "<p>Félicitations ! Vous avez terminé la leçon ainsi que l’atelier pratique sur les conditions.\n",
        "<hr>\n"
      ]
    },
    {
      "cell_type": "markdown",
      "metadata": {},
      "source": []
    }
  ],
  "metadata": {
    "kernelspec": {
      "display_name": "Python (Pyodide)",
      "language": "python",
      "name": "python"
    },
    "language_info": {
      "codemirror_mode": {
        "name": "python",
        "version": 3
      },
      "file_extension": ".py",
      "mimetype": "text/x-python",
      "name": "python",
      "nbconvert_exporter": "python",
      "pygments_lexer": "ipython3",
      "version": "3.8"
    },
    "prev_pub_hash": "da8f68a1de30709e7ecaaf2d7121409bb49c8a2e3ad535de4d476363ecf26c7c"
  },
  "nbformat": 4,
  "nbformat_minor": 4
}
